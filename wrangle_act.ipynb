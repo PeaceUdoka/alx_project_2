{
  "cells": [
    {
      "cell_type": "markdown",
      "metadata": {
        "id": "view-in-github",
        "colab_type": "text"
      },
      "source": [
        "<a href=\"https://colab.research.google.com/github/PeaceUdoka/alx_project_2/blob/main/wrangle_act.ipynb\" target=\"_parent\"><img src=\"https://colab.research.google.com/assets/colab-badge.svg\" alt=\"Open In Colab\"/></a>"
      ]
    },
    {
      "cell_type": "markdown",
      "metadata": {
        "extensions": {
          "jupyter_dashboards": {
            "version": 1,
            "views": {
              "grid_default": {
                "col": 0,
                "height": 4,
                "hidden": false,
                "row": 0,
                "width": 4
              },
              "report_default": {
                "hidden": false
              }
            }
          }
        },
        "id": "bfy065W9vsiq"
      },
      "source": [
        "# Project: Wrangling and Analyze Data\n",
        "## Table Of Contents\n",
        "<ul>\n",
        "<li><a href=\"#gather\">Data Gathering</a></li>\n",
        "<li><a href=\"#assess\">Assessing Data</a></li>\n",
        "<li><a href=\"#clean\">Cleaning Data</a></li>\n",
        "<li><a href=\"#store\">Storing Data</a></li>\n",
        "<li><a href=\"#analyse\">Analysing and Visualising Data</a></li>\n",
        "\n",
        "</ul>"
      ]
    },
    {
      "cell_type": "markdown",
      "metadata": {
        "id": "BneG_2xNvsix"
      },
      "source": [
        "<a id = \"gather\"></a>\n",
        "## Data Gathering\n",
        "Gather **all** three pieces of data for this project and load them in the notebook. \n",
        "1. Directly download the WeRateDogs Twitter archive data (twitter_archive_enhanced.csv)"
      ]
    },
    {
      "cell_type": "code",
      "execution_count": 1,
      "metadata": {
        "extensions": {
          "jupyter_dashboards": {
            "version": 1,
            "views": {
              "grid_default": {
                "hidden": true
              },
              "report_default": {
                "hidden": true
              }
            }
          }
        },
        "id": "Hp3vwy7evsix"
      },
      "outputs": [],
      "source": [
        "import pandas as pd\n",
        "import matplotlib.pyplot as plt\n",
        "%matplotlib inline\n",
        "weRateDogs = pd.read_csv(\"twitter-archive-enhanced.csv\")\n"
      ]
    },
    {
      "cell_type": "markdown",
      "metadata": {
        "id": "mHBk0wQRvsiz"
      },
      "source": [
        "2. Use the Requests library to download the tweet image prediction (image_predictions.tsv)"
      ]
    },
    {
      "cell_type": "code",
      "execution_count": 2,
      "metadata": {
        "id": "s9FCGX8zvsiz"
      },
      "outputs": [],
      "source": [
        "import requests\n",
        "import os"
      ]
    },
    {
      "cell_type": "code",
      "execution_count": 3,
      "metadata": {
        "id": "D9_uKZj7vsi0"
      },
      "outputs": [],
      "source": [
        "imgPred = 'image_predictions.tsv'\n",
        "if not os.path.exists(imgPred):\n",
        "    os.makedirs(imgPred)\n"
      ]
    },
    {
      "cell_type": "code",
      "execution_count": 4,
      "metadata": {
        "id": "Xps1iK7bvsi1"
      },
      "outputs": [],
      "source": [
        "url = ' https://d17h27t6h515a5.cloudfront.net/topher/2017/August/599fd2ad_image-predictions/image-predictions.tsv'\n",
        "response = requests.get(url)"
      ]
    },
    {
      "cell_type": "code",
      "execution_count": 5,
      "metadata": {
        "id": "zs5shU7pvsi1"
      },
      "outputs": [],
      "source": [
        "with open(os.path.join(imgPred, url.split('/')[-1]), mode = 'wb') as imgPred:\n",
        "    imgPred.write(response.content)"
      ]
    },
    {
      "cell_type": "code",
      "execution_count": 7,
      "metadata": {
        "id": "XMoniWaEvsi2"
      },
      "outputs": [],
      "source": [
        "twtImgPred = pd.read_csv(\"image-predictions.tsv\", sep = \"\\t\") "
      ]
    },
    {
      "cell_type": "markdown",
      "metadata": {
        "id": "XZKhvHMavsi3"
      },
      "source": [
        "3. Use the Tweepy library to query additional data via the Twitter API (tweet_json.txt)"
      ]
    },
    {
      "cell_type": "code",
      "execution_count": null,
      "metadata": {
        "id": "0dJNyQbDvsi4"
      },
      "outputs": [],
      "source": [
        "import tweepy\n",
        "from tweepy import OAuthHandler\n",
        "import json\n",
        "from timeit import default_timer as timer\n",
        "\n",
        "# Query Twitter API for each tweet in the Twitter archive and save JSON in a text file\n",
        "# These are hidden to comply with Twitter's API terms and conditions\n",
        "consumer_key = 'HIDDEN'\n",
        "consumer_secret = 'HIDDEN'\n",
        "access_token = 'HIDDEN'\n",
        "access_secret = 'HIDDEN'\n",
        "\n",
        "auth = OAuthHandler(consumer_key, consumer_secret)\n",
        "auth.set_access_token(access_token, access_secret)\n",
        "\n",
        "api = tweepy.API(auth, wait_on_rate_limit=True)\n",
        "\n",
        "# NOTE TO STUDENT WITH MOBILE VERIFICATION ISSUES:\n",
        "# df_1 is a DataFrame with the twitter_archive_enhanced.csv file. You may have to\n",
        "# change line 17 to match the name of your DataFrame with twitter_archive_enhanced.csv\n",
        "# NOTE TO REVIEWER: this student had mobile verification issues so the following\n",
        "# Twitter API code was sent to this student from a Udacity instructor\n",
        "# Tweet IDs for which to gather additional data via Twitter's API\n",
        "tweet_ids = df_1.tweet_id.values\n",
        "len(tweet_ids)\n",
        "\n",
        "# Query Twitter's API for JSON data for each tweet ID in the Twitter archive\n",
        "count = 0\n",
        "fails_dict = {}\n",
        "start = timer()\n",
        "# Save each tweet's returned JSON as a new line in a .txt file\n",
        "with open('tweet_json.txt', 'w') as outfile:\n",
        "    # This loop will likely take 20-30 minutes to run because of Twitter's rate limit\n",
        "    for tweet_id in tweet_ids:\n",
        "        count += 1\n",
        "        print(str(count) + \": \" + str(tweet_id))\n",
        "        try:\n",
        "            tweet = api.get_status(tweet_id, tweet_mode='extended')\n",
        "            print(\"Success\")\n",
        "            json.dump(tweet._json, outfile)\n",
        "            outfile.write('\\n')\n",
        "        except tweepy.TweepError as e:\n",
        "            print(\"Fail\")\n",
        "            fails_dict[tweet_id] = e\n",
        "            pass\n",
        "end = timer()\n",
        "print(end - start)\n",
        "print(fails_dict)\n"
      ]
    },
    {
      "cell_type": "code",
      "execution_count": 9,
      "metadata": {
        "id": "YzPStxUuvsi5"
      },
      "outputs": [],
      "source": [
        "import tweepy\n",
        "twtJson = pd.read_json('tweet-json.txt', lines = True)"
      ]
    },
    {
      "cell_type": "markdown",
      "metadata": {
        "extensions": {
          "jupyter_dashboards": {
            "version": 1,
            "views": {
              "grid_default": {
                "col": 4,
                "height": 4,
                "hidden": false,
                "row": 28,
                "width": 4
              },
              "report_default": {
                "hidden": false
              }
            }
          }
        },
        "id": "EIRofX9Zvsi6"
      },
      "source": [
        "<a id = \"assess\"></a>\n",
        "## Assessing Data\n",
        "Using both visual and programmatic assessement, let's assess the data and find out issues in the data.\n",
        "\n"
      ]
    },
    {
      "cell_type": "code",
      "execution_count": 11,
      "metadata": {
        "colab": {
          "base_uri": "https://localhost:8080/",
          "height": 704
        },
        "id": "gx0G_ydfvsi6",
        "outputId": "d7b96c34-df71-4397-fd2b-fd6ca9a09459"
      },
      "outputs": [
        {
          "output_type": "execute_result",
          "data": {
            "text/plain": [
              "                tweet_id  in_reply_to_status_id  in_reply_to_user_id  \\\n",
              "24    887343217045368832                    NaN                  NaN   \n",
              "2110  670444955656130560                    NaN                  NaN   \n",
              "608   797971864723324932                    NaN                  NaN   \n",
              "1034  745057283344719872                    NaN                  NaN   \n",
              "2124  670374371102445568                    NaN                  NaN   \n",
              "\n",
              "                      timestamp  \\\n",
              "24    2017-07-18 16:08:03 +0000   \n",
              "2110  2015-11-28 03:31:48 +0000   \n",
              "608   2016-11-14 01:18:12 +0000   \n",
              "1034  2016-06-21 00:54:33 +0000   \n",
              "2124  2015-11-27 22:51:19 +0000   \n",
              "\n",
              "                                                 source  \\\n",
              "24    <a href=\"http://twitter.com/download/iphone\" r...   \n",
              "2110  <a href=\"http://twitter.com/download/iphone\" r...   \n",
              "608   <a href=\"http://twitter.com/download/iphone\" r...   \n",
              "1034  <a href=\"http://twitter.com/download/iphone\" r...   \n",
              "2124  <a href=\"http://twitter.com/download/iphone\" r...   \n",
              "\n",
              "                                                   text  retweeted_status_id  \\\n",
              "24    You may not have known you needed to see this ...                  NaN   \n",
              "2110  This is Paull. He just stubbed his toe. 10/10 ...                  NaN   \n",
              "608   Here's a helicopter pupper. He takes off at ra...                  NaN   \n",
              "1034  This is Oliver. He's downright gorgeous as hel...                  NaN   \n",
              "2124  Meet Daisy. She's rebellious. Full of teen ang...                  NaN   \n",
              "\n",
              "      retweeted_status_user_id retweeted_status_timestamp  \\\n",
              "24                         NaN                        NaN   \n",
              "2110                       NaN                        NaN   \n",
              "608                        NaN                        NaN   \n",
              "1034                       NaN                        NaN   \n",
              "2124                       NaN                        NaN   \n",
              "\n",
              "                                          expanded_urls  rating_numerator  \\\n",
              "24    https://twitter.com/dog_rates/status/887343217...                13   \n",
              "2110  https://twitter.com/dog_rates/status/670444955...                10   \n",
              "608   https://twitter.com/dog_rates/status/797971864...                12   \n",
              "1034  https://twitter.com/dog_rates/status/745057283...                12   \n",
              "2124  https://twitter.com/dog_rates/status/670374371...                12   \n",
              "\n",
              "      rating_denominator    name doggo floofer  pupper puppo  \n",
              "24                    10    None  None    None    None  None  \n",
              "2110                  10   Paull  None    None    None  None  \n",
              "608                   10    None  None    None  pupper  None  \n",
              "1034                  10  Oliver  None    None    None  None  \n",
              "2124                  10   Daisy  None    None    None  None  "
            ],
            "text/html": [
              "\n",
              "  <div id=\"df-ef4888dd-a001-4fa6-9e23-090377e78590\">\n",
              "    <div class=\"colab-df-container\">\n",
              "      <div>\n",
              "<style scoped>\n",
              "    .dataframe tbody tr th:only-of-type {\n",
              "        vertical-align: middle;\n",
              "    }\n",
              "\n",
              "    .dataframe tbody tr th {\n",
              "        vertical-align: top;\n",
              "    }\n",
              "\n",
              "    .dataframe thead th {\n",
              "        text-align: right;\n",
              "    }\n",
              "</style>\n",
              "<table border=\"1\" class=\"dataframe\">\n",
              "  <thead>\n",
              "    <tr style=\"text-align: right;\">\n",
              "      <th></th>\n",
              "      <th>tweet_id</th>\n",
              "      <th>in_reply_to_status_id</th>\n",
              "      <th>in_reply_to_user_id</th>\n",
              "      <th>timestamp</th>\n",
              "      <th>source</th>\n",
              "      <th>text</th>\n",
              "      <th>retweeted_status_id</th>\n",
              "      <th>retweeted_status_user_id</th>\n",
              "      <th>retweeted_status_timestamp</th>\n",
              "      <th>expanded_urls</th>\n",
              "      <th>rating_numerator</th>\n",
              "      <th>rating_denominator</th>\n",
              "      <th>name</th>\n",
              "      <th>doggo</th>\n",
              "      <th>floofer</th>\n",
              "      <th>pupper</th>\n",
              "      <th>puppo</th>\n",
              "    </tr>\n",
              "  </thead>\n",
              "  <tbody>\n",
              "    <tr>\n",
              "      <th>24</th>\n",
              "      <td>887343217045368832</td>\n",
              "      <td>NaN</td>\n",
              "      <td>NaN</td>\n",
              "      <td>2017-07-18 16:08:03 +0000</td>\n",
              "      <td>&lt;a href=\"http://twitter.com/download/iphone\" r...</td>\n",
              "      <td>You may not have known you needed to see this ...</td>\n",
              "      <td>NaN</td>\n",
              "      <td>NaN</td>\n",
              "      <td>NaN</td>\n",
              "      <td>https://twitter.com/dog_rates/status/887343217...</td>\n",
              "      <td>13</td>\n",
              "      <td>10</td>\n",
              "      <td>None</td>\n",
              "      <td>None</td>\n",
              "      <td>None</td>\n",
              "      <td>None</td>\n",
              "      <td>None</td>\n",
              "    </tr>\n",
              "    <tr>\n",
              "      <th>2110</th>\n",
              "      <td>670444955656130560</td>\n",
              "      <td>NaN</td>\n",
              "      <td>NaN</td>\n",
              "      <td>2015-11-28 03:31:48 +0000</td>\n",
              "      <td>&lt;a href=\"http://twitter.com/download/iphone\" r...</td>\n",
              "      <td>This is Paull. He just stubbed his toe. 10/10 ...</td>\n",
              "      <td>NaN</td>\n",
              "      <td>NaN</td>\n",
              "      <td>NaN</td>\n",
              "      <td>https://twitter.com/dog_rates/status/670444955...</td>\n",
              "      <td>10</td>\n",
              "      <td>10</td>\n",
              "      <td>Paull</td>\n",
              "      <td>None</td>\n",
              "      <td>None</td>\n",
              "      <td>None</td>\n",
              "      <td>None</td>\n",
              "    </tr>\n",
              "    <tr>\n",
              "      <th>608</th>\n",
              "      <td>797971864723324932</td>\n",
              "      <td>NaN</td>\n",
              "      <td>NaN</td>\n",
              "      <td>2016-11-14 01:18:12 +0000</td>\n",
              "      <td>&lt;a href=\"http://twitter.com/download/iphone\" r...</td>\n",
              "      <td>Here's a helicopter pupper. He takes off at ra...</td>\n",
              "      <td>NaN</td>\n",
              "      <td>NaN</td>\n",
              "      <td>NaN</td>\n",
              "      <td>https://twitter.com/dog_rates/status/797971864...</td>\n",
              "      <td>12</td>\n",
              "      <td>10</td>\n",
              "      <td>None</td>\n",
              "      <td>None</td>\n",
              "      <td>None</td>\n",
              "      <td>pupper</td>\n",
              "      <td>None</td>\n",
              "    </tr>\n",
              "    <tr>\n",
              "      <th>1034</th>\n",
              "      <td>745057283344719872</td>\n",
              "      <td>NaN</td>\n",
              "      <td>NaN</td>\n",
              "      <td>2016-06-21 00:54:33 +0000</td>\n",
              "      <td>&lt;a href=\"http://twitter.com/download/iphone\" r...</td>\n",
              "      <td>This is Oliver. He's downright gorgeous as hel...</td>\n",
              "      <td>NaN</td>\n",
              "      <td>NaN</td>\n",
              "      <td>NaN</td>\n",
              "      <td>https://twitter.com/dog_rates/status/745057283...</td>\n",
              "      <td>12</td>\n",
              "      <td>10</td>\n",
              "      <td>Oliver</td>\n",
              "      <td>None</td>\n",
              "      <td>None</td>\n",
              "      <td>None</td>\n",
              "      <td>None</td>\n",
              "    </tr>\n",
              "    <tr>\n",
              "      <th>2124</th>\n",
              "      <td>670374371102445568</td>\n",
              "      <td>NaN</td>\n",
              "      <td>NaN</td>\n",
              "      <td>2015-11-27 22:51:19 +0000</td>\n",
              "      <td>&lt;a href=\"http://twitter.com/download/iphone\" r...</td>\n",
              "      <td>Meet Daisy. She's rebellious. Full of teen ang...</td>\n",
              "      <td>NaN</td>\n",
              "      <td>NaN</td>\n",
              "      <td>NaN</td>\n",
              "      <td>https://twitter.com/dog_rates/status/670374371...</td>\n",
              "      <td>12</td>\n",
              "      <td>10</td>\n",
              "      <td>Daisy</td>\n",
              "      <td>None</td>\n",
              "      <td>None</td>\n",
              "      <td>None</td>\n",
              "      <td>None</td>\n",
              "    </tr>\n",
              "  </tbody>\n",
              "</table>\n",
              "</div>\n",
              "      <button class=\"colab-df-convert\" onclick=\"convertToInteractive('df-ef4888dd-a001-4fa6-9e23-090377e78590')\"\n",
              "              title=\"Convert this dataframe to an interactive table.\"\n",
              "              style=\"display:none;\">\n",
              "        \n",
              "  <svg xmlns=\"http://www.w3.org/2000/svg\" height=\"24px\"viewBox=\"0 0 24 24\"\n",
              "       width=\"24px\">\n",
              "    <path d=\"M0 0h24v24H0V0z\" fill=\"none\"/>\n",
              "    <path d=\"M18.56 5.44l.94 2.06.94-2.06 2.06-.94-2.06-.94-.94-2.06-.94 2.06-2.06.94zm-11 1L8.5 8.5l.94-2.06 2.06-.94-2.06-.94L8.5 2.5l-.94 2.06-2.06.94zm10 10l.94 2.06.94-2.06 2.06-.94-2.06-.94-.94-2.06-.94 2.06-2.06.94z\"/><path d=\"M17.41 7.96l-1.37-1.37c-.4-.4-.92-.59-1.43-.59-.52 0-1.04.2-1.43.59L10.3 9.45l-7.72 7.72c-.78.78-.78 2.05 0 2.83L4 21.41c.39.39.9.59 1.41.59.51 0 1.02-.2 1.41-.59l7.78-7.78 2.81-2.81c.8-.78.8-2.07 0-2.86zM5.41 20L4 18.59l7.72-7.72 1.47 1.35L5.41 20z\"/>\n",
              "  </svg>\n",
              "      </button>\n",
              "      \n",
              "  <style>\n",
              "    .colab-df-container {\n",
              "      display:flex;\n",
              "      flex-wrap:wrap;\n",
              "      gap: 12px;\n",
              "    }\n",
              "\n",
              "    .colab-df-convert {\n",
              "      background-color: #E8F0FE;\n",
              "      border: none;\n",
              "      border-radius: 50%;\n",
              "      cursor: pointer;\n",
              "      display: none;\n",
              "      fill: #1967D2;\n",
              "      height: 32px;\n",
              "      padding: 0 0 0 0;\n",
              "      width: 32px;\n",
              "    }\n",
              "\n",
              "    .colab-df-convert:hover {\n",
              "      background-color: #E2EBFA;\n",
              "      box-shadow: 0px 1px 2px rgba(60, 64, 67, 0.3), 0px 1px 3px 1px rgba(60, 64, 67, 0.15);\n",
              "      fill: #174EA6;\n",
              "    }\n",
              "\n",
              "    [theme=dark] .colab-df-convert {\n",
              "      background-color: #3B4455;\n",
              "      fill: #D2E3FC;\n",
              "    }\n",
              "\n",
              "    [theme=dark] .colab-df-convert:hover {\n",
              "      background-color: #434B5C;\n",
              "      box-shadow: 0px 1px 3px 1px rgba(0, 0, 0, 0.15);\n",
              "      filter: drop-shadow(0px 1px 2px rgba(0, 0, 0, 0.3));\n",
              "      fill: #FFFFFF;\n",
              "    }\n",
              "  </style>\n",
              "\n",
              "      <script>\n",
              "        const buttonEl =\n",
              "          document.querySelector('#df-ef4888dd-a001-4fa6-9e23-090377e78590 button.colab-df-convert');\n",
              "        buttonEl.style.display =\n",
              "          google.colab.kernel.accessAllowed ? 'block' : 'none';\n",
              "\n",
              "        async function convertToInteractive(key) {\n",
              "          const element = document.querySelector('#df-ef4888dd-a001-4fa6-9e23-090377e78590');\n",
              "          const dataTable =\n",
              "            await google.colab.kernel.invokeFunction('convertToInteractive',\n",
              "                                                     [key], {});\n",
              "          if (!dataTable) return;\n",
              "\n",
              "          const docLinkHtml = 'Like what you see? Visit the ' +\n",
              "            '<a target=\"_blank\" href=https://colab.research.google.com/notebooks/data_table.ipynb>data table notebook</a>'\n",
              "            + ' to learn more about interactive tables.';\n",
              "          element.innerHTML = '';\n",
              "          dataTable['output_type'] = 'display_data';\n",
              "          await google.colab.output.renderOutput(dataTable, element);\n",
              "          const docLink = document.createElement('div');\n",
              "          docLink.innerHTML = docLinkHtml;\n",
              "          element.appendChild(docLink);\n",
              "        }\n",
              "      </script>\n",
              "    </div>\n",
              "  </div>\n",
              "  "
            ]
          },
          "metadata": {},
          "execution_count": 11
        }
      ],
      "source": [
        "#display any five rows in the weRateDogs dataset and visually assess\n",
        "weRateDogs.sample(5)\n"
      ]
    },
    {
      "cell_type": "markdown",
      "metadata": {
        "id": "9O34gh2dvsi7"
      },
      "source": [
        "To understand the dataset, a brief description of each column is given below:\n",
        "\n",
        "**tweet_id** - unique identifier for each tweet\n",
        "\n",
        "**in_reply_to_status_id** -  original Tweet’s ID, If the represented Tweet is a reply\n",
        "\n",
        "**in_reply_to_user_id**\t-  original Tweet author’s ID, If the represented Tweet is a reply\n",
        "\n",
        "**timestamp**\t- time at which tweet was made\n",
        "\n",
        "**source**\t- Utility used to post the Tweet, as an HTML-formatted string. \n",
        "\n",
        "**text** - The actual UTF-8 text of the status update.\n",
        "\n",
        "**retweeted_status_id** - ID of original Tweet that was retweeted.\n",
        "\n",
        "**retweeted_status_user_id** - ID of author of the original Tweet that was retweeted.\n",
        "\n",
        "**retweeted_status_timestamp**\t- time at which retweet was made\n",
        "\n",
        "**expanded_urls**\t\n",
        "\n",
        "**rating_numerator** - numerator of dog rating\t\n",
        "\n",
        "**rating_denominator**\t- denominator of dog rating, whuch is always 10.\n",
        "\n",
        "**name** - name of dog\n",
        "\n",
        "**doggo** - if dog is at doggo stage\n",
        "\n",
        "**floofer**\t- if dog is at floofer stage\n",
        "\n",
        "**pupper** - if dog is at pupper stage\n",
        "\n",
        "**puppo** - if dog is at puppo stage"
      ]
    },
    {
      "cell_type": "code",
      "execution_count": 12,
      "metadata": {
        "colab": {
          "base_uri": "https://localhost:8080/",
          "height": 270
        },
        "id": "_HnSbjrfvsi8",
        "outputId": "f304174a-d9a7-40da-c7ff-7aa19a7923e7"
      },
      "outputs": [
        {
          "output_type": "execute_result",
          "data": {
            "text/plain": [
              "                tweet_id                                          jpg_url  \\\n",
              "1203  741438259667034112  https://pbs.twimg.com/media/CkoeKTPWYAAcWmo.jpg   \n",
              "1205  741793263812808706  https://pbs.twimg.com/media/CkthBj7WgAAsIGb.jpg   \n",
              "719   685906723014619143  https://pbs.twimg.com/media/CYTUhn7WkAEXocW.jpg   \n",
              "1564  793614319594401792  https://pbs.twimg.com/media/CvyVxQRWEAAdSZS.jpg   \n",
              "869   697616773278015490  https://pbs.twimg.com/media/Ca5uv7RVAAA_QEg.jpg   \n",
              "\n",
              "      img_num                        p1   p1_conf  p1_dog                  p2  \\\n",
              "1203        1  Chesapeake_Bay_retriever  0.292675    True             redbone   \n",
              "1205        1                    kuvasz  0.311325    True      French_bulldog   \n",
              "719         1         Yorkshire_terrier  0.414963    True              briard   \n",
              "1564        1          golden_retriever  0.705092    True  Labrador_retriever   \n",
              "869         1                     Lhasa  0.521931    True            Shih-Tzu   \n",
              "\n",
              "       p2_conf  p2_dog                  p3   p3_conf  p3_dog  \n",
              "1203  0.197858    True              vizsla  0.150312    True  \n",
              "1205  0.115349    True  Labrador_retriever  0.068533    True  \n",
              "719   0.063505    True            Pekinese  0.053682    True  \n",
              "1564  0.219721    True              kuvasz  0.015965    True  \n",
              "869   0.403451    True     Tibetan_terrier  0.039912    True  "
            ],
            "text/html": [
              "\n",
              "  <div id=\"df-7d2a0e2c-5d21-49b0-b7f0-93a998d4eb22\">\n",
              "    <div class=\"colab-df-container\">\n",
              "      <div>\n",
              "<style scoped>\n",
              "    .dataframe tbody tr th:only-of-type {\n",
              "        vertical-align: middle;\n",
              "    }\n",
              "\n",
              "    .dataframe tbody tr th {\n",
              "        vertical-align: top;\n",
              "    }\n",
              "\n",
              "    .dataframe thead th {\n",
              "        text-align: right;\n",
              "    }\n",
              "</style>\n",
              "<table border=\"1\" class=\"dataframe\">\n",
              "  <thead>\n",
              "    <tr style=\"text-align: right;\">\n",
              "      <th></th>\n",
              "      <th>tweet_id</th>\n",
              "      <th>jpg_url</th>\n",
              "      <th>img_num</th>\n",
              "      <th>p1</th>\n",
              "      <th>p1_conf</th>\n",
              "      <th>p1_dog</th>\n",
              "      <th>p2</th>\n",
              "      <th>p2_conf</th>\n",
              "      <th>p2_dog</th>\n",
              "      <th>p3</th>\n",
              "      <th>p3_conf</th>\n",
              "      <th>p3_dog</th>\n",
              "    </tr>\n",
              "  </thead>\n",
              "  <tbody>\n",
              "    <tr>\n",
              "      <th>1203</th>\n",
              "      <td>741438259667034112</td>\n",
              "      <td>https://pbs.twimg.com/media/CkoeKTPWYAAcWmo.jpg</td>\n",
              "      <td>1</td>\n",
              "      <td>Chesapeake_Bay_retriever</td>\n",
              "      <td>0.292675</td>\n",
              "      <td>True</td>\n",
              "      <td>redbone</td>\n",
              "      <td>0.197858</td>\n",
              "      <td>True</td>\n",
              "      <td>vizsla</td>\n",
              "      <td>0.150312</td>\n",
              "      <td>True</td>\n",
              "    </tr>\n",
              "    <tr>\n",
              "      <th>1205</th>\n",
              "      <td>741793263812808706</td>\n",
              "      <td>https://pbs.twimg.com/media/CkthBj7WgAAsIGb.jpg</td>\n",
              "      <td>1</td>\n",
              "      <td>kuvasz</td>\n",
              "      <td>0.311325</td>\n",
              "      <td>True</td>\n",
              "      <td>French_bulldog</td>\n",
              "      <td>0.115349</td>\n",
              "      <td>True</td>\n",
              "      <td>Labrador_retriever</td>\n",
              "      <td>0.068533</td>\n",
              "      <td>True</td>\n",
              "    </tr>\n",
              "    <tr>\n",
              "      <th>719</th>\n",
              "      <td>685906723014619143</td>\n",
              "      <td>https://pbs.twimg.com/media/CYTUhn7WkAEXocW.jpg</td>\n",
              "      <td>1</td>\n",
              "      <td>Yorkshire_terrier</td>\n",
              "      <td>0.414963</td>\n",
              "      <td>True</td>\n",
              "      <td>briard</td>\n",
              "      <td>0.063505</td>\n",
              "      <td>True</td>\n",
              "      <td>Pekinese</td>\n",
              "      <td>0.053682</td>\n",
              "      <td>True</td>\n",
              "    </tr>\n",
              "    <tr>\n",
              "      <th>1564</th>\n",
              "      <td>793614319594401792</td>\n",
              "      <td>https://pbs.twimg.com/media/CvyVxQRWEAAdSZS.jpg</td>\n",
              "      <td>1</td>\n",
              "      <td>golden_retriever</td>\n",
              "      <td>0.705092</td>\n",
              "      <td>True</td>\n",
              "      <td>Labrador_retriever</td>\n",
              "      <td>0.219721</td>\n",
              "      <td>True</td>\n",
              "      <td>kuvasz</td>\n",
              "      <td>0.015965</td>\n",
              "      <td>True</td>\n",
              "    </tr>\n",
              "    <tr>\n",
              "      <th>869</th>\n",
              "      <td>697616773278015490</td>\n",
              "      <td>https://pbs.twimg.com/media/Ca5uv7RVAAA_QEg.jpg</td>\n",
              "      <td>1</td>\n",
              "      <td>Lhasa</td>\n",
              "      <td>0.521931</td>\n",
              "      <td>True</td>\n",
              "      <td>Shih-Tzu</td>\n",
              "      <td>0.403451</td>\n",
              "      <td>True</td>\n",
              "      <td>Tibetan_terrier</td>\n",
              "      <td>0.039912</td>\n",
              "      <td>True</td>\n",
              "    </tr>\n",
              "  </tbody>\n",
              "</table>\n",
              "</div>\n",
              "      <button class=\"colab-df-convert\" onclick=\"convertToInteractive('df-7d2a0e2c-5d21-49b0-b7f0-93a998d4eb22')\"\n",
              "              title=\"Convert this dataframe to an interactive table.\"\n",
              "              style=\"display:none;\">\n",
              "        \n",
              "  <svg xmlns=\"http://www.w3.org/2000/svg\" height=\"24px\"viewBox=\"0 0 24 24\"\n",
              "       width=\"24px\">\n",
              "    <path d=\"M0 0h24v24H0V0z\" fill=\"none\"/>\n",
              "    <path d=\"M18.56 5.44l.94 2.06.94-2.06 2.06-.94-2.06-.94-.94-2.06-.94 2.06-2.06.94zm-11 1L8.5 8.5l.94-2.06 2.06-.94-2.06-.94L8.5 2.5l-.94 2.06-2.06.94zm10 10l.94 2.06.94-2.06 2.06-.94-2.06-.94-.94-2.06-.94 2.06-2.06.94z\"/><path d=\"M17.41 7.96l-1.37-1.37c-.4-.4-.92-.59-1.43-.59-.52 0-1.04.2-1.43.59L10.3 9.45l-7.72 7.72c-.78.78-.78 2.05 0 2.83L4 21.41c.39.39.9.59 1.41.59.51 0 1.02-.2 1.41-.59l7.78-7.78 2.81-2.81c.8-.78.8-2.07 0-2.86zM5.41 20L4 18.59l7.72-7.72 1.47 1.35L5.41 20z\"/>\n",
              "  </svg>\n",
              "      </button>\n",
              "      \n",
              "  <style>\n",
              "    .colab-df-container {\n",
              "      display:flex;\n",
              "      flex-wrap:wrap;\n",
              "      gap: 12px;\n",
              "    }\n",
              "\n",
              "    .colab-df-convert {\n",
              "      background-color: #E8F0FE;\n",
              "      border: none;\n",
              "      border-radius: 50%;\n",
              "      cursor: pointer;\n",
              "      display: none;\n",
              "      fill: #1967D2;\n",
              "      height: 32px;\n",
              "      padding: 0 0 0 0;\n",
              "      width: 32px;\n",
              "    }\n",
              "\n",
              "    .colab-df-convert:hover {\n",
              "      background-color: #E2EBFA;\n",
              "      box-shadow: 0px 1px 2px rgba(60, 64, 67, 0.3), 0px 1px 3px 1px rgba(60, 64, 67, 0.15);\n",
              "      fill: #174EA6;\n",
              "    }\n",
              "\n",
              "    [theme=dark] .colab-df-convert {\n",
              "      background-color: #3B4455;\n",
              "      fill: #D2E3FC;\n",
              "    }\n",
              "\n",
              "    [theme=dark] .colab-df-convert:hover {\n",
              "      background-color: #434B5C;\n",
              "      box-shadow: 0px 1px 3px 1px rgba(0, 0, 0, 0.15);\n",
              "      filter: drop-shadow(0px 1px 2px rgba(0, 0, 0, 0.3));\n",
              "      fill: #FFFFFF;\n",
              "    }\n",
              "  </style>\n",
              "\n",
              "      <script>\n",
              "        const buttonEl =\n",
              "          document.querySelector('#df-7d2a0e2c-5d21-49b0-b7f0-93a998d4eb22 button.colab-df-convert');\n",
              "        buttonEl.style.display =\n",
              "          google.colab.kernel.accessAllowed ? 'block' : 'none';\n",
              "\n",
              "        async function convertToInteractive(key) {\n",
              "          const element = document.querySelector('#df-7d2a0e2c-5d21-49b0-b7f0-93a998d4eb22');\n",
              "          const dataTable =\n",
              "            await google.colab.kernel.invokeFunction('convertToInteractive',\n",
              "                                                     [key], {});\n",
              "          if (!dataTable) return;\n",
              "\n",
              "          const docLinkHtml = 'Like what you see? Visit the ' +\n",
              "            '<a target=\"_blank\" href=https://colab.research.google.com/notebooks/data_table.ipynb>data table notebook</a>'\n",
              "            + ' to learn more about interactive tables.';\n",
              "          element.innerHTML = '';\n",
              "          dataTable['output_type'] = 'display_data';\n",
              "          await google.colab.output.renderOutput(dataTable, element);\n",
              "          const docLink = document.createElement('div');\n",
              "          docLink.innerHTML = docLinkHtml;\n",
              "          element.appendChild(docLink);\n",
              "        }\n",
              "      </script>\n",
              "    </div>\n",
              "  </div>\n",
              "  "
            ]
          },
          "metadata": {},
          "execution_count": 12
        }
      ],
      "source": [
        "#display any five rows in the twtImgPred dataset and visually assess\n",
        "twtImgPred.sample(5)"
      ]
    },
    {
      "cell_type": "markdown",
      "metadata": {
        "id": "TBRwedqYvsi9"
      },
      "source": [
        "**tweet_id** - unique idenifier for each tweet\n",
        "\n",
        "**jpg_url** - url of image\n",
        "\n",
        "**img_num** - image number that corresponded to the most confident prediction\n",
        "\n",
        "**p1** - the algorithm's first prediction for the image in the tweet \n",
        "\n",
        "**p1_conf** - how confident the algorithm is in its first prediction\n",
        "\n",
        "**p1_dog** - whether or not the first prediction is a breed of dog \n",
        "\n",
        "**p2** - the algorithm's second most likely prediction \n",
        "\n",
        "**p2_conf** - how confident the algorithm is in its second prediction \n",
        "\n",
        "**p2_dog** - whether or not the second prediction is a breed of dog \n",
        "\n",
        "**p3** - the algorithm's third most likely prediction\n",
        "\n",
        "**p3_conf** -  how confident the algorithm is in its third prediction \n",
        "\n",
        "**p3_dog** - whether or not the second prediction is a breed of dog "
      ]
    },
    {
      "cell_type": "code",
      "execution_count": 13,
      "metadata": {
        "colab": {
          "base_uri": "https://localhost:8080/",
          "height": 1000
        },
        "id": "_VgMAsfQvsi9",
        "outputId": "ff58a456-cecb-4a15-fd58-c00535a0495b"
      },
      "outputs": [
        {
          "output_type": "execute_result",
          "data": {
            "text/plain": [
              "                    created_at                  id              id_str  \\\n",
              "0    2017-08-01 16:23:56+00:00  892420643555336193  892420643555336192   \n",
              "1    2017-08-01 00:17:27+00:00  892177421306343426  892177421306343424   \n",
              "2    2017-07-31 00:18:03+00:00  891815181378084864  891815181378084864   \n",
              "3    2017-07-30 15:58:51+00:00  891689557279858688  891689557279858688   \n",
              "4    2017-07-29 16:00:24+00:00  891327558926688256  891327558926688256   \n",
              "...                        ...                 ...                 ...   \n",
              "2349 2015-11-16 00:24:50+00:00  666049248165822465  666049248165822464   \n",
              "2350 2015-11-16 00:04:52+00:00  666044226329800704  666044226329800704   \n",
              "2351 2015-11-15 23:21:54+00:00  666033412701032449  666033412701032448   \n",
              "2352 2015-11-15 23:05:30+00:00  666029285002620928  666029285002620928   \n",
              "2353 2015-11-15 22:32:08+00:00  666020888022790149  666020888022790144   \n",
              "\n",
              "                                              full_text  truncated  \\\n",
              "0     This is Phineas. He's a mystical boy. Only eve...      False   \n",
              "1     This is Tilly. She's just checking pup on you....      False   \n",
              "2     This is Archie. He is a rare Norwegian Pouncin...      False   \n",
              "3     This is Darla. She commenced a snooze mid meal...      False   \n",
              "4     This is Franklin. He would like you to stop ca...      False   \n",
              "...                                                 ...        ...   \n",
              "2349  Here we have a 1949 1st generation vulpix. Enj...      False   \n",
              "2350  This is a purebred Piers Morgan. Loves to Netf...      False   \n",
              "2351  Here is a very happy pup. Big fan of well-main...      False   \n",
              "2352  This is a western brown Mitsubishi terrier. Up...      False   \n",
              "2353  Here we have a Japanese Irish Setter. Lost eye...      False   \n",
              "\n",
              "     display_text_range                                           entities  \\\n",
              "0               [0, 85]  {'hashtags': [], 'symbols': [], 'user_mentions...   \n",
              "1              [0, 138]  {'hashtags': [], 'symbols': [], 'user_mentions...   \n",
              "2              [0, 121]  {'hashtags': [], 'symbols': [], 'user_mentions...   \n",
              "3               [0, 79]  {'hashtags': [], 'symbols': [], 'user_mentions...   \n",
              "4              [0, 138]  {'hashtags': [{'text': 'BarkWeek', 'indices': ...   \n",
              "...                 ...                                                ...   \n",
              "2349           [0, 120]  {'hashtags': [], 'symbols': [], 'user_mentions...   \n",
              "2350           [0, 137]  {'hashtags': [], 'symbols': [], 'user_mentions...   \n",
              "2351           [0, 130]  {'hashtags': [], 'symbols': [], 'user_mentions...   \n",
              "2352           [0, 139]  {'hashtags': [], 'symbols': [], 'user_mentions...   \n",
              "2353           [0, 131]  {'hashtags': [], 'symbols': [], 'user_mentions...   \n",
              "\n",
              "                                      extended_entities  \\\n",
              "0     {'media': [{'id': 892420639486877696, 'id_str'...   \n",
              "1     {'media': [{'id': 892177413194625024, 'id_str'...   \n",
              "2     {'media': [{'id': 891815175371796480, 'id_str'...   \n",
              "3     {'media': [{'id': 891689552724799489, 'id_str'...   \n",
              "4     {'media': [{'id': 891327551943041024, 'id_str'...   \n",
              "...                                                 ...   \n",
              "2349  {'media': [{'id': 666049244999131136, 'id_str'...   \n",
              "2350  {'media': [{'id': 666044217047650304, 'id_str'...   \n",
              "2351  {'media': [{'id': 666033409081393153, 'id_str'...   \n",
              "2352  {'media': [{'id': 666029276303482880, 'id_str'...   \n",
              "2353  {'media': [{'id': 666020881337073664, 'id_str'...   \n",
              "\n",
              "                                                 source  \\\n",
              "0     <a href=\"http://twitter.com/download/iphone\" r...   \n",
              "1     <a href=\"http://twitter.com/download/iphone\" r...   \n",
              "2     <a href=\"http://twitter.com/download/iphone\" r...   \n",
              "3     <a href=\"http://twitter.com/download/iphone\" r...   \n",
              "4     <a href=\"http://twitter.com/download/iphone\" r...   \n",
              "...                                                 ...   \n",
              "2349  <a href=\"http://twitter.com/download/iphone\" r...   \n",
              "2350  <a href=\"http://twitter.com/download/iphone\" r...   \n",
              "2351  <a href=\"http://twitter.com/download/iphone\" r...   \n",
              "2352  <a href=\"http://twitter.com/download/iphone\" r...   \n",
              "2353  <a href=\"http://twitter.com/download/iphone\" r...   \n",
              "\n",
              "      in_reply_to_status_id  ...  favorite_count  favorited  retweeted  \\\n",
              "0                       NaN  ...           39467      False      False   \n",
              "1                       NaN  ...           33819      False      False   \n",
              "2                       NaN  ...           25461      False      False   \n",
              "3                       NaN  ...           42908      False      False   \n",
              "4                       NaN  ...           41048      False      False   \n",
              "...                     ...  ...             ...        ...        ...   \n",
              "2349                    NaN  ...             111      False      False   \n",
              "2350                    NaN  ...             311      False      False   \n",
              "2351                    NaN  ...             128      False      False   \n",
              "2352                    NaN  ...             132      False      False   \n",
              "2353                    NaN  ...            2535      False      False   \n",
              "\n",
              "     possibly_sensitive possibly_sensitive_appealable  lang  retweeted_status  \\\n",
              "0                   0.0                           0.0    en               NaN   \n",
              "1                   0.0                           0.0    en               NaN   \n",
              "2                   0.0                           0.0    en               NaN   \n",
              "3                   0.0                           0.0    en               NaN   \n",
              "4                   0.0                           0.0    en               NaN   \n",
              "...                 ...                           ...   ...               ...   \n",
              "2349                0.0                           0.0    en               NaN   \n",
              "2350                0.0                           0.0    en               NaN   \n",
              "2351                0.0                           0.0    en               NaN   \n",
              "2352                0.0                           0.0    en               NaN   \n",
              "2353                0.0                           0.0    en               NaN   \n",
              "\n",
              "     quoted_status_id  quoted_status_id_str  quoted_status  \n",
              "0                 NaN                   NaN            NaN  \n",
              "1                 NaN                   NaN            NaN  \n",
              "2                 NaN                   NaN            NaN  \n",
              "3                 NaN                   NaN            NaN  \n",
              "4                 NaN                   NaN            NaN  \n",
              "...               ...                   ...            ...  \n",
              "2349              NaN                   NaN            NaN  \n",
              "2350              NaN                   NaN            NaN  \n",
              "2351              NaN                   NaN            NaN  \n",
              "2352              NaN                   NaN            NaN  \n",
              "2353              NaN                   NaN            NaN  \n",
              "\n",
              "[2354 rows x 31 columns]"
            ],
            "text/html": [
              "\n",
              "  <div id=\"df-8a87b5a3-5cdd-4e1d-ae22-87bf06d28bff\">\n",
              "    <div class=\"colab-df-container\">\n",
              "      <div>\n",
              "<style scoped>\n",
              "    .dataframe tbody tr th:only-of-type {\n",
              "        vertical-align: middle;\n",
              "    }\n",
              "\n",
              "    .dataframe tbody tr th {\n",
              "        vertical-align: top;\n",
              "    }\n",
              "\n",
              "    .dataframe thead th {\n",
              "        text-align: right;\n",
              "    }\n",
              "</style>\n",
              "<table border=\"1\" class=\"dataframe\">\n",
              "  <thead>\n",
              "    <tr style=\"text-align: right;\">\n",
              "      <th></th>\n",
              "      <th>created_at</th>\n",
              "      <th>id</th>\n",
              "      <th>id_str</th>\n",
              "      <th>full_text</th>\n",
              "      <th>truncated</th>\n",
              "      <th>display_text_range</th>\n",
              "      <th>entities</th>\n",
              "      <th>extended_entities</th>\n",
              "      <th>source</th>\n",
              "      <th>in_reply_to_status_id</th>\n",
              "      <th>...</th>\n",
              "      <th>favorite_count</th>\n",
              "      <th>favorited</th>\n",
              "      <th>retweeted</th>\n",
              "      <th>possibly_sensitive</th>\n",
              "      <th>possibly_sensitive_appealable</th>\n",
              "      <th>lang</th>\n",
              "      <th>retweeted_status</th>\n",
              "      <th>quoted_status_id</th>\n",
              "      <th>quoted_status_id_str</th>\n",
              "      <th>quoted_status</th>\n",
              "    </tr>\n",
              "  </thead>\n",
              "  <tbody>\n",
              "    <tr>\n",
              "      <th>0</th>\n",
              "      <td>2017-08-01 16:23:56+00:00</td>\n",
              "      <td>892420643555336193</td>\n",
              "      <td>892420643555336192</td>\n",
              "      <td>This is Phineas. He's a mystical boy. Only eve...</td>\n",
              "      <td>False</td>\n",
              "      <td>[0, 85]</td>\n",
              "      <td>{'hashtags': [], 'symbols': [], 'user_mentions...</td>\n",
              "      <td>{'media': [{'id': 892420639486877696, 'id_str'...</td>\n",
              "      <td>&lt;a href=\"http://twitter.com/download/iphone\" r...</td>\n",
              "      <td>NaN</td>\n",
              "      <td>...</td>\n",
              "      <td>39467</td>\n",
              "      <td>False</td>\n",
              "      <td>False</td>\n",
              "      <td>0.0</td>\n",
              "      <td>0.0</td>\n",
              "      <td>en</td>\n",
              "      <td>NaN</td>\n",
              "      <td>NaN</td>\n",
              "      <td>NaN</td>\n",
              "      <td>NaN</td>\n",
              "    </tr>\n",
              "    <tr>\n",
              "      <th>1</th>\n",
              "      <td>2017-08-01 00:17:27+00:00</td>\n",
              "      <td>892177421306343426</td>\n",
              "      <td>892177421306343424</td>\n",
              "      <td>This is Tilly. She's just checking pup on you....</td>\n",
              "      <td>False</td>\n",
              "      <td>[0, 138]</td>\n",
              "      <td>{'hashtags': [], 'symbols': [], 'user_mentions...</td>\n",
              "      <td>{'media': [{'id': 892177413194625024, 'id_str'...</td>\n",
              "      <td>&lt;a href=\"http://twitter.com/download/iphone\" r...</td>\n",
              "      <td>NaN</td>\n",
              "      <td>...</td>\n",
              "      <td>33819</td>\n",
              "      <td>False</td>\n",
              "      <td>False</td>\n",
              "      <td>0.0</td>\n",
              "      <td>0.0</td>\n",
              "      <td>en</td>\n",
              "      <td>NaN</td>\n",
              "      <td>NaN</td>\n",
              "      <td>NaN</td>\n",
              "      <td>NaN</td>\n",
              "    </tr>\n",
              "    <tr>\n",
              "      <th>2</th>\n",
              "      <td>2017-07-31 00:18:03+00:00</td>\n",
              "      <td>891815181378084864</td>\n",
              "      <td>891815181378084864</td>\n",
              "      <td>This is Archie. He is a rare Norwegian Pouncin...</td>\n",
              "      <td>False</td>\n",
              "      <td>[0, 121]</td>\n",
              "      <td>{'hashtags': [], 'symbols': [], 'user_mentions...</td>\n",
              "      <td>{'media': [{'id': 891815175371796480, 'id_str'...</td>\n",
              "      <td>&lt;a href=\"http://twitter.com/download/iphone\" r...</td>\n",
              "      <td>NaN</td>\n",
              "      <td>...</td>\n",
              "      <td>25461</td>\n",
              "      <td>False</td>\n",
              "      <td>False</td>\n",
              "      <td>0.0</td>\n",
              "      <td>0.0</td>\n",
              "      <td>en</td>\n",
              "      <td>NaN</td>\n",
              "      <td>NaN</td>\n",
              "      <td>NaN</td>\n",
              "      <td>NaN</td>\n",
              "    </tr>\n",
              "    <tr>\n",
              "      <th>3</th>\n",
              "      <td>2017-07-30 15:58:51+00:00</td>\n",
              "      <td>891689557279858688</td>\n",
              "      <td>891689557279858688</td>\n",
              "      <td>This is Darla. She commenced a snooze mid meal...</td>\n",
              "      <td>False</td>\n",
              "      <td>[0, 79]</td>\n",
              "      <td>{'hashtags': [], 'symbols': [], 'user_mentions...</td>\n",
              "      <td>{'media': [{'id': 891689552724799489, 'id_str'...</td>\n",
              "      <td>&lt;a href=\"http://twitter.com/download/iphone\" r...</td>\n",
              "      <td>NaN</td>\n",
              "      <td>...</td>\n",
              "      <td>42908</td>\n",
              "      <td>False</td>\n",
              "      <td>False</td>\n",
              "      <td>0.0</td>\n",
              "      <td>0.0</td>\n",
              "      <td>en</td>\n",
              "      <td>NaN</td>\n",
              "      <td>NaN</td>\n",
              "      <td>NaN</td>\n",
              "      <td>NaN</td>\n",
              "    </tr>\n",
              "    <tr>\n",
              "      <th>4</th>\n",
              "      <td>2017-07-29 16:00:24+00:00</td>\n",
              "      <td>891327558926688256</td>\n",
              "      <td>891327558926688256</td>\n",
              "      <td>This is Franklin. He would like you to stop ca...</td>\n",
              "      <td>False</td>\n",
              "      <td>[0, 138]</td>\n",
              "      <td>{'hashtags': [{'text': 'BarkWeek', 'indices': ...</td>\n",
              "      <td>{'media': [{'id': 891327551943041024, 'id_str'...</td>\n",
              "      <td>&lt;a href=\"http://twitter.com/download/iphone\" r...</td>\n",
              "      <td>NaN</td>\n",
              "      <td>...</td>\n",
              "      <td>41048</td>\n",
              "      <td>False</td>\n",
              "      <td>False</td>\n",
              "      <td>0.0</td>\n",
              "      <td>0.0</td>\n",
              "      <td>en</td>\n",
              "      <td>NaN</td>\n",
              "      <td>NaN</td>\n",
              "      <td>NaN</td>\n",
              "      <td>NaN</td>\n",
              "    </tr>\n",
              "    <tr>\n",
              "      <th>...</th>\n",
              "      <td>...</td>\n",
              "      <td>...</td>\n",
              "      <td>...</td>\n",
              "      <td>...</td>\n",
              "      <td>...</td>\n",
              "      <td>...</td>\n",
              "      <td>...</td>\n",
              "      <td>...</td>\n",
              "      <td>...</td>\n",
              "      <td>...</td>\n",
              "      <td>...</td>\n",
              "      <td>...</td>\n",
              "      <td>...</td>\n",
              "      <td>...</td>\n",
              "      <td>...</td>\n",
              "      <td>...</td>\n",
              "      <td>...</td>\n",
              "      <td>...</td>\n",
              "      <td>...</td>\n",
              "      <td>...</td>\n",
              "      <td>...</td>\n",
              "    </tr>\n",
              "    <tr>\n",
              "      <th>2349</th>\n",
              "      <td>2015-11-16 00:24:50+00:00</td>\n",
              "      <td>666049248165822465</td>\n",
              "      <td>666049248165822464</td>\n",
              "      <td>Here we have a 1949 1st generation vulpix. Enj...</td>\n",
              "      <td>False</td>\n",
              "      <td>[0, 120]</td>\n",
              "      <td>{'hashtags': [], 'symbols': [], 'user_mentions...</td>\n",
              "      <td>{'media': [{'id': 666049244999131136, 'id_str'...</td>\n",
              "      <td>&lt;a href=\"http://twitter.com/download/iphone\" r...</td>\n",
              "      <td>NaN</td>\n",
              "      <td>...</td>\n",
              "      <td>111</td>\n",
              "      <td>False</td>\n",
              "      <td>False</td>\n",
              "      <td>0.0</td>\n",
              "      <td>0.0</td>\n",
              "      <td>en</td>\n",
              "      <td>NaN</td>\n",
              "      <td>NaN</td>\n",
              "      <td>NaN</td>\n",
              "      <td>NaN</td>\n",
              "    </tr>\n",
              "    <tr>\n",
              "      <th>2350</th>\n",
              "      <td>2015-11-16 00:04:52+00:00</td>\n",
              "      <td>666044226329800704</td>\n",
              "      <td>666044226329800704</td>\n",
              "      <td>This is a purebred Piers Morgan. Loves to Netf...</td>\n",
              "      <td>False</td>\n",
              "      <td>[0, 137]</td>\n",
              "      <td>{'hashtags': [], 'symbols': [], 'user_mentions...</td>\n",
              "      <td>{'media': [{'id': 666044217047650304, 'id_str'...</td>\n",
              "      <td>&lt;a href=\"http://twitter.com/download/iphone\" r...</td>\n",
              "      <td>NaN</td>\n",
              "      <td>...</td>\n",
              "      <td>311</td>\n",
              "      <td>False</td>\n",
              "      <td>False</td>\n",
              "      <td>0.0</td>\n",
              "      <td>0.0</td>\n",
              "      <td>en</td>\n",
              "      <td>NaN</td>\n",
              "      <td>NaN</td>\n",
              "      <td>NaN</td>\n",
              "      <td>NaN</td>\n",
              "    </tr>\n",
              "    <tr>\n",
              "      <th>2351</th>\n",
              "      <td>2015-11-15 23:21:54+00:00</td>\n",
              "      <td>666033412701032449</td>\n",
              "      <td>666033412701032448</td>\n",
              "      <td>Here is a very happy pup. Big fan of well-main...</td>\n",
              "      <td>False</td>\n",
              "      <td>[0, 130]</td>\n",
              "      <td>{'hashtags': [], 'symbols': [], 'user_mentions...</td>\n",
              "      <td>{'media': [{'id': 666033409081393153, 'id_str'...</td>\n",
              "      <td>&lt;a href=\"http://twitter.com/download/iphone\" r...</td>\n",
              "      <td>NaN</td>\n",
              "      <td>...</td>\n",
              "      <td>128</td>\n",
              "      <td>False</td>\n",
              "      <td>False</td>\n",
              "      <td>0.0</td>\n",
              "      <td>0.0</td>\n",
              "      <td>en</td>\n",
              "      <td>NaN</td>\n",
              "      <td>NaN</td>\n",
              "      <td>NaN</td>\n",
              "      <td>NaN</td>\n",
              "    </tr>\n",
              "    <tr>\n",
              "      <th>2352</th>\n",
              "      <td>2015-11-15 23:05:30+00:00</td>\n",
              "      <td>666029285002620928</td>\n",
              "      <td>666029285002620928</td>\n",
              "      <td>This is a western brown Mitsubishi terrier. Up...</td>\n",
              "      <td>False</td>\n",
              "      <td>[0, 139]</td>\n",
              "      <td>{'hashtags': [], 'symbols': [], 'user_mentions...</td>\n",
              "      <td>{'media': [{'id': 666029276303482880, 'id_str'...</td>\n",
              "      <td>&lt;a href=\"http://twitter.com/download/iphone\" r...</td>\n",
              "      <td>NaN</td>\n",
              "      <td>...</td>\n",
              "      <td>132</td>\n",
              "      <td>False</td>\n",
              "      <td>False</td>\n",
              "      <td>0.0</td>\n",
              "      <td>0.0</td>\n",
              "      <td>en</td>\n",
              "      <td>NaN</td>\n",
              "      <td>NaN</td>\n",
              "      <td>NaN</td>\n",
              "      <td>NaN</td>\n",
              "    </tr>\n",
              "    <tr>\n",
              "      <th>2353</th>\n",
              "      <td>2015-11-15 22:32:08+00:00</td>\n",
              "      <td>666020888022790149</td>\n",
              "      <td>666020888022790144</td>\n",
              "      <td>Here we have a Japanese Irish Setter. Lost eye...</td>\n",
              "      <td>False</td>\n",
              "      <td>[0, 131]</td>\n",
              "      <td>{'hashtags': [], 'symbols': [], 'user_mentions...</td>\n",
              "      <td>{'media': [{'id': 666020881337073664, 'id_str'...</td>\n",
              "      <td>&lt;a href=\"http://twitter.com/download/iphone\" r...</td>\n",
              "      <td>NaN</td>\n",
              "      <td>...</td>\n",
              "      <td>2535</td>\n",
              "      <td>False</td>\n",
              "      <td>False</td>\n",
              "      <td>0.0</td>\n",
              "      <td>0.0</td>\n",
              "      <td>en</td>\n",
              "      <td>NaN</td>\n",
              "      <td>NaN</td>\n",
              "      <td>NaN</td>\n",
              "      <td>NaN</td>\n",
              "    </tr>\n",
              "  </tbody>\n",
              "</table>\n",
              "<p>2354 rows × 31 columns</p>\n",
              "</div>\n",
              "      <button class=\"colab-df-convert\" onclick=\"convertToInteractive('df-8a87b5a3-5cdd-4e1d-ae22-87bf06d28bff')\"\n",
              "              title=\"Convert this dataframe to an interactive table.\"\n",
              "              style=\"display:none;\">\n",
              "        \n",
              "  <svg xmlns=\"http://www.w3.org/2000/svg\" height=\"24px\"viewBox=\"0 0 24 24\"\n",
              "       width=\"24px\">\n",
              "    <path d=\"M0 0h24v24H0V0z\" fill=\"none\"/>\n",
              "    <path d=\"M18.56 5.44l.94 2.06.94-2.06 2.06-.94-2.06-.94-.94-2.06-.94 2.06-2.06.94zm-11 1L8.5 8.5l.94-2.06 2.06-.94-2.06-.94L8.5 2.5l-.94 2.06-2.06.94zm10 10l.94 2.06.94-2.06 2.06-.94-2.06-.94-.94-2.06-.94 2.06-2.06.94z\"/><path d=\"M17.41 7.96l-1.37-1.37c-.4-.4-.92-.59-1.43-.59-.52 0-1.04.2-1.43.59L10.3 9.45l-7.72 7.72c-.78.78-.78 2.05 0 2.83L4 21.41c.39.39.9.59 1.41.59.51 0 1.02-.2 1.41-.59l7.78-7.78 2.81-2.81c.8-.78.8-2.07 0-2.86zM5.41 20L4 18.59l7.72-7.72 1.47 1.35L5.41 20z\"/>\n",
              "  </svg>\n",
              "      </button>\n",
              "      \n",
              "  <style>\n",
              "    .colab-df-container {\n",
              "      display:flex;\n",
              "      flex-wrap:wrap;\n",
              "      gap: 12px;\n",
              "    }\n",
              "\n",
              "    .colab-df-convert {\n",
              "      background-color: #E8F0FE;\n",
              "      border: none;\n",
              "      border-radius: 50%;\n",
              "      cursor: pointer;\n",
              "      display: none;\n",
              "      fill: #1967D2;\n",
              "      height: 32px;\n",
              "      padding: 0 0 0 0;\n",
              "      width: 32px;\n",
              "    }\n",
              "\n",
              "    .colab-df-convert:hover {\n",
              "      background-color: #E2EBFA;\n",
              "      box-shadow: 0px 1px 2px rgba(60, 64, 67, 0.3), 0px 1px 3px 1px rgba(60, 64, 67, 0.15);\n",
              "      fill: #174EA6;\n",
              "    }\n",
              "\n",
              "    [theme=dark] .colab-df-convert {\n",
              "      background-color: #3B4455;\n",
              "      fill: #D2E3FC;\n",
              "    }\n",
              "\n",
              "    [theme=dark] .colab-df-convert:hover {\n",
              "      background-color: #434B5C;\n",
              "      box-shadow: 0px 1px 3px 1px rgba(0, 0, 0, 0.15);\n",
              "      filter: drop-shadow(0px 1px 2px rgba(0, 0, 0, 0.3));\n",
              "      fill: #FFFFFF;\n",
              "    }\n",
              "  </style>\n",
              "\n",
              "      <script>\n",
              "        const buttonEl =\n",
              "          document.querySelector('#df-8a87b5a3-5cdd-4e1d-ae22-87bf06d28bff button.colab-df-convert');\n",
              "        buttonEl.style.display =\n",
              "          google.colab.kernel.accessAllowed ? 'block' : 'none';\n",
              "\n",
              "        async function convertToInteractive(key) {\n",
              "          const element = document.querySelector('#df-8a87b5a3-5cdd-4e1d-ae22-87bf06d28bff');\n",
              "          const dataTable =\n",
              "            await google.colab.kernel.invokeFunction('convertToInteractive',\n",
              "                                                     [key], {});\n",
              "          if (!dataTable) return;\n",
              "\n",
              "          const docLinkHtml = 'Like what you see? Visit the ' +\n",
              "            '<a target=\"_blank\" href=https://colab.research.google.com/notebooks/data_table.ipynb>data table notebook</a>'\n",
              "            + ' to learn more about interactive tables.';\n",
              "          element.innerHTML = '';\n",
              "          dataTable['output_type'] = 'display_data';\n",
              "          await google.colab.output.renderOutput(dataTable, element);\n",
              "          const docLink = document.createElement('div');\n",
              "          docLink.innerHTML = docLinkHtml;\n",
              "          element.appendChild(docLink);\n",
              "        }\n",
              "      </script>\n",
              "    </div>\n",
              "  </div>\n",
              "  "
            ]
          },
          "metadata": {},
          "execution_count": 13
        }
      ],
      "source": [
        "#display any twtJson dataset and visually assess\n",
        "twtJson"
      ]
    },
    {
      "cell_type": "code",
      "execution_count": 14,
      "metadata": {
        "colab": {
          "base_uri": "https://localhost:8080/"
        },
        "id": "sJ04KTZMvsi-",
        "outputId": "536416be-fce7-41fc-b1c3-c9589d884152"
      },
      "outputs": [
        {
          "output_type": "stream",
          "name": "stdout",
          "text": [
            "<class 'pandas.core.frame.DataFrame'>\n",
            "RangeIndex: 2356 entries, 0 to 2355\n",
            "Data columns (total 17 columns):\n",
            " #   Column                      Non-Null Count  Dtype  \n",
            "---  ------                      --------------  -----  \n",
            " 0   tweet_id                    2356 non-null   int64  \n",
            " 1   in_reply_to_status_id       78 non-null     float64\n",
            " 2   in_reply_to_user_id         78 non-null     float64\n",
            " 3   timestamp                   2356 non-null   object \n",
            " 4   source                      2356 non-null   object \n",
            " 5   text                        2356 non-null   object \n",
            " 6   retweeted_status_id         181 non-null    float64\n",
            " 7   retweeted_status_user_id    181 non-null    float64\n",
            " 8   retweeted_status_timestamp  181 non-null    object \n",
            " 9   expanded_urls               2297 non-null   object \n",
            " 10  rating_numerator            2356 non-null   int64  \n",
            " 11  rating_denominator          2356 non-null   int64  \n",
            " 12  name                        2356 non-null   object \n",
            " 13  doggo                       2356 non-null   object \n",
            " 14  floofer                     2356 non-null   object \n",
            " 15  pupper                      2356 non-null   object \n",
            " 16  puppo                       2356 non-null   object \n",
            "dtypes: float64(4), int64(3), object(10)\n",
            "memory usage: 313.0+ KB\n"
          ]
        }
      ],
      "source": [
        "#get information on every column\n",
        "weRateDogs.info()"
      ]
    },
    {
      "cell_type": "markdown",
      "metadata": {
        "id": "yFSL8ZOwvsi-"
      },
      "source": [
        "The information above shows that there are a few missing data on some columns. However, these columns with missing data are not relevant for the analysis."
      ]
    },
    {
      "cell_type": "code",
      "execution_count": 15,
      "metadata": {
        "colab": {
          "base_uri": "https://localhost:8080/"
        },
        "id": "epG6UDnDvsi_",
        "outputId": "98373450-0efb-425b-ade7-9c7cc96865f1"
      },
      "outputs": [
        {
          "output_type": "stream",
          "name": "stdout",
          "text": [
            "<class 'pandas.core.frame.DataFrame'>\n",
            "RangeIndex: 2354 entries, 0 to 2353\n",
            "Data columns (total 31 columns):\n",
            " #   Column                         Non-Null Count  Dtype              \n",
            "---  ------                         --------------  -----              \n",
            " 0   created_at                     2354 non-null   datetime64[ns, UTC]\n",
            " 1   id                             2354 non-null   int64              \n",
            " 2   id_str                         2354 non-null   int64              \n",
            " 3   full_text                      2354 non-null   object             \n",
            " 4   truncated                      2354 non-null   bool               \n",
            " 5   display_text_range             2354 non-null   object             \n",
            " 6   entities                       2354 non-null   object             \n",
            " 7   extended_entities              2073 non-null   object             \n",
            " 8   source                         2354 non-null   object             \n",
            " 9   in_reply_to_status_id          78 non-null     float64            \n",
            " 10  in_reply_to_status_id_str      78 non-null     float64            \n",
            " 11  in_reply_to_user_id            78 non-null     float64            \n",
            " 12  in_reply_to_user_id_str        78 non-null     float64            \n",
            " 13  in_reply_to_screen_name        78 non-null     object             \n",
            " 14  user                           2354 non-null   object             \n",
            " 15  geo                            0 non-null      float64            \n",
            " 16  coordinates                    0 non-null      float64            \n",
            " 17  place                          1 non-null      object             \n",
            " 18  contributors                   0 non-null      float64            \n",
            " 19  is_quote_status                2354 non-null   bool               \n",
            " 20  retweet_count                  2354 non-null   int64              \n",
            " 21  favorite_count                 2354 non-null   int64              \n",
            " 22  favorited                      2354 non-null   bool               \n",
            " 23  retweeted                      2354 non-null   bool               \n",
            " 24  possibly_sensitive             2211 non-null   float64            \n",
            " 25  possibly_sensitive_appealable  2211 non-null   float64            \n",
            " 26  lang                           2354 non-null   object             \n",
            " 27  retweeted_status               179 non-null    object             \n",
            " 28  quoted_status_id               29 non-null     float64            \n",
            " 29  quoted_status_id_str           29 non-null     float64            \n",
            " 30  quoted_status                  28 non-null     object             \n",
            "dtypes: bool(4), datetime64[ns, UTC](1), float64(11), int64(4), object(11)\n",
            "memory usage: 505.9+ KB\n"
          ]
        }
      ],
      "source": [
        "#get information on every column\n",
        "twtJson.info()"
      ]
    },
    {
      "cell_type": "code",
      "execution_count": 16,
      "metadata": {
        "colab": {
          "base_uri": "https://localhost:8080/"
        },
        "id": "LEUkTibCvsi_",
        "outputId": "2950f33b-43ee-42ea-8927-5210ca9b8d97"
      },
      "outputs": [
        {
          "output_type": "stream",
          "name": "stdout",
          "text": [
            "<class 'pandas.core.frame.DataFrame'>\n",
            "RangeIndex: 2075 entries, 0 to 2074\n",
            "Data columns (total 12 columns):\n",
            " #   Column    Non-Null Count  Dtype  \n",
            "---  ------    --------------  -----  \n",
            " 0   tweet_id  2075 non-null   int64  \n",
            " 1   jpg_url   2075 non-null   object \n",
            " 2   img_num   2075 non-null   int64  \n",
            " 3   p1        2075 non-null   object \n",
            " 4   p1_conf   2075 non-null   float64\n",
            " 5   p1_dog    2075 non-null   bool   \n",
            " 6   p2        2075 non-null   object \n",
            " 7   p2_conf   2075 non-null   float64\n",
            " 8   p2_dog    2075 non-null   bool   \n",
            " 9   p3        2075 non-null   object \n",
            " 10  p3_conf   2075 non-null   float64\n",
            " 11  p3_dog    2075 non-null   bool   \n",
            "dtypes: bool(3), float64(3), int64(2), object(4)\n",
            "memory usage: 152.1+ KB\n"
          ]
        }
      ],
      "source": [
        "#get information on every column\n",
        "twtImgPred.info()"
      ]
    },
    {
      "cell_type": "code",
      "execution_count": 17,
      "metadata": {
        "colab": {
          "base_uri": "https://localhost:8080/",
          "height": 364
        },
        "id": "zBKxd6yQvsi_",
        "outputId": "9cf9f4c9-8ba8-4cfd-ca19-0067094d1b00"
      },
      "outputs": [
        {
          "output_type": "execute_result",
          "data": {
            "text/plain": [
              "           tweet_id  in_reply_to_status_id  in_reply_to_user_id  \\\n",
              "count  2.356000e+03           7.800000e+01         7.800000e+01   \n",
              "mean   7.427716e+17           7.455079e+17         2.014171e+16   \n",
              "std    6.856705e+16           7.582492e+16         1.252797e+17   \n",
              "min    6.660209e+17           6.658147e+17         1.185634e+07   \n",
              "25%    6.783989e+17           6.757419e+17         3.086374e+08   \n",
              "50%    7.196279e+17           7.038708e+17         4.196984e+09   \n",
              "75%    7.993373e+17           8.257804e+17         4.196984e+09   \n",
              "max    8.924206e+17           8.862664e+17         8.405479e+17   \n",
              "\n",
              "       retweeted_status_id  retweeted_status_user_id  rating_numerator  \\\n",
              "count         1.810000e+02              1.810000e+02       2356.000000   \n",
              "mean          7.720400e+17              1.241698e+16         13.126486   \n",
              "std           6.236928e+16              9.599254e+16         45.876648   \n",
              "min           6.661041e+17              7.832140e+05          0.000000   \n",
              "25%           7.186315e+17              4.196984e+09         10.000000   \n",
              "50%           7.804657e+17              4.196984e+09         11.000000   \n",
              "75%           8.203146e+17              4.196984e+09         12.000000   \n",
              "max           8.874740e+17              7.874618e+17       1776.000000   \n",
              "\n",
              "       rating_denominator  \n",
              "count         2356.000000  \n",
              "mean            10.455433  \n",
              "std              6.745237  \n",
              "min              0.000000  \n",
              "25%             10.000000  \n",
              "50%             10.000000  \n",
              "75%             10.000000  \n",
              "max            170.000000  "
            ],
            "text/html": [
              "\n",
              "  <div id=\"df-035cf02c-75cc-40fa-95f0-4af08f99e3be\">\n",
              "    <div class=\"colab-df-container\">\n",
              "      <div>\n",
              "<style scoped>\n",
              "    .dataframe tbody tr th:only-of-type {\n",
              "        vertical-align: middle;\n",
              "    }\n",
              "\n",
              "    .dataframe tbody tr th {\n",
              "        vertical-align: top;\n",
              "    }\n",
              "\n",
              "    .dataframe thead th {\n",
              "        text-align: right;\n",
              "    }\n",
              "</style>\n",
              "<table border=\"1\" class=\"dataframe\">\n",
              "  <thead>\n",
              "    <tr style=\"text-align: right;\">\n",
              "      <th></th>\n",
              "      <th>tweet_id</th>\n",
              "      <th>in_reply_to_status_id</th>\n",
              "      <th>in_reply_to_user_id</th>\n",
              "      <th>retweeted_status_id</th>\n",
              "      <th>retweeted_status_user_id</th>\n",
              "      <th>rating_numerator</th>\n",
              "      <th>rating_denominator</th>\n",
              "    </tr>\n",
              "  </thead>\n",
              "  <tbody>\n",
              "    <tr>\n",
              "      <th>count</th>\n",
              "      <td>2.356000e+03</td>\n",
              "      <td>7.800000e+01</td>\n",
              "      <td>7.800000e+01</td>\n",
              "      <td>1.810000e+02</td>\n",
              "      <td>1.810000e+02</td>\n",
              "      <td>2356.000000</td>\n",
              "      <td>2356.000000</td>\n",
              "    </tr>\n",
              "    <tr>\n",
              "      <th>mean</th>\n",
              "      <td>7.427716e+17</td>\n",
              "      <td>7.455079e+17</td>\n",
              "      <td>2.014171e+16</td>\n",
              "      <td>7.720400e+17</td>\n",
              "      <td>1.241698e+16</td>\n",
              "      <td>13.126486</td>\n",
              "      <td>10.455433</td>\n",
              "    </tr>\n",
              "    <tr>\n",
              "      <th>std</th>\n",
              "      <td>6.856705e+16</td>\n",
              "      <td>7.582492e+16</td>\n",
              "      <td>1.252797e+17</td>\n",
              "      <td>6.236928e+16</td>\n",
              "      <td>9.599254e+16</td>\n",
              "      <td>45.876648</td>\n",
              "      <td>6.745237</td>\n",
              "    </tr>\n",
              "    <tr>\n",
              "      <th>min</th>\n",
              "      <td>6.660209e+17</td>\n",
              "      <td>6.658147e+17</td>\n",
              "      <td>1.185634e+07</td>\n",
              "      <td>6.661041e+17</td>\n",
              "      <td>7.832140e+05</td>\n",
              "      <td>0.000000</td>\n",
              "      <td>0.000000</td>\n",
              "    </tr>\n",
              "    <tr>\n",
              "      <th>25%</th>\n",
              "      <td>6.783989e+17</td>\n",
              "      <td>6.757419e+17</td>\n",
              "      <td>3.086374e+08</td>\n",
              "      <td>7.186315e+17</td>\n",
              "      <td>4.196984e+09</td>\n",
              "      <td>10.000000</td>\n",
              "      <td>10.000000</td>\n",
              "    </tr>\n",
              "    <tr>\n",
              "      <th>50%</th>\n",
              "      <td>7.196279e+17</td>\n",
              "      <td>7.038708e+17</td>\n",
              "      <td>4.196984e+09</td>\n",
              "      <td>7.804657e+17</td>\n",
              "      <td>4.196984e+09</td>\n",
              "      <td>11.000000</td>\n",
              "      <td>10.000000</td>\n",
              "    </tr>\n",
              "    <tr>\n",
              "      <th>75%</th>\n",
              "      <td>7.993373e+17</td>\n",
              "      <td>8.257804e+17</td>\n",
              "      <td>4.196984e+09</td>\n",
              "      <td>8.203146e+17</td>\n",
              "      <td>4.196984e+09</td>\n",
              "      <td>12.000000</td>\n",
              "      <td>10.000000</td>\n",
              "    </tr>\n",
              "    <tr>\n",
              "      <th>max</th>\n",
              "      <td>8.924206e+17</td>\n",
              "      <td>8.862664e+17</td>\n",
              "      <td>8.405479e+17</td>\n",
              "      <td>8.874740e+17</td>\n",
              "      <td>7.874618e+17</td>\n",
              "      <td>1776.000000</td>\n",
              "      <td>170.000000</td>\n",
              "    </tr>\n",
              "  </tbody>\n",
              "</table>\n",
              "</div>\n",
              "      <button class=\"colab-df-convert\" onclick=\"convertToInteractive('df-035cf02c-75cc-40fa-95f0-4af08f99e3be')\"\n",
              "              title=\"Convert this dataframe to an interactive table.\"\n",
              "              style=\"display:none;\">\n",
              "        \n",
              "  <svg xmlns=\"http://www.w3.org/2000/svg\" height=\"24px\"viewBox=\"0 0 24 24\"\n",
              "       width=\"24px\">\n",
              "    <path d=\"M0 0h24v24H0V0z\" fill=\"none\"/>\n",
              "    <path d=\"M18.56 5.44l.94 2.06.94-2.06 2.06-.94-2.06-.94-.94-2.06-.94 2.06-2.06.94zm-11 1L8.5 8.5l.94-2.06 2.06-.94-2.06-.94L8.5 2.5l-.94 2.06-2.06.94zm10 10l.94 2.06.94-2.06 2.06-.94-2.06-.94-.94-2.06-.94 2.06-2.06.94z\"/><path d=\"M17.41 7.96l-1.37-1.37c-.4-.4-.92-.59-1.43-.59-.52 0-1.04.2-1.43.59L10.3 9.45l-7.72 7.72c-.78.78-.78 2.05 0 2.83L4 21.41c.39.39.9.59 1.41.59.51 0 1.02-.2 1.41-.59l7.78-7.78 2.81-2.81c.8-.78.8-2.07 0-2.86zM5.41 20L4 18.59l7.72-7.72 1.47 1.35L5.41 20z\"/>\n",
              "  </svg>\n",
              "      </button>\n",
              "      \n",
              "  <style>\n",
              "    .colab-df-container {\n",
              "      display:flex;\n",
              "      flex-wrap:wrap;\n",
              "      gap: 12px;\n",
              "    }\n",
              "\n",
              "    .colab-df-convert {\n",
              "      background-color: #E8F0FE;\n",
              "      border: none;\n",
              "      border-radius: 50%;\n",
              "      cursor: pointer;\n",
              "      display: none;\n",
              "      fill: #1967D2;\n",
              "      height: 32px;\n",
              "      padding: 0 0 0 0;\n",
              "      width: 32px;\n",
              "    }\n",
              "\n",
              "    .colab-df-convert:hover {\n",
              "      background-color: #E2EBFA;\n",
              "      box-shadow: 0px 1px 2px rgba(60, 64, 67, 0.3), 0px 1px 3px 1px rgba(60, 64, 67, 0.15);\n",
              "      fill: #174EA6;\n",
              "    }\n",
              "\n",
              "    [theme=dark] .colab-df-convert {\n",
              "      background-color: #3B4455;\n",
              "      fill: #D2E3FC;\n",
              "    }\n",
              "\n",
              "    [theme=dark] .colab-df-convert:hover {\n",
              "      background-color: #434B5C;\n",
              "      box-shadow: 0px 1px 3px 1px rgba(0, 0, 0, 0.15);\n",
              "      filter: drop-shadow(0px 1px 2px rgba(0, 0, 0, 0.3));\n",
              "      fill: #FFFFFF;\n",
              "    }\n",
              "  </style>\n",
              "\n",
              "      <script>\n",
              "        const buttonEl =\n",
              "          document.querySelector('#df-035cf02c-75cc-40fa-95f0-4af08f99e3be button.colab-df-convert');\n",
              "        buttonEl.style.display =\n",
              "          google.colab.kernel.accessAllowed ? 'block' : 'none';\n",
              "\n",
              "        async function convertToInteractive(key) {\n",
              "          const element = document.querySelector('#df-035cf02c-75cc-40fa-95f0-4af08f99e3be');\n",
              "          const dataTable =\n",
              "            await google.colab.kernel.invokeFunction('convertToInteractive',\n",
              "                                                     [key], {});\n",
              "          if (!dataTable) return;\n",
              "\n",
              "          const docLinkHtml = 'Like what you see? Visit the ' +\n",
              "            '<a target=\"_blank\" href=https://colab.research.google.com/notebooks/data_table.ipynb>data table notebook</a>'\n",
              "            + ' to learn more about interactive tables.';\n",
              "          element.innerHTML = '';\n",
              "          dataTable['output_type'] = 'display_data';\n",
              "          await google.colab.output.renderOutput(dataTable, element);\n",
              "          const docLink = document.createElement('div');\n",
              "          docLink.innerHTML = docLinkHtml;\n",
              "          element.appendChild(docLink);\n",
              "        }\n",
              "      </script>\n",
              "    </div>\n",
              "  </div>\n",
              "  "
            ]
          },
          "metadata": {},
          "execution_count": 17
        }
      ],
      "source": [
        "#summary statistics\n",
        "weRateDogs.describe()"
      ]
    },
    {
      "cell_type": "markdown",
      "metadata": {
        "id": "y83VrILovsjA"
      },
      "source": [
        "### Quality issues\n",
        "After visual and programmatic assessments, the following quality issues were found\n",
        "\n",
        "`weRateDogs`\n",
        "\n",
        "1. Timestamp has unnecessary values +0000 \n",
        "\n",
        "2. Some entries are retweets and not original Tweets.\n",
        "\n",
        "3. Timestamp has wrong datatype\n",
        "\n",
        "4. Maximum rating denominator is 170. Further visual assessment shows that there are entries with rating denominators that are not equal to 10.\n",
        "\n",
        "`twtJson`\n",
        "\n",
        "5. `twtJson` is incomplete. Has 2354 rows instead of 2356 just like `weRateDogs` dataset.\n",
        "\n",
        "6. `twtJson` has columns which will not be useful for analysis.\n",
        "\n",
        "`twtImgPred`\n",
        "\n",
        "7. tweet_id has the wrong datatype on all files. It also occurs as \"id\" and not \"tweet_id\" on `twtJson` file.\n",
        "\n",
        "8. All files have columns that will not be useful for analysis.\n"
      ]
    },
    {
      "cell_type": "markdown",
      "metadata": {
        "extensions": {
          "jupyter_dashboards": {
            "version": 1,
            "views": {
              "grid_default": {
                "col": 0,
                "height": 7,
                "hidden": false,
                "row": 40,
                "width": 12
              },
              "report_default": {
                "hidden": false
              }
            }
          }
        },
        "id": "vy3F0uXpvsjA"
      },
      "source": [
        "### Tidiness issues\n",
        "After visual and programmatic assessments, the following tidiness issues were found:\n",
        "\n",
        "1. In `weRateDogs` file, the dog stages are in four different columns instead of one.\n",
        "\n",
        "2. The data in three diferent files is not ideal as they contain similar information. The id, favorite_count and retweet_count columns in the `twtJson` file should be included in the `weRateDogs` file and the prediction with the highest confidence should be left in the `twtImgPred` file. The other columns are either already present in the `weRateDogs` file or are not useful for analysis. This will leave only one table."
      ]
    },
    {
      "cell_type": "markdown",
      "metadata": {
        "extensions": {
          "jupyter_dashboards": {
            "version": 1,
            "views": {
              "grid_default": {
                "col": 4,
                "height": 4,
                "hidden": false,
                "row": 32,
                "width": 4
              },
              "report_default": {
                "hidden": false
              }
            }
          }
        },
        "id": "GbKenfxevsjB"
      },
      "source": [
        "<a id = \"clean\"></a>\n",
        "## Cleaning Data\n",
        "All issues documented in the assessment section will be cleaned here.\n",
        "But first, we must make copies of the original data to avoid tampering as a result of cleaning."
      ]
    },
    {
      "cell_type": "code",
      "execution_count": 18,
      "metadata": {
        "id": "bQCInE_JvsjB"
      },
      "outputs": [],
      "source": [
        "# Make copies of original pieces of data\n",
        "weRateDogsClean = weRateDogs.copy()"
      ]
    },
    {
      "cell_type": "code",
      "execution_count": 19,
      "metadata": {
        "id": "G2QOmXYivsjC"
      },
      "outputs": [],
      "source": [
        "twtImgPredClean = twtImgPred.copy()"
      ]
    },
    {
      "cell_type": "code",
      "execution_count": 20,
      "metadata": {
        "id": "hXnWb2ccvsjC"
      },
      "outputs": [],
      "source": [
        "twtJsonClean = twtJson.copy()"
      ]
    },
    {
      "cell_type": "markdown",
      "metadata": {
        "id": "RH6kiM_NvsjD"
      },
      "source": [
        "Great! Now we can perform the cleaning operations on these copies."
      ]
    },
    {
      "cell_type": "markdown",
      "metadata": {
        "id": "C_IktNRovsjD"
      },
      "source": [
        "### Issue #1: Tidiness\n",
        "In `weRateDogs` file, the dog stages are in four different columns instead of one."
      ]
    },
    {
      "cell_type": "code",
      "execution_count": 21,
      "metadata": {
        "colab": {
          "base_uri": "https://localhost:8080/",
          "height": 617
        },
        "id": "7qpbIOAzvsjD",
        "outputId": "5d66f7fb-413f-4f57-e34b-9c3784e1cbd6"
      },
      "outputs": [
        {
          "output_type": "execute_result",
          "data": {
            "text/plain": [
              "                tweet_id  in_reply_to_status_id  in_reply_to_user_id  \\\n",
              "803   772152991789019136                    NaN                  NaN   \n",
              "1926  674053186244734976                    NaN                  NaN   \n",
              "2174  669216679721873412                    NaN                  NaN   \n",
              "252   844973813909606400                    NaN                  NaN   \n",
              "1808  676897532954456065                    NaN                  NaN   \n",
              "\n",
              "                      timestamp  \\\n",
              "803   2016-09-03 19:23:13 +0000   \n",
              "1926  2015-12-08 02:29:37 +0000   \n",
              "2174  2015-11-24 18:11:04 +0000   \n",
              "252   2017-03-23 18:07:10 +0000   \n",
              "1808  2015-12-15 22:52:02 +0000   \n",
              "\n",
              "                                                 source  \\\n",
              "803   <a href=\"http://twitter.com/download/iphone\" r...   \n",
              "1926  <a href=\"http://twitter.com/download/iphone\" r...   \n",
              "2174  <a href=\"http://twitter.com/download/iphone\" r...   \n",
              "252   <a href=\"http://twitter.com/download/iphone\" r...   \n",
              "1808  <a href=\"http://twitter.com/download/iphone\" r...   \n",
              "\n",
              "                                                   text  retweeted_status_id  \\\n",
              "803   Here's a couple rufferees making sure all the ...                  NaN   \n",
              "1926  This is Stanley. Yes he is aware of the spoon'...                  NaN   \n",
              "2174  This is Clarq. He's a golden Quetzalcoatl. Cla...                  NaN   \n",
              "252   This is Brady. He's a recovering alcoholic. De...                  NaN   \n",
              "1808  Exotic handheld dog here. Appears unathletic. ...                  NaN   \n",
              "\n",
              "      retweeted_status_user_id retweeted_status_timestamp  \\\n",
              "803                        NaN                        NaN   \n",
              "1926                       NaN                        NaN   \n",
              "2174                       NaN                        NaN   \n",
              "252                        NaN                        NaN   \n",
              "1808                       NaN                        NaN   \n",
              "\n",
              "                                          expanded_urls  rating_numerator  \\\n",
              "803   https://twitter.com/dog_rates/status/772152991...                10   \n",
              "1926  https://twitter.com/dog_rates/status/674053186...                10   \n",
              "2174  https://twitter.com/dog_rates/status/669216679...                 8   \n",
              "252   https://twitter.com/dog_rates/status/844973813...                12   \n",
              "1808  https://twitter.com/dog_rates/status/676897532...                 5   \n",
              "\n",
              "      rating_denominator     name doggo floofer pupper puppo  \n",
              "803                   10     None  None    None   None  None  \n",
              "1926                  10  Stanley  None    None   None  None  \n",
              "2174                  10    Clarq  None    None   None  None  \n",
              "252                   10    Brady  None    None   None  None  \n",
              "1808                  10     None  None    None   None  None  "
            ],
            "text/html": [
              "\n",
              "  <div id=\"df-8578b4c9-0ea9-4d00-844f-7d158d6b58d0\">\n",
              "    <div class=\"colab-df-container\">\n",
              "      <div>\n",
              "<style scoped>\n",
              "    .dataframe tbody tr th:only-of-type {\n",
              "        vertical-align: middle;\n",
              "    }\n",
              "\n",
              "    .dataframe tbody tr th {\n",
              "        vertical-align: top;\n",
              "    }\n",
              "\n",
              "    .dataframe thead th {\n",
              "        text-align: right;\n",
              "    }\n",
              "</style>\n",
              "<table border=\"1\" class=\"dataframe\">\n",
              "  <thead>\n",
              "    <tr style=\"text-align: right;\">\n",
              "      <th></th>\n",
              "      <th>tweet_id</th>\n",
              "      <th>in_reply_to_status_id</th>\n",
              "      <th>in_reply_to_user_id</th>\n",
              "      <th>timestamp</th>\n",
              "      <th>source</th>\n",
              "      <th>text</th>\n",
              "      <th>retweeted_status_id</th>\n",
              "      <th>retweeted_status_user_id</th>\n",
              "      <th>retweeted_status_timestamp</th>\n",
              "      <th>expanded_urls</th>\n",
              "      <th>rating_numerator</th>\n",
              "      <th>rating_denominator</th>\n",
              "      <th>name</th>\n",
              "      <th>doggo</th>\n",
              "      <th>floofer</th>\n",
              "      <th>pupper</th>\n",
              "      <th>puppo</th>\n",
              "    </tr>\n",
              "  </thead>\n",
              "  <tbody>\n",
              "    <tr>\n",
              "      <th>803</th>\n",
              "      <td>772152991789019136</td>\n",
              "      <td>NaN</td>\n",
              "      <td>NaN</td>\n",
              "      <td>2016-09-03 19:23:13 +0000</td>\n",
              "      <td>&lt;a href=\"http://twitter.com/download/iphone\" r...</td>\n",
              "      <td>Here's a couple rufferees making sure all the ...</td>\n",
              "      <td>NaN</td>\n",
              "      <td>NaN</td>\n",
              "      <td>NaN</td>\n",
              "      <td>https://twitter.com/dog_rates/status/772152991...</td>\n",
              "      <td>10</td>\n",
              "      <td>10</td>\n",
              "      <td>None</td>\n",
              "      <td>None</td>\n",
              "      <td>None</td>\n",
              "      <td>None</td>\n",
              "      <td>None</td>\n",
              "    </tr>\n",
              "    <tr>\n",
              "      <th>1926</th>\n",
              "      <td>674053186244734976</td>\n",
              "      <td>NaN</td>\n",
              "      <td>NaN</td>\n",
              "      <td>2015-12-08 02:29:37 +0000</td>\n",
              "      <td>&lt;a href=\"http://twitter.com/download/iphone\" r...</td>\n",
              "      <td>This is Stanley. Yes he is aware of the spoon'...</td>\n",
              "      <td>NaN</td>\n",
              "      <td>NaN</td>\n",
              "      <td>NaN</td>\n",
              "      <td>https://twitter.com/dog_rates/status/674053186...</td>\n",
              "      <td>10</td>\n",
              "      <td>10</td>\n",
              "      <td>Stanley</td>\n",
              "      <td>None</td>\n",
              "      <td>None</td>\n",
              "      <td>None</td>\n",
              "      <td>None</td>\n",
              "    </tr>\n",
              "    <tr>\n",
              "      <th>2174</th>\n",
              "      <td>669216679721873412</td>\n",
              "      <td>NaN</td>\n",
              "      <td>NaN</td>\n",
              "      <td>2015-11-24 18:11:04 +0000</td>\n",
              "      <td>&lt;a href=\"http://twitter.com/download/iphone\" r...</td>\n",
              "      <td>This is Clarq. He's a golden Quetzalcoatl. Cla...</td>\n",
              "      <td>NaN</td>\n",
              "      <td>NaN</td>\n",
              "      <td>NaN</td>\n",
              "      <td>https://twitter.com/dog_rates/status/669216679...</td>\n",
              "      <td>8</td>\n",
              "      <td>10</td>\n",
              "      <td>Clarq</td>\n",
              "      <td>None</td>\n",
              "      <td>None</td>\n",
              "      <td>None</td>\n",
              "      <td>None</td>\n",
              "    </tr>\n",
              "    <tr>\n",
              "      <th>252</th>\n",
              "      <td>844973813909606400</td>\n",
              "      <td>NaN</td>\n",
              "      <td>NaN</td>\n",
              "      <td>2017-03-23 18:07:10 +0000</td>\n",
              "      <td>&lt;a href=\"http://twitter.com/download/iphone\" r...</td>\n",
              "      <td>This is Brady. He's a recovering alcoholic. De...</td>\n",
              "      <td>NaN</td>\n",
              "      <td>NaN</td>\n",
              "      <td>NaN</td>\n",
              "      <td>https://twitter.com/dog_rates/status/844973813...</td>\n",
              "      <td>12</td>\n",
              "      <td>10</td>\n",
              "      <td>Brady</td>\n",
              "      <td>None</td>\n",
              "      <td>None</td>\n",
              "      <td>None</td>\n",
              "      <td>None</td>\n",
              "    </tr>\n",
              "    <tr>\n",
              "      <th>1808</th>\n",
              "      <td>676897532954456065</td>\n",
              "      <td>NaN</td>\n",
              "      <td>NaN</td>\n",
              "      <td>2015-12-15 22:52:02 +0000</td>\n",
              "      <td>&lt;a href=\"http://twitter.com/download/iphone\" r...</td>\n",
              "      <td>Exotic handheld dog here. Appears unathletic. ...</td>\n",
              "      <td>NaN</td>\n",
              "      <td>NaN</td>\n",
              "      <td>NaN</td>\n",
              "      <td>https://twitter.com/dog_rates/status/676897532...</td>\n",
              "      <td>5</td>\n",
              "      <td>10</td>\n",
              "      <td>None</td>\n",
              "      <td>None</td>\n",
              "      <td>None</td>\n",
              "      <td>None</td>\n",
              "      <td>None</td>\n",
              "    </tr>\n",
              "  </tbody>\n",
              "</table>\n",
              "</div>\n",
              "      <button class=\"colab-df-convert\" onclick=\"convertToInteractive('df-8578b4c9-0ea9-4d00-844f-7d158d6b58d0')\"\n",
              "              title=\"Convert this dataframe to an interactive table.\"\n",
              "              style=\"display:none;\">\n",
              "        \n",
              "  <svg xmlns=\"http://www.w3.org/2000/svg\" height=\"24px\"viewBox=\"0 0 24 24\"\n",
              "       width=\"24px\">\n",
              "    <path d=\"M0 0h24v24H0V0z\" fill=\"none\"/>\n",
              "    <path d=\"M18.56 5.44l.94 2.06.94-2.06 2.06-.94-2.06-.94-.94-2.06-.94 2.06-2.06.94zm-11 1L8.5 8.5l.94-2.06 2.06-.94-2.06-.94L8.5 2.5l-.94 2.06-2.06.94zm10 10l.94 2.06.94-2.06 2.06-.94-2.06-.94-.94-2.06-.94 2.06-2.06.94z\"/><path d=\"M17.41 7.96l-1.37-1.37c-.4-.4-.92-.59-1.43-.59-.52 0-1.04.2-1.43.59L10.3 9.45l-7.72 7.72c-.78.78-.78 2.05 0 2.83L4 21.41c.39.39.9.59 1.41.59.51 0 1.02-.2 1.41-.59l7.78-7.78 2.81-2.81c.8-.78.8-2.07 0-2.86zM5.41 20L4 18.59l7.72-7.72 1.47 1.35L5.41 20z\"/>\n",
              "  </svg>\n",
              "      </button>\n",
              "      \n",
              "  <style>\n",
              "    .colab-df-container {\n",
              "      display:flex;\n",
              "      flex-wrap:wrap;\n",
              "      gap: 12px;\n",
              "    }\n",
              "\n",
              "    .colab-df-convert {\n",
              "      background-color: #E8F0FE;\n",
              "      border: none;\n",
              "      border-radius: 50%;\n",
              "      cursor: pointer;\n",
              "      display: none;\n",
              "      fill: #1967D2;\n",
              "      height: 32px;\n",
              "      padding: 0 0 0 0;\n",
              "      width: 32px;\n",
              "    }\n",
              "\n",
              "    .colab-df-convert:hover {\n",
              "      background-color: #E2EBFA;\n",
              "      box-shadow: 0px 1px 2px rgba(60, 64, 67, 0.3), 0px 1px 3px 1px rgba(60, 64, 67, 0.15);\n",
              "      fill: #174EA6;\n",
              "    }\n",
              "\n",
              "    [theme=dark] .colab-df-convert {\n",
              "      background-color: #3B4455;\n",
              "      fill: #D2E3FC;\n",
              "    }\n",
              "\n",
              "    [theme=dark] .colab-df-convert:hover {\n",
              "      background-color: #434B5C;\n",
              "      box-shadow: 0px 1px 3px 1px rgba(0, 0, 0, 0.15);\n",
              "      filter: drop-shadow(0px 1px 2px rgba(0, 0, 0, 0.3));\n",
              "      fill: #FFFFFF;\n",
              "    }\n",
              "  </style>\n",
              "\n",
              "      <script>\n",
              "        const buttonEl =\n",
              "          document.querySelector('#df-8578b4c9-0ea9-4d00-844f-7d158d6b58d0 button.colab-df-convert');\n",
              "        buttonEl.style.display =\n",
              "          google.colab.kernel.accessAllowed ? 'block' : 'none';\n",
              "\n",
              "        async function convertToInteractive(key) {\n",
              "          const element = document.querySelector('#df-8578b4c9-0ea9-4d00-844f-7d158d6b58d0');\n",
              "          const dataTable =\n",
              "            await google.colab.kernel.invokeFunction('convertToInteractive',\n",
              "                                                     [key], {});\n",
              "          if (!dataTable) return;\n",
              "\n",
              "          const docLinkHtml = 'Like what you see? Visit the ' +\n",
              "            '<a target=\"_blank\" href=https://colab.research.google.com/notebooks/data_table.ipynb>data table notebook</a>'\n",
              "            + ' to learn more about interactive tables.';\n",
              "          element.innerHTML = '';\n",
              "          dataTable['output_type'] = 'display_data';\n",
              "          await google.colab.output.renderOutput(dataTable, element);\n",
              "          const docLink = document.createElement('div');\n",
              "          docLink.innerHTML = docLinkHtml;\n",
              "          element.appendChild(docLink);\n",
              "        }\n",
              "      </script>\n",
              "    </div>\n",
              "  </div>\n",
              "  "
            ]
          },
          "metadata": {},
          "execution_count": 21
        }
      ],
      "source": [
        "#display any five rows of the copy dataset\n",
        "weRateDogsClean.sample(5)"
      ]
    },
    {
      "cell_type": "markdown",
      "metadata": {
        "id": "zzIvIcYgvsjE"
      },
      "source": [
        "### Define: Collapse the four columns into one and name it dog_stage"
      ]
    },
    {
      "cell_type": "markdown",
      "metadata": {
        "id": "3qke-e9UvsjE"
      },
      "source": [
        "#### Code"
      ]
    },
    {
      "cell_type": "code",
      "execution_count": 22,
      "metadata": {
        "id": "JhvKcpHmvsjE"
      },
      "outputs": [],
      "source": [
        "#retain only necessary columns\n",
        "weRateDogsClean = weRateDogsClean[[\"tweet_id\",\"timestamp\",\"source\",\"text\",\"retweeted_status_id\",\"retweeted_status_timestamp\",\"expanded_urls\",\"rating_numerator\",\"rating_denominator\",\"name\", \"puppo\", \"pupper\", \"floofer\", \"doggo\"]]"
      ]
    },
    {
      "cell_type": "code",
      "execution_count": 23,
      "metadata": {
        "id": "C0U5uSaYvsjE"
      },
      "outputs": [],
      "source": [
        "#replace every instance of None in the different dog stages columns with nothing\n",
        "weRateDogsClean[\"doggo\"].replace(\"None\",\"\", inplace=True)"
      ]
    },
    {
      "cell_type": "code",
      "execution_count": 24,
      "metadata": {
        "id": "6nUfKSpRvsjF"
      },
      "outputs": [],
      "source": [
        "weRateDogsClean[\"puppo\"].replace(\"None\",\"\", inplace=True)"
      ]
    },
    {
      "cell_type": "code",
      "execution_count": 25,
      "metadata": {
        "id": "vXpSY3DivsjF"
      },
      "outputs": [],
      "source": [
        "weRateDogsClean[\"pupper\"].replace(\"None\",\"\", inplace=True)"
      ]
    },
    {
      "cell_type": "code",
      "execution_count": 26,
      "metadata": {
        "id": "eH7EvPVtvsjF"
      },
      "outputs": [],
      "source": [
        "weRateDogsClean[\"floofer\"].replace(\"None\",\"\", inplace=True)"
      ]
    },
    {
      "cell_type": "code",
      "execution_count": 27,
      "metadata": {
        "id": "19tq0gTvvsjF"
      },
      "outputs": [],
      "source": [
        "#combine all four columns into called \"dog_stage\"\n",
        "weRateDogsClean[\"dog_stage\"] = weRateDogsClean[\"puppo\"]+weRateDogsClean[\"pupper\"]+weRateDogsClean[\"floofer\"]+weRateDogsClean[\"doggo\"]"
      ]
    },
    {
      "cell_type": "code",
      "execution_count": 28,
      "metadata": {
        "id": "XG1Vl2sMvsjG"
      },
      "outputs": [],
      "source": [
        "#drop the four different dog stage columns as they're now irrelevant\n",
        "weRateDogsClean = weRateDogsClean.drop([\"puppo\", \"pupper\", \"floofer\", \"doggo\"], axis = 1)"
      ]
    },
    {
      "cell_type": "markdown",
      "metadata": {
        "id": "ai-yVyxcvsjG"
      },
      "source": [
        "#### Test"
      ]
    },
    {
      "cell_type": "code",
      "execution_count": 29,
      "metadata": {
        "colab": {
          "base_uri": "https://localhost:8080/",
          "height": 1000
        },
        "id": "xeJ5y7NBvsjG",
        "outputId": "3fc53076-b998-48f1-e670-fd7c057d5337"
      },
      "outputs": [
        {
          "output_type": "execute_result",
          "data": {
            "text/plain": [
              "             tweet_id                  timestamp  \\\n",
              "0  892420643555336193  2017-08-01 16:23:56 +0000   \n",
              "1  892177421306343426  2017-08-01 00:17:27 +0000   \n",
              "2  891815181378084864  2017-07-31 00:18:03 +0000   \n",
              "3  891689557279858688  2017-07-30 15:58:51 +0000   \n",
              "4  891327558926688256  2017-07-29 16:00:24 +0000   \n",
              "5  891087950875897856  2017-07-29 00:08:17 +0000   \n",
              "6  890971913173991426  2017-07-28 16:27:12 +0000   \n",
              "7  890729181411237888  2017-07-28 00:22:40 +0000   \n",
              "8  890609185150312448  2017-07-27 16:25:51 +0000   \n",
              "9  890240255349198849  2017-07-26 15:59:51 +0000   \n",
              "\n",
              "                                              source  \\\n",
              "0  <a href=\"http://twitter.com/download/iphone\" r...   \n",
              "1  <a href=\"http://twitter.com/download/iphone\" r...   \n",
              "2  <a href=\"http://twitter.com/download/iphone\" r...   \n",
              "3  <a href=\"http://twitter.com/download/iphone\" r...   \n",
              "4  <a href=\"http://twitter.com/download/iphone\" r...   \n",
              "5  <a href=\"http://twitter.com/download/iphone\" r...   \n",
              "6  <a href=\"http://twitter.com/download/iphone\" r...   \n",
              "7  <a href=\"http://twitter.com/download/iphone\" r...   \n",
              "8  <a href=\"http://twitter.com/download/iphone\" r...   \n",
              "9  <a href=\"http://twitter.com/download/iphone\" r...   \n",
              "\n",
              "                                                text  retweeted_status_id  \\\n",
              "0  This is Phineas. He's a mystical boy. Only eve...                  NaN   \n",
              "1  This is Tilly. She's just checking pup on you....                  NaN   \n",
              "2  This is Archie. He is a rare Norwegian Pouncin...                  NaN   \n",
              "3  This is Darla. She commenced a snooze mid meal...                  NaN   \n",
              "4  This is Franklin. He would like you to stop ca...                  NaN   \n",
              "5  Here we have a majestic great white breaching ...                  NaN   \n",
              "6  Meet Jax. He enjoys ice cream so much he gets ...                  NaN   \n",
              "7  When you watch your owner call another dog a g...                  NaN   \n",
              "8  This is Zoey. She doesn't want to be one of th...                  NaN   \n",
              "9  This is Cassie. She is a college pup. Studying...                  NaN   \n",
              "\n",
              "  retweeted_status_timestamp  \\\n",
              "0                        NaN   \n",
              "1                        NaN   \n",
              "2                        NaN   \n",
              "3                        NaN   \n",
              "4                        NaN   \n",
              "5                        NaN   \n",
              "6                        NaN   \n",
              "7                        NaN   \n",
              "8                        NaN   \n",
              "9                        NaN   \n",
              "\n",
              "                                       expanded_urls  rating_numerator  \\\n",
              "0  https://twitter.com/dog_rates/status/892420643...                13   \n",
              "1  https://twitter.com/dog_rates/status/892177421...                13   \n",
              "2  https://twitter.com/dog_rates/status/891815181...                12   \n",
              "3  https://twitter.com/dog_rates/status/891689557...                13   \n",
              "4  https://twitter.com/dog_rates/status/891327558...                12   \n",
              "5  https://twitter.com/dog_rates/status/891087950...                13   \n",
              "6  https://gofundme.com/ydvmve-surgery-for-jax,ht...                13   \n",
              "7  https://twitter.com/dog_rates/status/890729181...                13   \n",
              "8  https://twitter.com/dog_rates/status/890609185...                13   \n",
              "9  https://twitter.com/dog_rates/status/890240255...                14   \n",
              "\n",
              "   rating_denominator      name dog_stage  \n",
              "0                  10   Phineas            \n",
              "1                  10     Tilly            \n",
              "2                  10    Archie            \n",
              "3                  10     Darla            \n",
              "4                  10  Franklin            \n",
              "5                  10      None            \n",
              "6                  10       Jax            \n",
              "7                  10      None            \n",
              "8                  10      Zoey            \n",
              "9                  10    Cassie     doggo  "
            ],
            "text/html": [
              "\n",
              "  <div id=\"df-8184086e-8098-4d8a-b20a-62ba5243c955\">\n",
              "    <div class=\"colab-df-container\">\n",
              "      <div>\n",
              "<style scoped>\n",
              "    .dataframe tbody tr th:only-of-type {\n",
              "        vertical-align: middle;\n",
              "    }\n",
              "\n",
              "    .dataframe tbody tr th {\n",
              "        vertical-align: top;\n",
              "    }\n",
              "\n",
              "    .dataframe thead th {\n",
              "        text-align: right;\n",
              "    }\n",
              "</style>\n",
              "<table border=\"1\" class=\"dataframe\">\n",
              "  <thead>\n",
              "    <tr style=\"text-align: right;\">\n",
              "      <th></th>\n",
              "      <th>tweet_id</th>\n",
              "      <th>timestamp</th>\n",
              "      <th>source</th>\n",
              "      <th>text</th>\n",
              "      <th>retweeted_status_id</th>\n",
              "      <th>retweeted_status_timestamp</th>\n",
              "      <th>expanded_urls</th>\n",
              "      <th>rating_numerator</th>\n",
              "      <th>rating_denominator</th>\n",
              "      <th>name</th>\n",
              "      <th>dog_stage</th>\n",
              "    </tr>\n",
              "  </thead>\n",
              "  <tbody>\n",
              "    <tr>\n",
              "      <th>0</th>\n",
              "      <td>892420643555336193</td>\n",
              "      <td>2017-08-01 16:23:56 +0000</td>\n",
              "      <td>&lt;a href=\"http://twitter.com/download/iphone\" r...</td>\n",
              "      <td>This is Phineas. He's a mystical boy. Only eve...</td>\n",
              "      <td>NaN</td>\n",
              "      <td>NaN</td>\n",
              "      <td>https://twitter.com/dog_rates/status/892420643...</td>\n",
              "      <td>13</td>\n",
              "      <td>10</td>\n",
              "      <td>Phineas</td>\n",
              "      <td></td>\n",
              "    </tr>\n",
              "    <tr>\n",
              "      <th>1</th>\n",
              "      <td>892177421306343426</td>\n",
              "      <td>2017-08-01 00:17:27 +0000</td>\n",
              "      <td>&lt;a href=\"http://twitter.com/download/iphone\" r...</td>\n",
              "      <td>This is Tilly. She's just checking pup on you....</td>\n",
              "      <td>NaN</td>\n",
              "      <td>NaN</td>\n",
              "      <td>https://twitter.com/dog_rates/status/892177421...</td>\n",
              "      <td>13</td>\n",
              "      <td>10</td>\n",
              "      <td>Tilly</td>\n",
              "      <td></td>\n",
              "    </tr>\n",
              "    <tr>\n",
              "      <th>2</th>\n",
              "      <td>891815181378084864</td>\n",
              "      <td>2017-07-31 00:18:03 +0000</td>\n",
              "      <td>&lt;a href=\"http://twitter.com/download/iphone\" r...</td>\n",
              "      <td>This is Archie. He is a rare Norwegian Pouncin...</td>\n",
              "      <td>NaN</td>\n",
              "      <td>NaN</td>\n",
              "      <td>https://twitter.com/dog_rates/status/891815181...</td>\n",
              "      <td>12</td>\n",
              "      <td>10</td>\n",
              "      <td>Archie</td>\n",
              "      <td></td>\n",
              "    </tr>\n",
              "    <tr>\n",
              "      <th>3</th>\n",
              "      <td>891689557279858688</td>\n",
              "      <td>2017-07-30 15:58:51 +0000</td>\n",
              "      <td>&lt;a href=\"http://twitter.com/download/iphone\" r...</td>\n",
              "      <td>This is Darla. She commenced a snooze mid meal...</td>\n",
              "      <td>NaN</td>\n",
              "      <td>NaN</td>\n",
              "      <td>https://twitter.com/dog_rates/status/891689557...</td>\n",
              "      <td>13</td>\n",
              "      <td>10</td>\n",
              "      <td>Darla</td>\n",
              "      <td></td>\n",
              "    </tr>\n",
              "    <tr>\n",
              "      <th>4</th>\n",
              "      <td>891327558926688256</td>\n",
              "      <td>2017-07-29 16:00:24 +0000</td>\n",
              "      <td>&lt;a href=\"http://twitter.com/download/iphone\" r...</td>\n",
              "      <td>This is Franklin. He would like you to stop ca...</td>\n",
              "      <td>NaN</td>\n",
              "      <td>NaN</td>\n",
              "      <td>https://twitter.com/dog_rates/status/891327558...</td>\n",
              "      <td>12</td>\n",
              "      <td>10</td>\n",
              "      <td>Franklin</td>\n",
              "      <td></td>\n",
              "    </tr>\n",
              "    <tr>\n",
              "      <th>5</th>\n",
              "      <td>891087950875897856</td>\n",
              "      <td>2017-07-29 00:08:17 +0000</td>\n",
              "      <td>&lt;a href=\"http://twitter.com/download/iphone\" r...</td>\n",
              "      <td>Here we have a majestic great white breaching ...</td>\n",
              "      <td>NaN</td>\n",
              "      <td>NaN</td>\n",
              "      <td>https://twitter.com/dog_rates/status/891087950...</td>\n",
              "      <td>13</td>\n",
              "      <td>10</td>\n",
              "      <td>None</td>\n",
              "      <td></td>\n",
              "    </tr>\n",
              "    <tr>\n",
              "      <th>6</th>\n",
              "      <td>890971913173991426</td>\n",
              "      <td>2017-07-28 16:27:12 +0000</td>\n",
              "      <td>&lt;a href=\"http://twitter.com/download/iphone\" r...</td>\n",
              "      <td>Meet Jax. He enjoys ice cream so much he gets ...</td>\n",
              "      <td>NaN</td>\n",
              "      <td>NaN</td>\n",
              "      <td>https://gofundme.com/ydvmve-surgery-for-jax,ht...</td>\n",
              "      <td>13</td>\n",
              "      <td>10</td>\n",
              "      <td>Jax</td>\n",
              "      <td></td>\n",
              "    </tr>\n",
              "    <tr>\n",
              "      <th>7</th>\n",
              "      <td>890729181411237888</td>\n",
              "      <td>2017-07-28 00:22:40 +0000</td>\n",
              "      <td>&lt;a href=\"http://twitter.com/download/iphone\" r...</td>\n",
              "      <td>When you watch your owner call another dog a g...</td>\n",
              "      <td>NaN</td>\n",
              "      <td>NaN</td>\n",
              "      <td>https://twitter.com/dog_rates/status/890729181...</td>\n",
              "      <td>13</td>\n",
              "      <td>10</td>\n",
              "      <td>None</td>\n",
              "      <td></td>\n",
              "    </tr>\n",
              "    <tr>\n",
              "      <th>8</th>\n",
              "      <td>890609185150312448</td>\n",
              "      <td>2017-07-27 16:25:51 +0000</td>\n",
              "      <td>&lt;a href=\"http://twitter.com/download/iphone\" r...</td>\n",
              "      <td>This is Zoey. She doesn't want to be one of th...</td>\n",
              "      <td>NaN</td>\n",
              "      <td>NaN</td>\n",
              "      <td>https://twitter.com/dog_rates/status/890609185...</td>\n",
              "      <td>13</td>\n",
              "      <td>10</td>\n",
              "      <td>Zoey</td>\n",
              "      <td></td>\n",
              "    </tr>\n",
              "    <tr>\n",
              "      <th>9</th>\n",
              "      <td>890240255349198849</td>\n",
              "      <td>2017-07-26 15:59:51 +0000</td>\n",
              "      <td>&lt;a href=\"http://twitter.com/download/iphone\" r...</td>\n",
              "      <td>This is Cassie. She is a college pup. Studying...</td>\n",
              "      <td>NaN</td>\n",
              "      <td>NaN</td>\n",
              "      <td>https://twitter.com/dog_rates/status/890240255...</td>\n",
              "      <td>14</td>\n",
              "      <td>10</td>\n",
              "      <td>Cassie</td>\n",
              "      <td>doggo</td>\n",
              "    </tr>\n",
              "  </tbody>\n",
              "</table>\n",
              "</div>\n",
              "      <button class=\"colab-df-convert\" onclick=\"convertToInteractive('df-8184086e-8098-4d8a-b20a-62ba5243c955')\"\n",
              "              title=\"Convert this dataframe to an interactive table.\"\n",
              "              style=\"display:none;\">\n",
              "        \n",
              "  <svg xmlns=\"http://www.w3.org/2000/svg\" height=\"24px\"viewBox=\"0 0 24 24\"\n",
              "       width=\"24px\">\n",
              "    <path d=\"M0 0h24v24H0V0z\" fill=\"none\"/>\n",
              "    <path d=\"M18.56 5.44l.94 2.06.94-2.06 2.06-.94-2.06-.94-.94-2.06-.94 2.06-2.06.94zm-11 1L8.5 8.5l.94-2.06 2.06-.94-2.06-.94L8.5 2.5l-.94 2.06-2.06.94zm10 10l.94 2.06.94-2.06 2.06-.94-2.06-.94-.94-2.06-.94 2.06-2.06.94z\"/><path d=\"M17.41 7.96l-1.37-1.37c-.4-.4-.92-.59-1.43-.59-.52 0-1.04.2-1.43.59L10.3 9.45l-7.72 7.72c-.78.78-.78 2.05 0 2.83L4 21.41c.39.39.9.59 1.41.59.51 0 1.02-.2 1.41-.59l7.78-7.78 2.81-2.81c.8-.78.8-2.07 0-2.86zM5.41 20L4 18.59l7.72-7.72 1.47 1.35L5.41 20z\"/>\n",
              "  </svg>\n",
              "      </button>\n",
              "      \n",
              "  <style>\n",
              "    .colab-df-container {\n",
              "      display:flex;\n",
              "      flex-wrap:wrap;\n",
              "      gap: 12px;\n",
              "    }\n",
              "\n",
              "    .colab-df-convert {\n",
              "      background-color: #E8F0FE;\n",
              "      border: none;\n",
              "      border-radius: 50%;\n",
              "      cursor: pointer;\n",
              "      display: none;\n",
              "      fill: #1967D2;\n",
              "      height: 32px;\n",
              "      padding: 0 0 0 0;\n",
              "      width: 32px;\n",
              "    }\n",
              "\n",
              "    .colab-df-convert:hover {\n",
              "      background-color: #E2EBFA;\n",
              "      box-shadow: 0px 1px 2px rgba(60, 64, 67, 0.3), 0px 1px 3px 1px rgba(60, 64, 67, 0.15);\n",
              "      fill: #174EA6;\n",
              "    }\n",
              "\n",
              "    [theme=dark] .colab-df-convert {\n",
              "      background-color: #3B4455;\n",
              "      fill: #D2E3FC;\n",
              "    }\n",
              "\n",
              "    [theme=dark] .colab-df-convert:hover {\n",
              "      background-color: #434B5C;\n",
              "      box-shadow: 0px 1px 3px 1px rgba(0, 0, 0, 0.15);\n",
              "      filter: drop-shadow(0px 1px 2px rgba(0, 0, 0, 0.3));\n",
              "      fill: #FFFFFF;\n",
              "    }\n",
              "  </style>\n",
              "\n",
              "      <script>\n",
              "        const buttonEl =\n",
              "          document.querySelector('#df-8184086e-8098-4d8a-b20a-62ba5243c955 button.colab-df-convert');\n",
              "        buttonEl.style.display =\n",
              "          google.colab.kernel.accessAllowed ? 'block' : 'none';\n",
              "\n",
              "        async function convertToInteractive(key) {\n",
              "          const element = document.querySelector('#df-8184086e-8098-4d8a-b20a-62ba5243c955');\n",
              "          const dataTable =\n",
              "            await google.colab.kernel.invokeFunction('convertToInteractive',\n",
              "                                                     [key], {});\n",
              "          if (!dataTable) return;\n",
              "\n",
              "          const docLinkHtml = 'Like what you see? Visit the ' +\n",
              "            '<a target=\"_blank\" href=https://colab.research.google.com/notebooks/data_table.ipynb>data table notebook</a>'\n",
              "            + ' to learn more about interactive tables.';\n",
              "          element.innerHTML = '';\n",
              "          dataTable['output_type'] = 'display_data';\n",
              "          await google.colab.output.renderOutput(dataTable, element);\n",
              "          const docLink = document.createElement('div');\n",
              "          docLink.innerHTML = docLinkHtml;\n",
              "          element.appendChild(docLink);\n",
              "        }\n",
              "      </script>\n",
              "    </div>\n",
              "  </div>\n",
              "  "
            ]
          },
          "metadata": {},
          "execution_count": 29
        }
      ],
      "source": [
        "#to check if all dog_stages are now in one column\n",
        "weRateDogsClean.head(10)"
      ]
    },
    {
      "cell_type": "markdown",
      "metadata": {
        "id": "IGjJmoy2vsjL"
      },
      "source": [
        "### Issue #2: Tidiness\n",
        "The data in three diferent files is not ideal as they contain similar information. The id, favorite_count and retweet_count columns in the twtJson file should be included in the weRateDogs file and the prediction with the highest confidence should be left in the twtImgPred file. The other columns are either already present in the weRateDogs file or are not useful for analysis. This will leave only one table."
      ]
    },
    {
      "cell_type": "markdown",
      "metadata": {
        "collapsed": true,
        "extensions": {
          "jupyter_dashboards": {
            "version": 1,
            "views": {
              "grid_default": {
                "hidden": true
              },
              "report_default": {
                "hidden": true
              }
            }
          }
        },
        "id": "9q5gwkgWvsjL"
      },
      "source": [
        "#### Define: Join twtJson and twtImgPred tables to weRateDogs and remove unnecessary columns\n"
      ]
    },
    {
      "cell_type": "code",
      "execution_count": 30,
      "metadata": {
        "colab": {
          "base_uri": "https://localhost:8080/"
        },
        "id": "wlGPAajEvsjL",
        "outputId": "d79b7683-30ab-441a-efd1-a0f9602c897f"
      },
      "outputs": [
        {
          "output_type": "execute_result",
          "data": {
            "text/plain": [
              "Index(['created_at', 'id', 'id_str', 'full_text', 'truncated',\n",
              "       'display_text_range', 'entities', 'extended_entities', 'source',\n",
              "       'in_reply_to_status_id', 'in_reply_to_status_id_str',\n",
              "       'in_reply_to_user_id', 'in_reply_to_user_id_str',\n",
              "       'in_reply_to_screen_name', 'user', 'geo', 'coordinates', 'place',\n",
              "       'contributors', 'is_quote_status', 'retweet_count', 'favorite_count',\n",
              "       'favorited', 'retweeted', 'possibly_sensitive',\n",
              "       'possibly_sensitive_appealable', 'lang', 'retweeted_status',\n",
              "       'quoted_status_id', 'quoted_status_id_str', 'quoted_status'],\n",
              "      dtype='object')"
            ]
          },
          "metadata": {},
          "execution_count": 30
        }
      ],
      "source": [
        "#display columns\n",
        "twtJsonClean.columns"
      ]
    },
    {
      "cell_type": "code",
      "execution_count": 31,
      "metadata": {
        "colab": {
          "base_uri": "https://localhost:8080/"
        },
        "id": "ktMAfkIFvsjL",
        "outputId": "c98a8f6f-027a-438b-d075-c26525a537dd"
      },
      "outputs": [
        {
          "output_type": "execute_result",
          "data": {
            "text/plain": [
              "Index(['tweet_id', 'jpg_url', 'img_num', 'p1', 'p1_conf', 'p1_dog', 'p2',\n",
              "       'p2_conf', 'p2_dog', 'p3', 'p3_conf', 'p3_dog'],\n",
              "      dtype='object')"
            ]
          },
          "metadata": {},
          "execution_count": 31
        }
      ],
      "source": [
        "#display columns\n",
        "twtImgPredClean.columns"
      ]
    },
    {
      "cell_type": "code",
      "execution_count": 32,
      "metadata": {
        "colab": {
          "base_uri": "https://localhost:8080/"
        },
        "id": "JYMmHPftvsjM",
        "outputId": "6a98bb59-ca10-43c1-eb98-706317e43478"
      },
      "outputs": [
        {
          "output_type": "execute_result",
          "data": {
            "text/plain": [
              "2075"
            ]
          },
          "metadata": {},
          "execution_count": 32
        }
      ],
      "source": [
        "#count the number of times first prediction was higher than other predictions\n",
        "((twtImgPredClean[\"p1_conf\"] > twtImgPredClean[\"p2_conf\"]) & (twtImgPredClean[\"p1_conf\"] > twtImgPredClean[\"p3_conf\"])).count()"
      ]
    },
    {
      "cell_type": "markdown",
      "metadata": {
        "id": "hfiavOAMvsjM"
      },
      "source": [
        "This shows that in all entries the first predictions had higher confidence so only the p1_conf column will be retained."
      ]
    },
    {
      "cell_type": "markdown",
      "metadata": {
        "id": "DIt7NPePvsjM"
      },
      "source": [
        "#### Code"
      ]
    },
    {
      "cell_type": "code",
      "execution_count": 33,
      "metadata": {
        "id": "xRNVOvZbvsjM"
      },
      "outputs": [],
      "source": [
        "#retain only relevant columns\n",
        "twtJsonClean = twtJsonClean[['id','favorite_count', 'retweet_count']]\n"
      ]
    },
    {
      "cell_type": "code",
      "execution_count": 34,
      "metadata": {
        "id": "pCu7cO55vsjM"
      },
      "outputs": [],
      "source": [
        "#retain only relevant columns\n",
        "twtImgPredClean = twtImgPredClean[['tweet_id','p1', 'p1_conf','p1_dog']]"
      ]
    },
    {
      "cell_type": "code",
      "execution_count": 35,
      "metadata": {
        "id": "DGxM-r6yvsjN"
      },
      "outputs": [],
      "source": [
        "#merge all three datasets into one master dataset\n",
        "weRateDogsClean = weRateDogsClean.merge(twtJsonClean, left_on = \"tweet_id\", right_on = \"id\", how = \"left\", validate = \"one_to_one\")\n",
        "weRateDogsClean = weRateDogsClean.merge(twtImgPredClean, on = \"tweet_id\", how = \"left\", validate = \"one_to_one\")\n"
      ]
    },
    {
      "cell_type": "markdown",
      "metadata": {
        "id": "sU0XxrH6vsjN"
      },
      "source": [
        "#### Test"
      ]
    },
    {
      "cell_type": "code",
      "execution_count": 36,
      "metadata": {
        "colab": {
          "base_uri": "https://localhost:8080/"
        },
        "id": "PCerxDmSvsjN",
        "outputId": "3b07c20d-0073-4cdc-be5f-5658713dbf23"
      },
      "outputs": [
        {
          "output_type": "execute_result",
          "data": {
            "text/plain": [
              "(2356, 17)"
            ]
          },
          "metadata": {},
          "execution_count": 36
        }
      ],
      "source": [
        "#check number of rows and columns of master dataset\n",
        "weRateDogsClean.shape"
      ]
    },
    {
      "cell_type": "code",
      "execution_count": 37,
      "metadata": {
        "colab": {
          "base_uri": "https://localhost:8080/",
          "height": 635
        },
        "id": "7NrF_wYzvsjN",
        "outputId": "1205d95e-2b95-4f96-b49e-003d91936123"
      },
      "outputs": [
        {
          "output_type": "execute_result",
          "data": {
            "text/plain": [
              "             tweet_id                  timestamp  \\\n",
              "0  892420643555336193  2017-08-01 16:23:56 +0000   \n",
              "1  892177421306343426  2017-08-01 00:17:27 +0000   \n",
              "2  891815181378084864  2017-07-31 00:18:03 +0000   \n",
              "3  891689557279858688  2017-07-30 15:58:51 +0000   \n",
              "4  891327558926688256  2017-07-29 16:00:24 +0000   \n",
              "\n",
              "                                              source  \\\n",
              "0  <a href=\"http://twitter.com/download/iphone\" r...   \n",
              "1  <a href=\"http://twitter.com/download/iphone\" r...   \n",
              "2  <a href=\"http://twitter.com/download/iphone\" r...   \n",
              "3  <a href=\"http://twitter.com/download/iphone\" r...   \n",
              "4  <a href=\"http://twitter.com/download/iphone\" r...   \n",
              "\n",
              "                                                text  retweeted_status_id  \\\n",
              "0  This is Phineas. He's a mystical boy. Only eve...                  NaN   \n",
              "1  This is Tilly. She's just checking pup on you....                  NaN   \n",
              "2  This is Archie. He is a rare Norwegian Pouncin...                  NaN   \n",
              "3  This is Darla. She commenced a snooze mid meal...                  NaN   \n",
              "4  This is Franklin. He would like you to stop ca...                  NaN   \n",
              "\n",
              "  retweeted_status_timestamp  \\\n",
              "0                        NaN   \n",
              "1                        NaN   \n",
              "2                        NaN   \n",
              "3                        NaN   \n",
              "4                        NaN   \n",
              "\n",
              "                                       expanded_urls  rating_numerator  \\\n",
              "0  https://twitter.com/dog_rates/status/892420643...                13   \n",
              "1  https://twitter.com/dog_rates/status/892177421...                13   \n",
              "2  https://twitter.com/dog_rates/status/891815181...                12   \n",
              "3  https://twitter.com/dog_rates/status/891689557...                13   \n",
              "4  https://twitter.com/dog_rates/status/891327558...                12   \n",
              "\n",
              "   rating_denominator      name dog_stage            id  favorite_count  \\\n",
              "0                  10   Phineas            8.924206e+17         39467.0   \n",
              "1                  10     Tilly            8.921774e+17         33819.0   \n",
              "2                  10    Archie            8.918152e+17         25461.0   \n",
              "3                  10     Darla            8.916896e+17         42908.0   \n",
              "4                  10  Franklin            8.913276e+17         41048.0   \n",
              "\n",
              "   retweet_count           p1   p1_conf p1_dog  \n",
              "0         8853.0       orange  0.097049  False  \n",
              "1         6514.0    Chihuahua  0.323581   True  \n",
              "2         4328.0    Chihuahua  0.716012   True  \n",
              "3         8964.0  paper_towel  0.170278  False  \n",
              "4         9774.0       basset  0.555712   True  "
            ],
            "text/html": [
              "\n",
              "  <div id=\"df-2cf7b92a-1247-4f9d-971f-a2a173d13173\">\n",
              "    <div class=\"colab-df-container\">\n",
              "      <div>\n",
              "<style scoped>\n",
              "    .dataframe tbody tr th:only-of-type {\n",
              "        vertical-align: middle;\n",
              "    }\n",
              "\n",
              "    .dataframe tbody tr th {\n",
              "        vertical-align: top;\n",
              "    }\n",
              "\n",
              "    .dataframe thead th {\n",
              "        text-align: right;\n",
              "    }\n",
              "</style>\n",
              "<table border=\"1\" class=\"dataframe\">\n",
              "  <thead>\n",
              "    <tr style=\"text-align: right;\">\n",
              "      <th></th>\n",
              "      <th>tweet_id</th>\n",
              "      <th>timestamp</th>\n",
              "      <th>source</th>\n",
              "      <th>text</th>\n",
              "      <th>retweeted_status_id</th>\n",
              "      <th>retweeted_status_timestamp</th>\n",
              "      <th>expanded_urls</th>\n",
              "      <th>rating_numerator</th>\n",
              "      <th>rating_denominator</th>\n",
              "      <th>name</th>\n",
              "      <th>dog_stage</th>\n",
              "      <th>id</th>\n",
              "      <th>favorite_count</th>\n",
              "      <th>retweet_count</th>\n",
              "      <th>p1</th>\n",
              "      <th>p1_conf</th>\n",
              "      <th>p1_dog</th>\n",
              "    </tr>\n",
              "  </thead>\n",
              "  <tbody>\n",
              "    <tr>\n",
              "      <th>0</th>\n",
              "      <td>892420643555336193</td>\n",
              "      <td>2017-08-01 16:23:56 +0000</td>\n",
              "      <td>&lt;a href=\"http://twitter.com/download/iphone\" r...</td>\n",
              "      <td>This is Phineas. He's a mystical boy. Only eve...</td>\n",
              "      <td>NaN</td>\n",
              "      <td>NaN</td>\n",
              "      <td>https://twitter.com/dog_rates/status/892420643...</td>\n",
              "      <td>13</td>\n",
              "      <td>10</td>\n",
              "      <td>Phineas</td>\n",
              "      <td></td>\n",
              "      <td>8.924206e+17</td>\n",
              "      <td>39467.0</td>\n",
              "      <td>8853.0</td>\n",
              "      <td>orange</td>\n",
              "      <td>0.097049</td>\n",
              "      <td>False</td>\n",
              "    </tr>\n",
              "    <tr>\n",
              "      <th>1</th>\n",
              "      <td>892177421306343426</td>\n",
              "      <td>2017-08-01 00:17:27 +0000</td>\n",
              "      <td>&lt;a href=\"http://twitter.com/download/iphone\" r...</td>\n",
              "      <td>This is Tilly. She's just checking pup on you....</td>\n",
              "      <td>NaN</td>\n",
              "      <td>NaN</td>\n",
              "      <td>https://twitter.com/dog_rates/status/892177421...</td>\n",
              "      <td>13</td>\n",
              "      <td>10</td>\n",
              "      <td>Tilly</td>\n",
              "      <td></td>\n",
              "      <td>8.921774e+17</td>\n",
              "      <td>33819.0</td>\n",
              "      <td>6514.0</td>\n",
              "      <td>Chihuahua</td>\n",
              "      <td>0.323581</td>\n",
              "      <td>True</td>\n",
              "    </tr>\n",
              "    <tr>\n",
              "      <th>2</th>\n",
              "      <td>891815181378084864</td>\n",
              "      <td>2017-07-31 00:18:03 +0000</td>\n",
              "      <td>&lt;a href=\"http://twitter.com/download/iphone\" r...</td>\n",
              "      <td>This is Archie. He is a rare Norwegian Pouncin...</td>\n",
              "      <td>NaN</td>\n",
              "      <td>NaN</td>\n",
              "      <td>https://twitter.com/dog_rates/status/891815181...</td>\n",
              "      <td>12</td>\n",
              "      <td>10</td>\n",
              "      <td>Archie</td>\n",
              "      <td></td>\n",
              "      <td>8.918152e+17</td>\n",
              "      <td>25461.0</td>\n",
              "      <td>4328.0</td>\n",
              "      <td>Chihuahua</td>\n",
              "      <td>0.716012</td>\n",
              "      <td>True</td>\n",
              "    </tr>\n",
              "    <tr>\n",
              "      <th>3</th>\n",
              "      <td>891689557279858688</td>\n",
              "      <td>2017-07-30 15:58:51 +0000</td>\n",
              "      <td>&lt;a href=\"http://twitter.com/download/iphone\" r...</td>\n",
              "      <td>This is Darla. She commenced a snooze mid meal...</td>\n",
              "      <td>NaN</td>\n",
              "      <td>NaN</td>\n",
              "      <td>https://twitter.com/dog_rates/status/891689557...</td>\n",
              "      <td>13</td>\n",
              "      <td>10</td>\n",
              "      <td>Darla</td>\n",
              "      <td></td>\n",
              "      <td>8.916896e+17</td>\n",
              "      <td>42908.0</td>\n",
              "      <td>8964.0</td>\n",
              "      <td>paper_towel</td>\n",
              "      <td>0.170278</td>\n",
              "      <td>False</td>\n",
              "    </tr>\n",
              "    <tr>\n",
              "      <th>4</th>\n",
              "      <td>891327558926688256</td>\n",
              "      <td>2017-07-29 16:00:24 +0000</td>\n",
              "      <td>&lt;a href=\"http://twitter.com/download/iphone\" r...</td>\n",
              "      <td>This is Franklin. He would like you to stop ca...</td>\n",
              "      <td>NaN</td>\n",
              "      <td>NaN</td>\n",
              "      <td>https://twitter.com/dog_rates/status/891327558...</td>\n",
              "      <td>12</td>\n",
              "      <td>10</td>\n",
              "      <td>Franklin</td>\n",
              "      <td></td>\n",
              "      <td>8.913276e+17</td>\n",
              "      <td>41048.0</td>\n",
              "      <td>9774.0</td>\n",
              "      <td>basset</td>\n",
              "      <td>0.555712</td>\n",
              "      <td>True</td>\n",
              "    </tr>\n",
              "  </tbody>\n",
              "</table>\n",
              "</div>\n",
              "      <button class=\"colab-df-convert\" onclick=\"convertToInteractive('df-2cf7b92a-1247-4f9d-971f-a2a173d13173')\"\n",
              "              title=\"Convert this dataframe to an interactive table.\"\n",
              "              style=\"display:none;\">\n",
              "        \n",
              "  <svg xmlns=\"http://www.w3.org/2000/svg\" height=\"24px\"viewBox=\"0 0 24 24\"\n",
              "       width=\"24px\">\n",
              "    <path d=\"M0 0h24v24H0V0z\" fill=\"none\"/>\n",
              "    <path d=\"M18.56 5.44l.94 2.06.94-2.06 2.06-.94-2.06-.94-.94-2.06-.94 2.06-2.06.94zm-11 1L8.5 8.5l.94-2.06 2.06-.94-2.06-.94L8.5 2.5l-.94 2.06-2.06.94zm10 10l.94 2.06.94-2.06 2.06-.94-2.06-.94-.94-2.06-.94 2.06-2.06.94z\"/><path d=\"M17.41 7.96l-1.37-1.37c-.4-.4-.92-.59-1.43-.59-.52 0-1.04.2-1.43.59L10.3 9.45l-7.72 7.72c-.78.78-.78 2.05 0 2.83L4 21.41c.39.39.9.59 1.41.59.51 0 1.02-.2 1.41-.59l7.78-7.78 2.81-2.81c.8-.78.8-2.07 0-2.86zM5.41 20L4 18.59l7.72-7.72 1.47 1.35L5.41 20z\"/>\n",
              "  </svg>\n",
              "      </button>\n",
              "      \n",
              "  <style>\n",
              "    .colab-df-container {\n",
              "      display:flex;\n",
              "      flex-wrap:wrap;\n",
              "      gap: 12px;\n",
              "    }\n",
              "\n",
              "    .colab-df-convert {\n",
              "      background-color: #E8F0FE;\n",
              "      border: none;\n",
              "      border-radius: 50%;\n",
              "      cursor: pointer;\n",
              "      display: none;\n",
              "      fill: #1967D2;\n",
              "      height: 32px;\n",
              "      padding: 0 0 0 0;\n",
              "      width: 32px;\n",
              "    }\n",
              "\n",
              "    .colab-df-convert:hover {\n",
              "      background-color: #E2EBFA;\n",
              "      box-shadow: 0px 1px 2px rgba(60, 64, 67, 0.3), 0px 1px 3px 1px rgba(60, 64, 67, 0.15);\n",
              "      fill: #174EA6;\n",
              "    }\n",
              "\n",
              "    [theme=dark] .colab-df-convert {\n",
              "      background-color: #3B4455;\n",
              "      fill: #D2E3FC;\n",
              "    }\n",
              "\n",
              "    [theme=dark] .colab-df-convert:hover {\n",
              "      background-color: #434B5C;\n",
              "      box-shadow: 0px 1px 3px 1px rgba(0, 0, 0, 0.15);\n",
              "      filter: drop-shadow(0px 1px 2px rgba(0, 0, 0, 0.3));\n",
              "      fill: #FFFFFF;\n",
              "    }\n",
              "  </style>\n",
              "\n",
              "      <script>\n",
              "        const buttonEl =\n",
              "          document.querySelector('#df-2cf7b92a-1247-4f9d-971f-a2a173d13173 button.colab-df-convert');\n",
              "        buttonEl.style.display =\n",
              "          google.colab.kernel.accessAllowed ? 'block' : 'none';\n",
              "\n",
              "        async function convertToInteractive(key) {\n",
              "          const element = document.querySelector('#df-2cf7b92a-1247-4f9d-971f-a2a173d13173');\n",
              "          const dataTable =\n",
              "            await google.colab.kernel.invokeFunction('convertToInteractive',\n",
              "                                                     [key], {});\n",
              "          if (!dataTable) return;\n",
              "\n",
              "          const docLinkHtml = 'Like what you see? Visit the ' +\n",
              "            '<a target=\"_blank\" href=https://colab.research.google.com/notebooks/data_table.ipynb>data table notebook</a>'\n",
              "            + ' to learn more about interactive tables.';\n",
              "          element.innerHTML = '';\n",
              "          dataTable['output_type'] = 'display_data';\n",
              "          await google.colab.output.renderOutput(dataTable, element);\n",
              "          const docLink = document.createElement('div');\n",
              "          docLink.innerHTML = docLinkHtml;\n",
              "          element.appendChild(docLink);\n",
              "        }\n",
              "      </script>\n",
              "    </div>\n",
              "  </div>\n",
              "  "
            ]
          },
          "metadata": {},
          "execution_count": 37
        }
      ],
      "source": [
        "#display first 5 lines of master daraset\n",
        "weRateDogsClean.head(5)"
      ]
    },
    {
      "cell_type": "markdown",
      "metadata": {
        "id": "zGUdjNO9vsjO"
      },
      "source": [
        "### Issue 3 and 4: Quality\n",
        "- In weRateDogs, Timestamp and retweeted_timestamp has unnecessary values +0000\n",
        "\n",
        "- Timestamp and retweeted_timestampchas wrong datatype\n",
        "\n"
      ]
    },
    {
      "cell_type": "markdown",
      "metadata": {
        "id": "PLWt1kSdvsjO"
      },
      "source": [
        "#### Define: Resolve both issues by changing the datatype to datetime"
      ]
    },
    {
      "cell_type": "code",
      "execution_count": 38,
      "metadata": {
        "colab": {
          "base_uri": "https://localhost:8080/"
        },
        "id": "XIkUQCQ7vsjO",
        "outputId": "5e3d644f-d88e-42cd-8b24-1e01cc6337d3"
      },
      "outputs": [
        {
          "output_type": "stream",
          "name": "stdout",
          "text": [
            "<class 'pandas.core.frame.DataFrame'>\n",
            "Int64Index: 2356 entries, 0 to 2355\n",
            "Data columns (total 17 columns):\n",
            " #   Column                      Non-Null Count  Dtype  \n",
            "---  ------                      --------------  -----  \n",
            " 0   tweet_id                    2356 non-null   int64  \n",
            " 1   timestamp                   2356 non-null   object \n",
            " 2   source                      2356 non-null   object \n",
            " 3   text                        2356 non-null   object \n",
            " 4   retweeted_status_id         181 non-null    float64\n",
            " 5   retweeted_status_timestamp  181 non-null    object \n",
            " 6   expanded_urls               2297 non-null   object \n",
            " 7   rating_numerator            2356 non-null   int64  \n",
            " 8   rating_denominator          2356 non-null   int64  \n",
            " 9   name                        2356 non-null   object \n",
            " 10  dog_stage                   2356 non-null   object \n",
            " 11  id                          2354 non-null   float64\n",
            " 12  favorite_count              2354 non-null   float64\n",
            " 13  retweet_count               2354 non-null   float64\n",
            " 14  p1                          2075 non-null   object \n",
            " 15  p1_conf                     2075 non-null   float64\n",
            " 16  p1_dog                      2075 non-null   object \n",
            "dtypes: float64(5), int64(3), object(9)\n",
            "memory usage: 331.3+ KB\n"
          ]
        }
      ],
      "source": [
        "#get information on columns datatype\n",
        "weRateDogsClean.info()"
      ]
    },
    {
      "cell_type": "markdown",
      "metadata": {
        "id": "TPLrv7YVvsjO"
      },
      "source": [
        "#### Code"
      ]
    },
    {
      "cell_type": "code",
      "execution_count": 39,
      "metadata": {
        "id": "q8RdfUG8vsjP"
      },
      "outputs": [],
      "source": [
        "#change datatype to datetime\n",
        "weRateDogsClean[\"timestamp\"] = pd.to_datetime(weRateDogsClean[\"timestamp\"])\n",
        "weRateDogsClean[\"retweeted_status_timestamp\"] = pd.to_datetime(weRateDogsClean[\"retweeted_status_timestamp\"])"
      ]
    },
    {
      "cell_type": "markdown",
      "metadata": {
        "id": "YqVOeT0HvsjP"
      },
      "source": [
        "#### Test"
      ]
    },
    {
      "cell_type": "code",
      "execution_count": 40,
      "metadata": {
        "scrolled": true,
        "colab": {
          "base_uri": "https://localhost:8080/",
          "height": 583
        },
        "id": "ctmF88NCvsjP",
        "outputId": "c14b2415-a860-4c5c-e671-2298d3abf0d3"
      },
      "outputs": [
        {
          "output_type": "execute_result",
          "data": {
            "text/plain": [
              "                tweet_id                 timestamp  \\\n",
              "577   800855607700029440 2016-11-22 00:17:10+00:00   \n",
              "1508  691483041324204033 2016-01-25 04:49:38+00:00   \n",
              "408   823581115634085888 2017-01-23 17:20:14+00:00   \n",
              "1286  708400866336894977 2016-03-11 21:15:02+00:00   \n",
              "1341  704847917308362754 2016-03-02 01:56:53+00:00   \n",
              "\n",
              "                                                 source  \\\n",
              "577   <a href=\"http://twitter.com/download/iphone\" r...   \n",
              "1508  <a href=\"http://twitter.com/download/iphone\" r...   \n",
              "408   <a href=\"http://twitter.com/download/iphone\" r...   \n",
              "1286  <a href=\"http://vine.co\" rel=\"nofollow\">Vine -...   \n",
              "1341  <a href=\"http://twitter.com/download/iphone\" r...   \n",
              "\n",
              "                                                   text  retweeted_status_id  \\\n",
              "577   RT @Lin_Manuel: 11/10 would recommend. https:/...         8.008540e+17   \n",
              "1508  When bae says they can't go out but you see th...                  NaN   \n",
              "408   This is Crawford. He's quite h*ckin good at th...                  NaN   \n",
              "1286  RT if you are as ready for summer as this pup ...                  NaN   \n",
              "1341  \"Yes hi could I get a number 4 with no pickles...                  NaN   \n",
              "\n",
              "     retweeted_status_timestamp  \\\n",
              "577   2016-11-22 00:10:52+00:00   \n",
              "1508                        NaT   \n",
              "408                         NaT   \n",
              "1286                        NaT   \n",
              "1341                        NaT   \n",
              "\n",
              "                                          expanded_urls  rating_numerator  \\\n",
              "577   https://twitter.com/littlewiewel/status/800852...                11   \n",
              "1508  https://twitter.com/dog_rates/status/691483041...                 5   \n",
              "408   https://twitter.com/dog_rates/status/823581115...                11   \n",
              "1286                      https://vine.co/v/iHFqnjKVbIQ                12   \n",
              "1341  https://twitter.com/dog_rates/status/704847917...                12   \n",
              "\n",
              "      rating_denominator      name dog_stage            id  favorite_count  \\\n",
              "577                   10      None            8.008556e+17             0.0   \n",
              "1508                  10      None            6.914830e+17          2608.0   \n",
              "408                   10  Crawford            8.235811e+17         14376.0   \n",
              "1286                  10      None            7.084009e+17         17516.0   \n",
              "1341                  10      None            7.048479e+17          5594.0   \n",
              "\n",
              "      retweet_count                p1   p1_conf p1_dog  \n",
              "577          1889.0               NaN       NaN    NaN  \n",
              "1508          656.0        bloodhound  0.886232   True  \n",
              "408          3031.0             dingo  0.280949  False  \n",
              "1286        11330.0               NaN       NaN    NaN  \n",
              "1341         1727.0  golden_retriever  0.857240   True  "
            ],
            "text/html": [
              "\n",
              "  <div id=\"df-05c48f18-fc71-470c-b607-2bff9e7ea445\">\n",
              "    <div class=\"colab-df-container\">\n",
              "      <div>\n",
              "<style scoped>\n",
              "    .dataframe tbody tr th:only-of-type {\n",
              "        vertical-align: middle;\n",
              "    }\n",
              "\n",
              "    .dataframe tbody tr th {\n",
              "        vertical-align: top;\n",
              "    }\n",
              "\n",
              "    .dataframe thead th {\n",
              "        text-align: right;\n",
              "    }\n",
              "</style>\n",
              "<table border=\"1\" class=\"dataframe\">\n",
              "  <thead>\n",
              "    <tr style=\"text-align: right;\">\n",
              "      <th></th>\n",
              "      <th>tweet_id</th>\n",
              "      <th>timestamp</th>\n",
              "      <th>source</th>\n",
              "      <th>text</th>\n",
              "      <th>retweeted_status_id</th>\n",
              "      <th>retweeted_status_timestamp</th>\n",
              "      <th>expanded_urls</th>\n",
              "      <th>rating_numerator</th>\n",
              "      <th>rating_denominator</th>\n",
              "      <th>name</th>\n",
              "      <th>dog_stage</th>\n",
              "      <th>id</th>\n",
              "      <th>favorite_count</th>\n",
              "      <th>retweet_count</th>\n",
              "      <th>p1</th>\n",
              "      <th>p1_conf</th>\n",
              "      <th>p1_dog</th>\n",
              "    </tr>\n",
              "  </thead>\n",
              "  <tbody>\n",
              "    <tr>\n",
              "      <th>577</th>\n",
              "      <td>800855607700029440</td>\n",
              "      <td>2016-11-22 00:17:10+00:00</td>\n",
              "      <td>&lt;a href=\"http://twitter.com/download/iphone\" r...</td>\n",
              "      <td>RT @Lin_Manuel: 11/10 would recommend. https:/...</td>\n",
              "      <td>8.008540e+17</td>\n",
              "      <td>2016-11-22 00:10:52+00:00</td>\n",
              "      <td>https://twitter.com/littlewiewel/status/800852...</td>\n",
              "      <td>11</td>\n",
              "      <td>10</td>\n",
              "      <td>None</td>\n",
              "      <td></td>\n",
              "      <td>8.008556e+17</td>\n",
              "      <td>0.0</td>\n",
              "      <td>1889.0</td>\n",
              "      <td>NaN</td>\n",
              "      <td>NaN</td>\n",
              "      <td>NaN</td>\n",
              "    </tr>\n",
              "    <tr>\n",
              "      <th>1508</th>\n",
              "      <td>691483041324204033</td>\n",
              "      <td>2016-01-25 04:49:38+00:00</td>\n",
              "      <td>&lt;a href=\"http://twitter.com/download/iphone\" r...</td>\n",
              "      <td>When bae says they can't go out but you see th...</td>\n",
              "      <td>NaN</td>\n",
              "      <td>NaT</td>\n",
              "      <td>https://twitter.com/dog_rates/status/691483041...</td>\n",
              "      <td>5</td>\n",
              "      <td>10</td>\n",
              "      <td>None</td>\n",
              "      <td></td>\n",
              "      <td>6.914830e+17</td>\n",
              "      <td>2608.0</td>\n",
              "      <td>656.0</td>\n",
              "      <td>bloodhound</td>\n",
              "      <td>0.886232</td>\n",
              "      <td>True</td>\n",
              "    </tr>\n",
              "    <tr>\n",
              "      <th>408</th>\n",
              "      <td>823581115634085888</td>\n",
              "      <td>2017-01-23 17:20:14+00:00</td>\n",
              "      <td>&lt;a href=\"http://twitter.com/download/iphone\" r...</td>\n",
              "      <td>This is Crawford. He's quite h*ckin good at th...</td>\n",
              "      <td>NaN</td>\n",
              "      <td>NaT</td>\n",
              "      <td>https://twitter.com/dog_rates/status/823581115...</td>\n",
              "      <td>11</td>\n",
              "      <td>10</td>\n",
              "      <td>Crawford</td>\n",
              "      <td></td>\n",
              "      <td>8.235811e+17</td>\n",
              "      <td>14376.0</td>\n",
              "      <td>3031.0</td>\n",
              "      <td>dingo</td>\n",
              "      <td>0.280949</td>\n",
              "      <td>False</td>\n",
              "    </tr>\n",
              "    <tr>\n",
              "      <th>1286</th>\n",
              "      <td>708400866336894977</td>\n",
              "      <td>2016-03-11 21:15:02+00:00</td>\n",
              "      <td>&lt;a href=\"http://vine.co\" rel=\"nofollow\"&gt;Vine -...</td>\n",
              "      <td>RT if you are as ready for summer as this pup ...</td>\n",
              "      <td>NaN</td>\n",
              "      <td>NaT</td>\n",
              "      <td>https://vine.co/v/iHFqnjKVbIQ</td>\n",
              "      <td>12</td>\n",
              "      <td>10</td>\n",
              "      <td>None</td>\n",
              "      <td></td>\n",
              "      <td>7.084009e+17</td>\n",
              "      <td>17516.0</td>\n",
              "      <td>11330.0</td>\n",
              "      <td>NaN</td>\n",
              "      <td>NaN</td>\n",
              "      <td>NaN</td>\n",
              "    </tr>\n",
              "    <tr>\n",
              "      <th>1341</th>\n",
              "      <td>704847917308362754</td>\n",
              "      <td>2016-03-02 01:56:53+00:00</td>\n",
              "      <td>&lt;a href=\"http://twitter.com/download/iphone\" r...</td>\n",
              "      <td>\"Yes hi could I get a number 4 with no pickles...</td>\n",
              "      <td>NaN</td>\n",
              "      <td>NaT</td>\n",
              "      <td>https://twitter.com/dog_rates/status/704847917...</td>\n",
              "      <td>12</td>\n",
              "      <td>10</td>\n",
              "      <td>None</td>\n",
              "      <td></td>\n",
              "      <td>7.048479e+17</td>\n",
              "      <td>5594.0</td>\n",
              "      <td>1727.0</td>\n",
              "      <td>golden_retriever</td>\n",
              "      <td>0.857240</td>\n",
              "      <td>True</td>\n",
              "    </tr>\n",
              "  </tbody>\n",
              "</table>\n",
              "</div>\n",
              "      <button class=\"colab-df-convert\" onclick=\"convertToInteractive('df-05c48f18-fc71-470c-b607-2bff9e7ea445')\"\n",
              "              title=\"Convert this dataframe to an interactive table.\"\n",
              "              style=\"display:none;\">\n",
              "        \n",
              "  <svg xmlns=\"http://www.w3.org/2000/svg\" height=\"24px\"viewBox=\"0 0 24 24\"\n",
              "       width=\"24px\">\n",
              "    <path d=\"M0 0h24v24H0V0z\" fill=\"none\"/>\n",
              "    <path d=\"M18.56 5.44l.94 2.06.94-2.06 2.06-.94-2.06-.94-.94-2.06-.94 2.06-2.06.94zm-11 1L8.5 8.5l.94-2.06 2.06-.94-2.06-.94L8.5 2.5l-.94 2.06-2.06.94zm10 10l.94 2.06.94-2.06 2.06-.94-2.06-.94-.94-2.06-.94 2.06-2.06.94z\"/><path d=\"M17.41 7.96l-1.37-1.37c-.4-.4-.92-.59-1.43-.59-.52 0-1.04.2-1.43.59L10.3 9.45l-7.72 7.72c-.78.78-.78 2.05 0 2.83L4 21.41c.39.39.9.59 1.41.59.51 0 1.02-.2 1.41-.59l7.78-7.78 2.81-2.81c.8-.78.8-2.07 0-2.86zM5.41 20L4 18.59l7.72-7.72 1.47 1.35L5.41 20z\"/>\n",
              "  </svg>\n",
              "      </button>\n",
              "      \n",
              "  <style>\n",
              "    .colab-df-container {\n",
              "      display:flex;\n",
              "      flex-wrap:wrap;\n",
              "      gap: 12px;\n",
              "    }\n",
              "\n",
              "    .colab-df-convert {\n",
              "      background-color: #E8F0FE;\n",
              "      border: none;\n",
              "      border-radius: 50%;\n",
              "      cursor: pointer;\n",
              "      display: none;\n",
              "      fill: #1967D2;\n",
              "      height: 32px;\n",
              "      padding: 0 0 0 0;\n",
              "      width: 32px;\n",
              "    }\n",
              "\n",
              "    .colab-df-convert:hover {\n",
              "      background-color: #E2EBFA;\n",
              "      box-shadow: 0px 1px 2px rgba(60, 64, 67, 0.3), 0px 1px 3px 1px rgba(60, 64, 67, 0.15);\n",
              "      fill: #174EA6;\n",
              "    }\n",
              "\n",
              "    [theme=dark] .colab-df-convert {\n",
              "      background-color: #3B4455;\n",
              "      fill: #D2E3FC;\n",
              "    }\n",
              "\n",
              "    [theme=dark] .colab-df-convert:hover {\n",
              "      background-color: #434B5C;\n",
              "      box-shadow: 0px 1px 3px 1px rgba(0, 0, 0, 0.15);\n",
              "      filter: drop-shadow(0px 1px 2px rgba(0, 0, 0, 0.3));\n",
              "      fill: #FFFFFF;\n",
              "    }\n",
              "  </style>\n",
              "\n",
              "      <script>\n",
              "        const buttonEl =\n",
              "          document.querySelector('#df-05c48f18-fc71-470c-b607-2bff9e7ea445 button.colab-df-convert');\n",
              "        buttonEl.style.display =\n",
              "          google.colab.kernel.accessAllowed ? 'block' : 'none';\n",
              "\n",
              "        async function convertToInteractive(key) {\n",
              "          const element = document.querySelector('#df-05c48f18-fc71-470c-b607-2bff9e7ea445');\n",
              "          const dataTable =\n",
              "            await google.colab.kernel.invokeFunction('convertToInteractive',\n",
              "                                                     [key], {});\n",
              "          if (!dataTable) return;\n",
              "\n",
              "          const docLinkHtml = 'Like what you see? Visit the ' +\n",
              "            '<a target=\"_blank\" href=https://colab.research.google.com/notebooks/data_table.ipynb>data table notebook</a>'\n",
              "            + ' to learn more about interactive tables.';\n",
              "          element.innerHTML = '';\n",
              "          dataTable['output_type'] = 'display_data';\n",
              "          await google.colab.output.renderOutput(dataTable, element);\n",
              "          const docLink = document.createElement('div');\n",
              "          docLink.innerHTML = docLinkHtml;\n",
              "          element.appendChild(docLink);\n",
              "        }\n",
              "      </script>\n",
              "    </div>\n",
              "  </div>\n",
              "  "
            ]
          },
          "metadata": {},
          "execution_count": 40
        }
      ],
      "source": [
        "#check if timestamp still contains +0000\n",
        "weRateDogsClean.sample(5)"
      ]
    },
    {
      "cell_type": "code",
      "execution_count": 41,
      "metadata": {
        "colab": {
          "base_uri": "https://localhost:8080/"
        },
        "id": "Rj9Ct2vIvsjP",
        "outputId": "d877a92e-b137-4569-d652-7ace485c511d"
      },
      "outputs": [
        {
          "output_type": "stream",
          "name": "stdout",
          "text": [
            "<class 'pandas.core.frame.DataFrame'>\n",
            "Int64Index: 2356 entries, 0 to 2355\n",
            "Data columns (total 17 columns):\n",
            " #   Column                      Non-Null Count  Dtype              \n",
            "---  ------                      --------------  -----              \n",
            " 0   tweet_id                    2356 non-null   int64              \n",
            " 1   timestamp                   2356 non-null   datetime64[ns, UTC]\n",
            " 2   source                      2356 non-null   object             \n",
            " 3   text                        2356 non-null   object             \n",
            " 4   retweeted_status_id         181 non-null    float64            \n",
            " 5   retweeted_status_timestamp  181 non-null    datetime64[ns, UTC]\n",
            " 6   expanded_urls               2297 non-null   object             \n",
            " 7   rating_numerator            2356 non-null   int64              \n",
            " 8   rating_denominator          2356 non-null   int64              \n",
            " 9   name                        2356 non-null   object             \n",
            " 10  dog_stage                   2356 non-null   object             \n",
            " 11  id                          2354 non-null   float64            \n",
            " 12  favorite_count              2354 non-null   float64            \n",
            " 13  retweet_count               2354 non-null   float64            \n",
            " 14  p1                          2075 non-null   object             \n",
            " 15  p1_conf                     2075 non-null   float64            \n",
            " 16  p1_dog                      2075 non-null   object             \n",
            "dtypes: datetime64[ns, UTC](2), float64(5), int64(3), object(7)\n",
            "memory usage: 331.3+ KB\n"
          ]
        }
      ],
      "source": [
        "#check dataype of timestamp\n",
        "weRateDogsClean.info()"
      ]
    },
    {
      "cell_type": "markdown",
      "metadata": {
        "id": "qcNQ5WeavsjP"
      },
      "source": [
        "### Issue 5: Quality\n",
        "\n",
        "Some entries are retweets and not original Tweets. This is seen for rows that have a retweeted_status_id and timestamp.\n"
      ]
    },
    {
      "cell_type": "markdown",
      "metadata": {
        "id": "3qsWHHRMvsjQ"
      },
      "source": [
        "#### Define: Remove all retweets"
      ]
    },
    {
      "cell_type": "code",
      "execution_count": 42,
      "metadata": {
        "colab": {
          "base_uri": "https://localhost:8080/"
        },
        "id": "NQxjiQwxvsjQ",
        "outputId": "a96fa070-a32f-46df-ec11-9ed8d38cf6ca"
      },
      "outputs": [
        {
          "output_type": "execute_result",
          "data": {
            "text/plain": [
              "tweet_id                      2356\n",
              "timestamp                     2356\n",
              "source                        2356\n",
              "text                          2356\n",
              "retweeted_status_id            181\n",
              "retweeted_status_timestamp     181\n",
              "expanded_urls                 2297\n",
              "rating_numerator              2356\n",
              "rating_denominator            2356\n",
              "name                          2356\n",
              "dog_stage                     2356\n",
              "id                            2354\n",
              "favorite_count                2354\n",
              "retweet_count                 2354\n",
              "p1                            2075\n",
              "p1_conf                       2075\n",
              "p1_dog                        2075\n",
              "dtype: int64"
            ]
          },
          "metadata": {},
          "execution_count": 42
        }
      ],
      "source": [
        "#count for each column\n",
        "weRateDogsClean.count()"
      ]
    },
    {
      "cell_type": "markdown",
      "metadata": {
        "id": "RTU6IHvGvsjQ"
      },
      "source": [
        "There are 181 records which are actually retweets and not original tweets. These will be dropped.\n"
      ]
    },
    {
      "cell_type": "markdown",
      "metadata": {
        "id": "e285WglUvsjQ"
      },
      "source": [
        "#### Code"
      ]
    },
    {
      "cell_type": "code",
      "execution_count": 43,
      "metadata": {
        "id": "F94KXS5_vsjQ"
      },
      "outputs": [],
      "source": [
        "#retain only rows where retweeted_status_timestamp is null. These are the original tweets.\n",
        "weRateDogsClean = weRateDogsClean[weRateDogsClean[\"retweeted_status_timestamp\"].isna()]\n"
      ]
    },
    {
      "cell_type": "markdown",
      "metadata": {
        "id": "YyRm82VkvsjQ"
      },
      "source": [
        "#### Test\n"
      ]
    },
    {
      "cell_type": "code",
      "execution_count": 44,
      "metadata": {
        "colab": {
          "base_uri": "https://localhost:8080/",
          "height": 113
        },
        "id": "Y2kBlHhhvsjR",
        "outputId": "8c426423-f79d-41e5-a512-6a42a462f5a0"
      },
      "outputs": [
        {
          "output_type": "execute_result",
          "data": {
            "text/plain": [
              "Empty DataFrame\n",
              "Columns: [tweet_id, timestamp, source, text, retweeted_status_id, retweeted_status_timestamp, expanded_urls, rating_numerator, rating_denominator, name, dog_stage, id, favorite_count, retweet_count, p1, p1_conf, p1_dog]\n",
              "Index: []"
            ],
            "text/html": [
              "\n",
              "  <div id=\"df-67cd0a25-b148-44b3-8149-4e9566d9d808\">\n",
              "    <div class=\"colab-df-container\">\n",
              "      <div>\n",
              "<style scoped>\n",
              "    .dataframe tbody tr th:only-of-type {\n",
              "        vertical-align: middle;\n",
              "    }\n",
              "\n",
              "    .dataframe tbody tr th {\n",
              "        vertical-align: top;\n",
              "    }\n",
              "\n",
              "    .dataframe thead th {\n",
              "        text-align: right;\n",
              "    }\n",
              "</style>\n",
              "<table border=\"1\" class=\"dataframe\">\n",
              "  <thead>\n",
              "    <tr style=\"text-align: right;\">\n",
              "      <th></th>\n",
              "      <th>tweet_id</th>\n",
              "      <th>timestamp</th>\n",
              "      <th>source</th>\n",
              "      <th>text</th>\n",
              "      <th>retweeted_status_id</th>\n",
              "      <th>retweeted_status_timestamp</th>\n",
              "      <th>expanded_urls</th>\n",
              "      <th>rating_numerator</th>\n",
              "      <th>rating_denominator</th>\n",
              "      <th>name</th>\n",
              "      <th>dog_stage</th>\n",
              "      <th>id</th>\n",
              "      <th>favorite_count</th>\n",
              "      <th>retweet_count</th>\n",
              "      <th>p1</th>\n",
              "      <th>p1_conf</th>\n",
              "      <th>p1_dog</th>\n",
              "    </tr>\n",
              "  </thead>\n",
              "  <tbody>\n",
              "  </tbody>\n",
              "</table>\n",
              "</div>\n",
              "      <button class=\"colab-df-convert\" onclick=\"convertToInteractive('df-67cd0a25-b148-44b3-8149-4e9566d9d808')\"\n",
              "              title=\"Convert this dataframe to an interactive table.\"\n",
              "              style=\"display:none;\">\n",
              "        \n",
              "  <svg xmlns=\"http://www.w3.org/2000/svg\" height=\"24px\"viewBox=\"0 0 24 24\"\n",
              "       width=\"24px\">\n",
              "    <path d=\"M0 0h24v24H0V0z\" fill=\"none\"/>\n",
              "    <path d=\"M18.56 5.44l.94 2.06.94-2.06 2.06-.94-2.06-.94-.94-2.06-.94 2.06-2.06.94zm-11 1L8.5 8.5l.94-2.06 2.06-.94-2.06-.94L8.5 2.5l-.94 2.06-2.06.94zm10 10l.94 2.06.94-2.06 2.06-.94-2.06-.94-.94-2.06-.94 2.06-2.06.94z\"/><path d=\"M17.41 7.96l-1.37-1.37c-.4-.4-.92-.59-1.43-.59-.52 0-1.04.2-1.43.59L10.3 9.45l-7.72 7.72c-.78.78-.78 2.05 0 2.83L4 21.41c.39.39.9.59 1.41.59.51 0 1.02-.2 1.41-.59l7.78-7.78 2.81-2.81c.8-.78.8-2.07 0-2.86zM5.41 20L4 18.59l7.72-7.72 1.47 1.35L5.41 20z\"/>\n",
              "  </svg>\n",
              "      </button>\n",
              "      \n",
              "  <style>\n",
              "    .colab-df-container {\n",
              "      display:flex;\n",
              "      flex-wrap:wrap;\n",
              "      gap: 12px;\n",
              "    }\n",
              "\n",
              "    .colab-df-convert {\n",
              "      background-color: #E8F0FE;\n",
              "      border: none;\n",
              "      border-radius: 50%;\n",
              "      cursor: pointer;\n",
              "      display: none;\n",
              "      fill: #1967D2;\n",
              "      height: 32px;\n",
              "      padding: 0 0 0 0;\n",
              "      width: 32px;\n",
              "    }\n",
              "\n",
              "    .colab-df-convert:hover {\n",
              "      background-color: #E2EBFA;\n",
              "      box-shadow: 0px 1px 2px rgba(60, 64, 67, 0.3), 0px 1px 3px 1px rgba(60, 64, 67, 0.15);\n",
              "      fill: #174EA6;\n",
              "    }\n",
              "\n",
              "    [theme=dark] .colab-df-convert {\n",
              "      background-color: #3B4455;\n",
              "      fill: #D2E3FC;\n",
              "    }\n",
              "\n",
              "    [theme=dark] .colab-df-convert:hover {\n",
              "      background-color: #434B5C;\n",
              "      box-shadow: 0px 1px 3px 1px rgba(0, 0, 0, 0.15);\n",
              "      filter: drop-shadow(0px 1px 2px rgba(0, 0, 0, 0.3));\n",
              "      fill: #FFFFFF;\n",
              "    }\n",
              "  </style>\n",
              "\n",
              "      <script>\n",
              "        const buttonEl =\n",
              "          document.querySelector('#df-67cd0a25-b148-44b3-8149-4e9566d9d808 button.colab-df-convert');\n",
              "        buttonEl.style.display =\n",
              "          google.colab.kernel.accessAllowed ? 'block' : 'none';\n",
              "\n",
              "        async function convertToInteractive(key) {\n",
              "          const element = document.querySelector('#df-67cd0a25-b148-44b3-8149-4e9566d9d808');\n",
              "          const dataTable =\n",
              "            await google.colab.kernel.invokeFunction('convertToInteractive',\n",
              "                                                     [key], {});\n",
              "          if (!dataTable) return;\n",
              "\n",
              "          const docLinkHtml = 'Like what you see? Visit the ' +\n",
              "            '<a target=\"_blank\" href=https://colab.research.google.com/notebooks/data_table.ipynb>data table notebook</a>'\n",
              "            + ' to learn more about interactive tables.';\n",
              "          element.innerHTML = '';\n",
              "          dataTable['output_type'] = 'display_data';\n",
              "          await google.colab.output.renderOutput(dataTable, element);\n",
              "          const docLink = document.createElement('div');\n",
              "          docLink.innerHTML = docLinkHtml;\n",
              "          element.appendChild(docLink);\n",
              "        }\n",
              "      </script>\n",
              "    </div>\n",
              "  </div>\n",
              "  "
            ]
          },
          "metadata": {},
          "execution_count": 44
        }
      ],
      "source": [
        "#check if there are still any retweets in dataset\n",
        "weRateDogsClean[weRateDogsClean[\"retweeted_status_timestamp\"].notna()]"
      ]
    },
    {
      "cell_type": "markdown",
      "metadata": {
        "id": "aK4jWWwgvsjR"
      },
      "source": [
        "### Issue 6\n",
        "\n",
        "Maximum rating denominator is 170. Further visual assessment shows that there are entries with rating denominators that are not equal to 10.\n"
      ]
    },
    {
      "cell_type": "markdown",
      "metadata": {
        "id": "oqQcaY_qvsjR"
      },
      "source": [
        "#### Define: Remove all entries with denominators not equal to 10."
      ]
    },
    {
      "cell_type": "code",
      "execution_count": 45,
      "metadata": {
        "colab": {
          "base_uri": "https://localhost:8080/"
        },
        "id": "qdnSm964vsjR",
        "outputId": "32faa5ab-0309-4ced-e8c3-465a9f895f09"
      },
      "outputs": [
        {
          "output_type": "execute_result",
          "data": {
            "text/plain": [
              "170"
            ]
          },
          "metadata": {},
          "execution_count": 45
        }
      ],
      "source": [
        "#check maximum rating_denominator\n",
        "weRateDogsClean[\"rating_denominator\"].max()"
      ]
    },
    {
      "cell_type": "markdown",
      "metadata": {
        "id": "28hzcUd7vsjR"
      },
      "source": [
        "#### Code"
      ]
    },
    {
      "cell_type": "code",
      "execution_count": 46,
      "metadata": {
        "colab": {
          "base_uri": "https://localhost:8080/"
        },
        "id": "qdsGBgHIvsjS",
        "outputId": "701692ea-e48c-4e41-e6fd-13125f43128c"
      },
      "outputs": [
        {
          "output_type": "execute_result",
          "data": {
            "text/plain": [
              "22"
            ]
          },
          "metadata": {},
          "execution_count": 46
        }
      ],
      "source": [
        "#count number of rows where rating denominator is not 10\n",
        "weRateDogsClean[weRateDogsClean[\"rating_denominator\"]!=10][\"rating_denominator\"].count()"
      ]
    },
    {
      "cell_type": "markdown",
      "metadata": {
        "id": "c_j4eDDtvsjS"
      },
      "source": [
        "There are 22 entries so removing them would be best to avoid inconsistencies."
      ]
    },
    {
      "cell_type": "code",
      "execution_count": 47,
      "metadata": {
        "id": "_6LVCukWvsjS"
      },
      "outputs": [],
      "source": [
        "#retain only rows where rating denominator is 10\n",
        "weRateDogsClean = weRateDogsClean[weRateDogsClean[\"rating_denominator\"]==10]"
      ]
    },
    {
      "cell_type": "markdown",
      "metadata": {
        "id": "9ZFd1-lFvsjS"
      },
      "source": [
        "#### Test"
      ]
    },
    {
      "cell_type": "code",
      "execution_count": 48,
      "metadata": {
        "colab": {
          "base_uri": "https://localhost:8080/"
        },
        "id": "9m3YyN4tvsjS",
        "outputId": "1dcd34c0-9d60-418b-a6c9-84e22f84c15a"
      },
      "outputs": [
        {
          "output_type": "execute_result",
          "data": {
            "text/plain": [
              "0"
            ]
          },
          "metadata": {},
          "execution_count": 48
        }
      ],
      "source": [
        "#check if there are rows where rating_denominator is not 10\n",
        "weRateDogsClean[weRateDogsClean[\"rating_denominator\"]!=10][\"rating_denominator\"].count()"
      ]
    },
    {
      "cell_type": "markdown",
      "metadata": {
        "id": "4A8q_t2yvsjT"
      },
      "source": [
        "### Issues 7 and 8"
      ]
    },
    {
      "cell_type": "markdown",
      "metadata": {
        "id": "SfH846pFvsjT"
      },
      "source": [
        "#### Define: twtJson is incomplete. Has 2354 rows instead of 2356 just like weRateDogs dataset.\n",
        "\n",
        "#### twtJson has columns which will not be useful for analysis.\n",
        "\n",
        "These issues were resolved by joining twtJson to weRateDogs."
      ]
    },
    {
      "cell_type": "markdown",
      "metadata": {
        "id": "HcazP2S-vsjT"
      },
      "source": [
        "### Issue 9\n",
        "\n",
        "tweet_id has the wrong datatype on all files. "
      ]
    },
    {
      "cell_type": "markdown",
      "metadata": {
        "id": "TRFnZ_-JvsjT"
      },
      "source": [
        "#### Define: Change the datatype of tweet_id column on both files and remove the id column which is a duplicate of the tweet_id column"
      ]
    },
    {
      "cell_type": "markdown",
      "metadata": {
        "id": "9HR2X3rtvsjT"
      },
      "source": [
        "#### Code"
      ]
    },
    {
      "cell_type": "code",
      "execution_count": 49,
      "metadata": {
        "id": "tjcasJGovsjU"
      },
      "outputs": [],
      "source": [
        "#change from int to str datatype\n",
        "weRateDogsClean[\"tweet_id\"] = weRateDogsClean[\"tweet_id\"].astype(\"str\");"
      ]
    },
    {
      "cell_type": "code",
      "execution_count": 50,
      "metadata": {
        "id": "ff0lx_lHvsjU"
      },
      "outputs": [],
      "source": [
        "#delete id column\n",
        "del weRateDogsClean[\"id\"]"
      ]
    },
    {
      "cell_type": "markdown",
      "metadata": {
        "id": "d3BfNBGuvsjU"
      },
      "source": [
        "#### Test"
      ]
    },
    {
      "cell_type": "code",
      "execution_count": 51,
      "metadata": {
        "colab": {
          "base_uri": "https://localhost:8080/"
        },
        "id": "1jZm6JyUvsjU",
        "outputId": "c038f3ee-76f1-41f1-f02e-e1ea40e70294"
      },
      "outputs": [
        {
          "output_type": "stream",
          "name": "stdout",
          "text": [
            "<class 'pandas.core.frame.DataFrame'>\n",
            "Int64Index: 2153 entries, 0 to 2355\n",
            "Data columns (total 16 columns):\n",
            " #   Column                      Non-Null Count  Dtype              \n",
            "---  ------                      --------------  -----              \n",
            " 0   tweet_id                    2153 non-null   object             \n",
            " 1   timestamp                   2153 non-null   datetime64[ns, UTC]\n",
            " 2   source                      2153 non-null   object             \n",
            " 3   text                        2153 non-null   object             \n",
            " 4   retweeted_status_id         0 non-null      float64            \n",
            " 5   retweeted_status_timestamp  0 non-null      datetime64[ns, UTC]\n",
            " 6   expanded_urls               2099 non-null   object             \n",
            " 7   rating_numerator            2153 non-null   int64              \n",
            " 8   rating_denominator          2153 non-null   int64              \n",
            " 9   name                        2153 non-null   object             \n",
            " 10  dog_stage                   2153 non-null   object             \n",
            " 11  favorite_count              2153 non-null   float64            \n",
            " 12  retweet_count               2153 non-null   float64            \n",
            " 13  p1                          1976 non-null   object             \n",
            " 14  p1_conf                     1976 non-null   float64            \n",
            " 15  p1_dog                      1976 non-null   object             \n",
            "dtypes: datetime64[ns, UTC](2), float64(4), int64(2), object(8)\n",
            "memory usage: 285.9+ KB\n"
          ]
        }
      ],
      "source": [
        "#check if datatype was sussessfully changed and id column successfully deleted\n",
        "weRateDogsClean.info()"
      ]
    },
    {
      "cell_type": "code",
      "execution_count": 52,
      "metadata": {
        "colab": {
          "base_uri": "https://localhost:8080/",
          "height": 249
        },
        "id": "8FM92EabvsjU",
        "outputId": "51381a39-cc93-40b5-af70-0911fa7f9f6d"
      },
      "outputs": [
        {
          "output_type": "execute_result",
          "data": {
            "text/plain": [
              "             tweet_id                 timestamp  \\\n",
              "0  892420643555336193 2017-08-01 16:23:56+00:00   \n",
              "\n",
              "                                              source  \\\n",
              "0  <a href=\"http://twitter.com/download/iphone\" r...   \n",
              "\n",
              "                                                text  retweeted_status_id  \\\n",
              "0  This is Phineas. He's a mystical boy. Only eve...                  NaN   \n",
              "\n",
              "  retweeted_status_timestamp  \\\n",
              "0                        NaT   \n",
              "\n",
              "                                       expanded_urls  rating_numerator  \\\n",
              "0  https://twitter.com/dog_rates/status/892420643...                13   \n",
              "\n",
              "   rating_denominator     name dog_stage  favorite_count  retweet_count  \\\n",
              "0                  10  Phineas                   39467.0         8853.0   \n",
              "\n",
              "       p1   p1_conf p1_dog  \n",
              "0  orange  0.097049  False  "
            ],
            "text/html": [
              "\n",
              "  <div id=\"df-3acc8b03-e108-43b4-bd19-31a0020526d1\">\n",
              "    <div class=\"colab-df-container\">\n",
              "      <div>\n",
              "<style scoped>\n",
              "    .dataframe tbody tr th:only-of-type {\n",
              "        vertical-align: middle;\n",
              "    }\n",
              "\n",
              "    .dataframe tbody tr th {\n",
              "        vertical-align: top;\n",
              "    }\n",
              "\n",
              "    .dataframe thead th {\n",
              "        text-align: right;\n",
              "    }\n",
              "</style>\n",
              "<table border=\"1\" class=\"dataframe\">\n",
              "  <thead>\n",
              "    <tr style=\"text-align: right;\">\n",
              "      <th></th>\n",
              "      <th>tweet_id</th>\n",
              "      <th>timestamp</th>\n",
              "      <th>source</th>\n",
              "      <th>text</th>\n",
              "      <th>retweeted_status_id</th>\n",
              "      <th>retweeted_status_timestamp</th>\n",
              "      <th>expanded_urls</th>\n",
              "      <th>rating_numerator</th>\n",
              "      <th>rating_denominator</th>\n",
              "      <th>name</th>\n",
              "      <th>dog_stage</th>\n",
              "      <th>favorite_count</th>\n",
              "      <th>retweet_count</th>\n",
              "      <th>p1</th>\n",
              "      <th>p1_conf</th>\n",
              "      <th>p1_dog</th>\n",
              "    </tr>\n",
              "  </thead>\n",
              "  <tbody>\n",
              "    <tr>\n",
              "      <th>0</th>\n",
              "      <td>892420643555336193</td>\n",
              "      <td>2017-08-01 16:23:56+00:00</td>\n",
              "      <td>&lt;a href=\"http://twitter.com/download/iphone\" r...</td>\n",
              "      <td>This is Phineas. He's a mystical boy. Only eve...</td>\n",
              "      <td>NaN</td>\n",
              "      <td>NaT</td>\n",
              "      <td>https://twitter.com/dog_rates/status/892420643...</td>\n",
              "      <td>13</td>\n",
              "      <td>10</td>\n",
              "      <td>Phineas</td>\n",
              "      <td></td>\n",
              "      <td>39467.0</td>\n",
              "      <td>8853.0</td>\n",
              "      <td>orange</td>\n",
              "      <td>0.097049</td>\n",
              "      <td>False</td>\n",
              "    </tr>\n",
              "  </tbody>\n",
              "</table>\n",
              "</div>\n",
              "      <button class=\"colab-df-convert\" onclick=\"convertToInteractive('df-3acc8b03-e108-43b4-bd19-31a0020526d1')\"\n",
              "              title=\"Convert this dataframe to an interactive table.\"\n",
              "              style=\"display:none;\">\n",
              "        \n",
              "  <svg xmlns=\"http://www.w3.org/2000/svg\" height=\"24px\"viewBox=\"0 0 24 24\"\n",
              "       width=\"24px\">\n",
              "    <path d=\"M0 0h24v24H0V0z\" fill=\"none\"/>\n",
              "    <path d=\"M18.56 5.44l.94 2.06.94-2.06 2.06-.94-2.06-.94-.94-2.06-.94 2.06-2.06.94zm-11 1L8.5 8.5l.94-2.06 2.06-.94-2.06-.94L8.5 2.5l-.94 2.06-2.06.94zm10 10l.94 2.06.94-2.06 2.06-.94-2.06-.94-.94-2.06-.94 2.06-2.06.94z\"/><path d=\"M17.41 7.96l-1.37-1.37c-.4-.4-.92-.59-1.43-.59-.52 0-1.04.2-1.43.59L10.3 9.45l-7.72 7.72c-.78.78-.78 2.05 0 2.83L4 21.41c.39.39.9.59 1.41.59.51 0 1.02-.2 1.41-.59l7.78-7.78 2.81-2.81c.8-.78.8-2.07 0-2.86zM5.41 20L4 18.59l7.72-7.72 1.47 1.35L5.41 20z\"/>\n",
              "  </svg>\n",
              "      </button>\n",
              "      \n",
              "  <style>\n",
              "    .colab-df-container {\n",
              "      display:flex;\n",
              "      flex-wrap:wrap;\n",
              "      gap: 12px;\n",
              "    }\n",
              "\n",
              "    .colab-df-convert {\n",
              "      background-color: #E8F0FE;\n",
              "      border: none;\n",
              "      border-radius: 50%;\n",
              "      cursor: pointer;\n",
              "      display: none;\n",
              "      fill: #1967D2;\n",
              "      height: 32px;\n",
              "      padding: 0 0 0 0;\n",
              "      width: 32px;\n",
              "    }\n",
              "\n",
              "    .colab-df-convert:hover {\n",
              "      background-color: #E2EBFA;\n",
              "      box-shadow: 0px 1px 2px rgba(60, 64, 67, 0.3), 0px 1px 3px 1px rgba(60, 64, 67, 0.15);\n",
              "      fill: #174EA6;\n",
              "    }\n",
              "\n",
              "    [theme=dark] .colab-df-convert {\n",
              "      background-color: #3B4455;\n",
              "      fill: #D2E3FC;\n",
              "    }\n",
              "\n",
              "    [theme=dark] .colab-df-convert:hover {\n",
              "      background-color: #434B5C;\n",
              "      box-shadow: 0px 1px 3px 1px rgba(0, 0, 0, 0.15);\n",
              "      filter: drop-shadow(0px 1px 2px rgba(0, 0, 0, 0.3));\n",
              "      fill: #FFFFFF;\n",
              "    }\n",
              "  </style>\n",
              "\n",
              "      <script>\n",
              "        const buttonEl =\n",
              "          document.querySelector('#df-3acc8b03-e108-43b4-bd19-31a0020526d1 button.colab-df-convert');\n",
              "        buttonEl.style.display =\n",
              "          google.colab.kernel.accessAllowed ? 'block' : 'none';\n",
              "\n",
              "        async function convertToInteractive(key) {\n",
              "          const element = document.querySelector('#df-3acc8b03-e108-43b4-bd19-31a0020526d1');\n",
              "          const dataTable =\n",
              "            await google.colab.kernel.invokeFunction('convertToInteractive',\n",
              "                                                     [key], {});\n",
              "          if (!dataTable) return;\n",
              "\n",
              "          const docLinkHtml = 'Like what you see? Visit the ' +\n",
              "            '<a target=\"_blank\" href=https://colab.research.google.com/notebooks/data_table.ipynb>data table notebook</a>'\n",
              "            + ' to learn more about interactive tables.';\n",
              "          element.innerHTML = '';\n",
              "          dataTable['output_type'] = 'display_data';\n",
              "          await google.colab.output.renderOutput(dataTable, element);\n",
              "          const docLink = document.createElement('div');\n",
              "          docLink.innerHTML = docLinkHtml;\n",
              "          element.appendChild(docLink);\n",
              "        }\n",
              "      </script>\n",
              "    </div>\n",
              "  </div>\n",
              "  "
            ]
          },
          "metadata": {},
          "execution_count": 52
        }
      ],
      "source": [
        "weRateDogsClean.head(1)"
      ]
    },
    {
      "cell_type": "markdown",
      "metadata": {
        "id": "ZN19tN66vsjV"
      },
      "source": [
        "### Issue 10\n",
        "All files have columns that will not be useful for analysis."
      ]
    },
    {
      "cell_type": "markdown",
      "metadata": {
        "id": "rPYiveSpvsjV"
      },
      "source": [
        "#### Define: Remove all unnecessary columns"
      ]
    },
    {
      "cell_type": "code",
      "execution_count": 53,
      "metadata": {
        "colab": {
          "base_uri": "https://localhost:8080/"
        },
        "id": "mGD9wb2PvsjV",
        "outputId": "f5db0246-7019-47a4-bcaa-259dc0a19ede"
      },
      "outputs": [
        {
          "output_type": "execute_result",
          "data": {
            "text/plain": [
              "Index(['tweet_id', 'timestamp', 'source', 'text', 'retweeted_status_id',\n",
              "       'retweeted_status_timestamp', 'expanded_urls', 'rating_numerator',\n",
              "       'rating_denominator', 'name', 'dog_stage', 'favorite_count',\n",
              "       'retweet_count', 'p1', 'p1_conf', 'p1_dog'],\n",
              "      dtype='object')"
            ]
          },
          "metadata": {},
          "execution_count": 53
        }
      ],
      "source": [
        "#display all columns\n",
        "weRateDogsClean.columns"
      ]
    },
    {
      "cell_type": "markdown",
      "metadata": {
        "id": "NUGdXPSAvsjV"
      },
      "source": [
        "#### Code"
      ]
    },
    {
      "cell_type": "code",
      "execution_count": 54,
      "metadata": {
        "id": "fS0Nb-kovsjV"
      },
      "outputs": [],
      "source": [
        "#delete unnecessary columns\n",
        "del weRateDogsClean[\"retweeted_status_timestamp\"]\n",
        "del weRateDogsClean[\"retweeted_status_id\"]\n",
        "del weRateDogsClean['expanded_urls']"
      ]
    },
    {
      "cell_type": "markdown",
      "metadata": {
        "id": "kF2y7NDQvsjV"
      },
      "source": [
        "#### Test"
      ]
    },
    {
      "cell_type": "code",
      "execution_count": 55,
      "metadata": {
        "colab": {
          "base_uri": "https://localhost:8080/"
        },
        "id": "-aWx7jiXvsjW",
        "outputId": "fa6b4aa9-d796-4f44-d75c-9801f44f2da3"
      },
      "outputs": [
        {
          "output_type": "stream",
          "name": "stdout",
          "text": [
            "<class 'pandas.core.frame.DataFrame'>\n",
            "Int64Index: 2153 entries, 0 to 2355\n",
            "Data columns (total 13 columns):\n",
            " #   Column              Non-Null Count  Dtype              \n",
            "---  ------              --------------  -----              \n",
            " 0   tweet_id            2153 non-null   object             \n",
            " 1   timestamp           2153 non-null   datetime64[ns, UTC]\n",
            " 2   source              2153 non-null   object             \n",
            " 3   text                2153 non-null   object             \n",
            " 4   rating_numerator    2153 non-null   int64              \n",
            " 5   rating_denominator  2153 non-null   int64              \n",
            " 6   name                2153 non-null   object             \n",
            " 7   dog_stage           2153 non-null   object             \n",
            " 8   favorite_count      2153 non-null   float64            \n",
            " 9   retweet_count       2153 non-null   float64            \n",
            " 10  p1                  1976 non-null   object             \n",
            " 11  p1_conf             1976 non-null   float64            \n",
            " 12  p1_dog              1976 non-null   object             \n",
            "dtypes: datetime64[ns, UTC](1), float64(3), int64(2), object(7)\n",
            "memory usage: 235.5+ KB\n"
          ]
        }
      ],
      "source": [
        "#check\n",
        "weRateDogsClean.info()"
      ]
    },
    {
      "cell_type": "code",
      "execution_count": 56,
      "metadata": {
        "colab": {
          "base_uri": "https://localhost:8080/"
        },
        "id": "uiewtQbYvsjW",
        "outputId": "57e4c862-a572-4744-a3cc-d8e6a78746e5"
      },
      "outputs": [
        {
          "output_type": "execute_result",
          "data": {
            "text/plain": [
              "(2153, 13)"
            ]
          },
          "metadata": {},
          "execution_count": 56
        }
      ],
      "source": [
        "weRateDogsClean.shape"
      ]
    },
    {
      "cell_type": "markdown",
      "metadata": {
        "id": "Bh9MDoftvsjW"
      },
      "source": [
        "<a id = \"store\"></a>\n",
        "## Storing Data\n",
        "The gathered, assessed, and cleaned master dataset will now be saved to a CSV file named \"twitter_archive_master.csv\"."
      ]
    },
    {
      "cell_type": "code",
      "execution_count": 57,
      "metadata": {
        "id": "4I6SMoQ_vsjW"
      },
      "outputs": [],
      "source": [
        "weRateDogsClean.to_csv(\"twitter_archive_master.csv\", index=False)"
      ]
    },
    {
      "cell_type": "markdown",
      "metadata": {
        "id": "Umjb8dLNvsjX"
      },
      "source": [
        "<a id = \"analyse\"></a>\n",
        "## Analyzing and Visualizing Data\n",
        "In this section, we'll analyze and visualize the wrangled data to develop insights on: \n",
        "\n",
        "- average retweet count\n",
        "- minimum, maximum and average ratings\n",
        "- dog with highest retweet count and highest favorite count"
      ]
    },
    {
      "cell_type": "code",
      "execution_count": 58,
      "metadata": {
        "colab": {
          "base_uri": "https://localhost:8080/"
        },
        "id": "BlNfrBKBvsjX",
        "outputId": "fe8a39ee-0701-4922-c0fc-4c1e802bf2d0"
      },
      "outputs": [
        {
          "output_type": "execute_result",
          "data": {
            "text/plain": [
              "2765.1495587552254"
            ]
          },
          "metadata": {},
          "execution_count": 58
        }
      ],
      "source": [
        "#average retweet count\n",
        "weRateDogsClean[\"retweet_count\"].mean()"
      ]
    },
    {
      "cell_type": "code",
      "execution_count": 59,
      "metadata": {
        "colab": {
          "base_uri": "https://localhost:8080/"
        },
        "id": "Zoh7aWYVvsjX",
        "outputId": "949c28e9-45a9-44fb-ff18-e88c51ad78da"
      },
      "outputs": [
        {
          "output_type": "execute_result",
          "data": {
            "text/plain": [
              "0"
            ]
          },
          "metadata": {},
          "execution_count": 59
        }
      ],
      "source": [
        "#minimum rating\n",
        "weRateDogsClean[\"rating_numerator\"].min()"
      ]
    },
    {
      "cell_type": "code",
      "execution_count": 60,
      "metadata": {
        "colab": {
          "base_uri": "https://localhost:8080/"
        },
        "id": "zrTE0zhovsjX",
        "outputId": "04fb206d-fbb3-4dcf-f347-7f92e762537a"
      },
      "outputs": [
        {
          "output_type": "execute_result",
          "data": {
            "text/plain": [
              "1776"
            ]
          },
          "metadata": {},
          "execution_count": 60
        }
      ],
      "source": [
        "#maximum rating\n",
        "weRateDogsClean[\"rating_numerator\"].max()"
      ]
    },
    {
      "cell_type": "code",
      "execution_count": 61,
      "metadata": {
        "colab": {
          "base_uri": "https://localhost:8080/"
        },
        "id": "wngAv7o2vsjX",
        "outputId": "ac906937-b909-467c-e0cc-449b2e9909fe"
      },
      "outputs": [
        {
          "output_type": "execute_result",
          "data": {
            "text/plain": [
              "12.250812819321876"
            ]
          },
          "metadata": {},
          "execution_count": 61
        }
      ],
      "source": [
        "#average rating\n",
        "weRateDogsClean[\"rating_numerator\"].mean()"
      ]
    },
    {
      "cell_type": "code",
      "execution_count": 62,
      "metadata": {
        "colab": {
          "base_uri": "https://localhost:8080/",
          "height": 232
        },
        "id": "l3QhPhT8vsjY",
        "outputId": "3444c6bd-ac64-484a-a097-aa0924738adc"
      },
      "outputs": [
        {
          "output_type": "execute_result",
          "data": {
            "text/plain": [
              "               tweet_id                 timestamp  \\\n",
              "413  822872901745569793 2017-01-21 18:26:02+00:00   \n",
              "\n",
              "                                                source  \\\n",
              "413  <a href=\"http://twitter.com/download/iphone\" r...   \n",
              "\n",
              "                                                  text  rating_numerator  \\\n",
              "413  Here's a super supportive puppo participating ...                13   \n",
              "\n",
              "     rating_denominator  name dog_stage  favorite_count  retweet_count  \\\n",
              "413                  10  None     puppo        132810.0        48265.0   \n",
              "\n",
              "                   p1   p1_conf p1_dog  \n",
              "413  Lakeland_terrier  0.196015   True  "
            ],
            "text/html": [
              "\n",
              "  <div id=\"df-ebdab4a4-fc48-460c-b456-5d93690b1b36\">\n",
              "    <div class=\"colab-df-container\">\n",
              "      <div>\n",
              "<style scoped>\n",
              "    .dataframe tbody tr th:only-of-type {\n",
              "        vertical-align: middle;\n",
              "    }\n",
              "\n",
              "    .dataframe tbody tr th {\n",
              "        vertical-align: top;\n",
              "    }\n",
              "\n",
              "    .dataframe thead th {\n",
              "        text-align: right;\n",
              "    }\n",
              "</style>\n",
              "<table border=\"1\" class=\"dataframe\">\n",
              "  <thead>\n",
              "    <tr style=\"text-align: right;\">\n",
              "      <th></th>\n",
              "      <th>tweet_id</th>\n",
              "      <th>timestamp</th>\n",
              "      <th>source</th>\n",
              "      <th>text</th>\n",
              "      <th>rating_numerator</th>\n",
              "      <th>rating_denominator</th>\n",
              "      <th>name</th>\n",
              "      <th>dog_stage</th>\n",
              "      <th>favorite_count</th>\n",
              "      <th>retweet_count</th>\n",
              "      <th>p1</th>\n",
              "      <th>p1_conf</th>\n",
              "      <th>p1_dog</th>\n",
              "    </tr>\n",
              "  </thead>\n",
              "  <tbody>\n",
              "    <tr>\n",
              "      <th>413</th>\n",
              "      <td>822872901745569793</td>\n",
              "      <td>2017-01-21 18:26:02+00:00</td>\n",
              "      <td>&lt;a href=\"http://twitter.com/download/iphone\" r...</td>\n",
              "      <td>Here's a super supportive puppo participating ...</td>\n",
              "      <td>13</td>\n",
              "      <td>10</td>\n",
              "      <td>None</td>\n",
              "      <td>puppo</td>\n",
              "      <td>132810.0</td>\n",
              "      <td>48265.0</td>\n",
              "      <td>Lakeland_terrier</td>\n",
              "      <td>0.196015</td>\n",
              "      <td>True</td>\n",
              "    </tr>\n",
              "  </tbody>\n",
              "</table>\n",
              "</div>\n",
              "      <button class=\"colab-df-convert\" onclick=\"convertToInteractive('df-ebdab4a4-fc48-460c-b456-5d93690b1b36')\"\n",
              "              title=\"Convert this dataframe to an interactive table.\"\n",
              "              style=\"display:none;\">\n",
              "        \n",
              "  <svg xmlns=\"http://www.w3.org/2000/svg\" height=\"24px\"viewBox=\"0 0 24 24\"\n",
              "       width=\"24px\">\n",
              "    <path d=\"M0 0h24v24H0V0z\" fill=\"none\"/>\n",
              "    <path d=\"M18.56 5.44l.94 2.06.94-2.06 2.06-.94-2.06-.94-.94-2.06-.94 2.06-2.06.94zm-11 1L8.5 8.5l.94-2.06 2.06-.94-2.06-.94L8.5 2.5l-.94 2.06-2.06.94zm10 10l.94 2.06.94-2.06 2.06-.94-2.06-.94-.94-2.06-.94 2.06-2.06.94z\"/><path d=\"M17.41 7.96l-1.37-1.37c-.4-.4-.92-.59-1.43-.59-.52 0-1.04.2-1.43.59L10.3 9.45l-7.72 7.72c-.78.78-.78 2.05 0 2.83L4 21.41c.39.39.9.59 1.41.59.51 0 1.02-.2 1.41-.59l7.78-7.78 2.81-2.81c.8-.78.8-2.07 0-2.86zM5.41 20L4 18.59l7.72-7.72 1.47 1.35L5.41 20z\"/>\n",
              "  </svg>\n",
              "      </button>\n",
              "      \n",
              "  <style>\n",
              "    .colab-df-container {\n",
              "      display:flex;\n",
              "      flex-wrap:wrap;\n",
              "      gap: 12px;\n",
              "    }\n",
              "\n",
              "    .colab-df-convert {\n",
              "      background-color: #E8F0FE;\n",
              "      border: none;\n",
              "      border-radius: 50%;\n",
              "      cursor: pointer;\n",
              "      display: none;\n",
              "      fill: #1967D2;\n",
              "      height: 32px;\n",
              "      padding: 0 0 0 0;\n",
              "      width: 32px;\n",
              "    }\n",
              "\n",
              "    .colab-df-convert:hover {\n",
              "      background-color: #E2EBFA;\n",
              "      box-shadow: 0px 1px 2px rgba(60, 64, 67, 0.3), 0px 1px 3px 1px rgba(60, 64, 67, 0.15);\n",
              "      fill: #174EA6;\n",
              "    }\n",
              "\n",
              "    [theme=dark] .colab-df-convert {\n",
              "      background-color: #3B4455;\n",
              "      fill: #D2E3FC;\n",
              "    }\n",
              "\n",
              "    [theme=dark] .colab-df-convert:hover {\n",
              "      background-color: #434B5C;\n",
              "      box-shadow: 0px 1px 3px 1px rgba(0, 0, 0, 0.15);\n",
              "      filter: drop-shadow(0px 1px 2px rgba(0, 0, 0, 0.3));\n",
              "      fill: #FFFFFF;\n",
              "    }\n",
              "  </style>\n",
              "\n",
              "      <script>\n",
              "        const buttonEl =\n",
              "          document.querySelector('#df-ebdab4a4-fc48-460c-b456-5d93690b1b36 button.colab-df-convert');\n",
              "        buttonEl.style.display =\n",
              "          google.colab.kernel.accessAllowed ? 'block' : 'none';\n",
              "\n",
              "        async function convertToInteractive(key) {\n",
              "          const element = document.querySelector('#df-ebdab4a4-fc48-460c-b456-5d93690b1b36');\n",
              "          const dataTable =\n",
              "            await google.colab.kernel.invokeFunction('convertToInteractive',\n",
              "                                                     [key], {});\n",
              "          if (!dataTable) return;\n",
              "\n",
              "          const docLinkHtml = 'Like what you see? Visit the ' +\n",
              "            '<a target=\"_blank\" href=https://colab.research.google.com/notebooks/data_table.ipynb>data table notebook</a>'\n",
              "            + ' to learn more about interactive tables.';\n",
              "          element.innerHTML = '';\n",
              "          dataTable['output_type'] = 'display_data';\n",
              "          await google.colab.output.renderOutput(dataTable, element);\n",
              "          const docLink = document.createElement('div');\n",
              "          docLink.innerHTML = docLinkHtml;\n",
              "          element.appendChild(docLink);\n",
              "        }\n",
              "      </script>\n",
              "    </div>\n",
              "  </div>\n",
              "  "
            ]
          },
          "metadata": {},
          "execution_count": 62
        }
      ],
      "source": [
        "#dog with highest favorite count\n",
        "weRateDogsClean[weRateDogsClean[\"favorite_count\"]==weRateDogsClean[\"favorite_count\"].max()]"
      ]
    },
    {
      "cell_type": "code",
      "execution_count": 63,
      "metadata": {
        "colab": {
          "base_uri": "https://localhost:8080/",
          "height": 232
        },
        "id": "M5d9xdGSvsjY",
        "outputId": "e128e96c-6f9d-4368-8740-eb13b810a82f"
      },
      "outputs": [
        {
          "output_type": "execute_result",
          "data": {
            "text/plain": [
              "                tweet_id                 timestamp  \\\n",
              "1039  744234799360020481 2016-06-18 18:26:18+00:00   \n",
              "\n",
              "                                                 source  \\\n",
              "1039  <a href=\"http://twitter.com/download/iphone\" r...   \n",
              "\n",
              "                                                   text  rating_numerator  \\\n",
              "1039  Here's a doggo realizing you can stand in a po...                13   \n",
              "\n",
              "      rating_denominator  name dog_stage  favorite_count  retweet_count  \\\n",
              "1039                  10  None     doggo        131075.0        79515.0   \n",
              "\n",
              "                      p1   p1_conf p1_dog  \n",
              "1039  Labrador_retriever  0.825333   True  "
            ],
            "text/html": [
              "\n",
              "  <div id=\"df-f9a5b9ee-5d84-4e98-ba0e-72f317b9c170\">\n",
              "    <div class=\"colab-df-container\">\n",
              "      <div>\n",
              "<style scoped>\n",
              "    .dataframe tbody tr th:only-of-type {\n",
              "        vertical-align: middle;\n",
              "    }\n",
              "\n",
              "    .dataframe tbody tr th {\n",
              "        vertical-align: top;\n",
              "    }\n",
              "\n",
              "    .dataframe thead th {\n",
              "        text-align: right;\n",
              "    }\n",
              "</style>\n",
              "<table border=\"1\" class=\"dataframe\">\n",
              "  <thead>\n",
              "    <tr style=\"text-align: right;\">\n",
              "      <th></th>\n",
              "      <th>tweet_id</th>\n",
              "      <th>timestamp</th>\n",
              "      <th>source</th>\n",
              "      <th>text</th>\n",
              "      <th>rating_numerator</th>\n",
              "      <th>rating_denominator</th>\n",
              "      <th>name</th>\n",
              "      <th>dog_stage</th>\n",
              "      <th>favorite_count</th>\n",
              "      <th>retweet_count</th>\n",
              "      <th>p1</th>\n",
              "      <th>p1_conf</th>\n",
              "      <th>p1_dog</th>\n",
              "    </tr>\n",
              "  </thead>\n",
              "  <tbody>\n",
              "    <tr>\n",
              "      <th>1039</th>\n",
              "      <td>744234799360020481</td>\n",
              "      <td>2016-06-18 18:26:18+00:00</td>\n",
              "      <td>&lt;a href=\"http://twitter.com/download/iphone\" r...</td>\n",
              "      <td>Here's a doggo realizing you can stand in a po...</td>\n",
              "      <td>13</td>\n",
              "      <td>10</td>\n",
              "      <td>None</td>\n",
              "      <td>doggo</td>\n",
              "      <td>131075.0</td>\n",
              "      <td>79515.0</td>\n",
              "      <td>Labrador_retriever</td>\n",
              "      <td>0.825333</td>\n",
              "      <td>True</td>\n",
              "    </tr>\n",
              "  </tbody>\n",
              "</table>\n",
              "</div>\n",
              "      <button class=\"colab-df-convert\" onclick=\"convertToInteractive('df-f9a5b9ee-5d84-4e98-ba0e-72f317b9c170')\"\n",
              "              title=\"Convert this dataframe to an interactive table.\"\n",
              "              style=\"display:none;\">\n",
              "        \n",
              "  <svg xmlns=\"http://www.w3.org/2000/svg\" height=\"24px\"viewBox=\"0 0 24 24\"\n",
              "       width=\"24px\">\n",
              "    <path d=\"M0 0h24v24H0V0z\" fill=\"none\"/>\n",
              "    <path d=\"M18.56 5.44l.94 2.06.94-2.06 2.06-.94-2.06-.94-.94-2.06-.94 2.06-2.06.94zm-11 1L8.5 8.5l.94-2.06 2.06-.94-2.06-.94L8.5 2.5l-.94 2.06-2.06.94zm10 10l.94 2.06.94-2.06 2.06-.94-2.06-.94-.94-2.06-.94 2.06-2.06.94z\"/><path d=\"M17.41 7.96l-1.37-1.37c-.4-.4-.92-.59-1.43-.59-.52 0-1.04.2-1.43.59L10.3 9.45l-7.72 7.72c-.78.78-.78 2.05 0 2.83L4 21.41c.39.39.9.59 1.41.59.51 0 1.02-.2 1.41-.59l7.78-7.78 2.81-2.81c.8-.78.8-2.07 0-2.86zM5.41 20L4 18.59l7.72-7.72 1.47 1.35L5.41 20z\"/>\n",
              "  </svg>\n",
              "      </button>\n",
              "      \n",
              "  <style>\n",
              "    .colab-df-container {\n",
              "      display:flex;\n",
              "      flex-wrap:wrap;\n",
              "      gap: 12px;\n",
              "    }\n",
              "\n",
              "    .colab-df-convert {\n",
              "      background-color: #E8F0FE;\n",
              "      border: none;\n",
              "      border-radius: 50%;\n",
              "      cursor: pointer;\n",
              "      display: none;\n",
              "      fill: #1967D2;\n",
              "      height: 32px;\n",
              "      padding: 0 0 0 0;\n",
              "      width: 32px;\n",
              "    }\n",
              "\n",
              "    .colab-df-convert:hover {\n",
              "      background-color: #E2EBFA;\n",
              "      box-shadow: 0px 1px 2px rgba(60, 64, 67, 0.3), 0px 1px 3px 1px rgba(60, 64, 67, 0.15);\n",
              "      fill: #174EA6;\n",
              "    }\n",
              "\n",
              "    [theme=dark] .colab-df-convert {\n",
              "      background-color: #3B4455;\n",
              "      fill: #D2E3FC;\n",
              "    }\n",
              "\n",
              "    [theme=dark] .colab-df-convert:hover {\n",
              "      background-color: #434B5C;\n",
              "      box-shadow: 0px 1px 3px 1px rgba(0, 0, 0, 0.15);\n",
              "      filter: drop-shadow(0px 1px 2px rgba(0, 0, 0, 0.3));\n",
              "      fill: #FFFFFF;\n",
              "    }\n",
              "  </style>\n",
              "\n",
              "      <script>\n",
              "        const buttonEl =\n",
              "          document.querySelector('#df-f9a5b9ee-5d84-4e98-ba0e-72f317b9c170 button.colab-df-convert');\n",
              "        buttonEl.style.display =\n",
              "          google.colab.kernel.accessAllowed ? 'block' : 'none';\n",
              "\n",
              "        async function convertToInteractive(key) {\n",
              "          const element = document.querySelector('#df-f9a5b9ee-5d84-4e98-ba0e-72f317b9c170');\n",
              "          const dataTable =\n",
              "            await google.colab.kernel.invokeFunction('convertToInteractive',\n",
              "                                                     [key], {});\n",
              "          if (!dataTable) return;\n",
              "\n",
              "          const docLinkHtml = 'Like what you see? Visit the ' +\n",
              "            '<a target=\"_blank\" href=https://colab.research.google.com/notebooks/data_table.ipynb>data table notebook</a>'\n",
              "            + ' to learn more about interactive tables.';\n",
              "          element.innerHTML = '';\n",
              "          dataTable['output_type'] = 'display_data';\n",
              "          await google.colab.output.renderOutput(dataTable, element);\n",
              "          const docLink = document.createElement('div');\n",
              "          docLink.innerHTML = docLinkHtml;\n",
              "          element.appendChild(docLink);\n",
              "        }\n",
              "      </script>\n",
              "    </div>\n",
              "  </div>\n",
              "  "
            ]
          },
          "metadata": {},
          "execution_count": 63
        }
      ],
      "source": [
        "#dog with highest retweet count\n",
        "weRateDogsClean[weRateDogsClean[\"retweet_count\"]==weRateDogsClean[\"retweet_count\"].max()]"
      ]
    },
    {
      "cell_type": "markdown",
      "metadata": {
        "id": "9UijqAaMvsjY"
      },
      "source": [
        "### Insights:\n",
        "1. Average retweet_count of tweets is **2765 retweets**.\n",
        "\n",
        "2. Minimum Rating is **0/10**.\n",
        "   Maximum Rating is **1776/10**.\n",
        "   Average Rating is **12/10**.\n",
        "\n",
        "3. Name of dog with highest favorite_count is not given. However, it can be seen that it is at **puppo** stage and has a rating of **13/10**.\n",
        "\n",
        "4. Name of dog with highest retweet_count is not given. However, it can be seen that it is at **doggo** stage, most likely a **Labrador retriever** and has a rating of **13/10**.\n"
      ]
    },
    {
      "cell_type": "markdown",
      "metadata": {
        "collapsed": true,
        "id": "5Ni702z6vsjY"
      },
      "source": [
        "### Visualization\n",
        "\n",
        "### Which day was the highest retweet_count recorded?"
      ]
    },
    {
      "cell_type": "code",
      "execution_count": 64,
      "metadata": {
        "colab": {
          "base_uri": "https://localhost:8080/",
          "height": 387
        },
        "id": "nMWKOMpsvsjZ",
        "outputId": "b8be9523-2415-4ea6-e515-3570dc6695da"
      },
      "outputs": [
        {
          "output_type": "display_data",
          "data": {
            "text/plain": [
              "<Figure size 1440x720 with 1 Axes>"
            ],
            "image/png": "[encoded data removed]"
          },
          "metadata": {
            "needs_background": "light"
          }
        }
      ],
      "source": [
        "weRateDogsClean.plot(y = \"retweet_count\", x = \"timestamp\", kind = \"line\", figsize=(20,10));\n",
        "plt.title(\"Plot of Retweet_count versus Timestamp(date)\", fontsize=20);"
      ]
    },
    {
      "cell_type": "markdown",
      "metadata": {
        "id": "vEraf2qrvsjZ"
      },
      "source": [
        "### The highest retweet_count was recorded in July 2016."
      ]
    }
  ],
  "metadata": {
    "extensions": {
      "jupyter_dashboards": {
        "activeView": "report_default",
        "version": 1,
        "views": {
          "grid_default": {
            "cellMargin": 10,
            "defaultCellHeight": 20,
            "maxColumns": 12,
            "name": "grid",
            "type": "grid"
          },
          "report_default": {
            "name": "report",
            "type": "report"
          }
        }
      }
    },
    "kernelspec": {
      "display_name": "Python 3",
      "language": "python",
      "name": "python3"
    },
    "language_info": {
      "codemirror_mode": {
        "name": "ipython",
        "version": 3
      },
      "file_extension": ".py",
      "mimetype": "text/x-python",
      "name": "python",
      "nbconvert_exporter": "python",
      "pygments_lexer": "ipython3",
      "version": "3.7.0"
    },
    "colab": {
      "provenance": [],
      "collapsed_sections": [
        "y83VrILovsjA",
        "vy3F0uXpvsjA",
        "C_IktNRovsjD",
        "zzIvIcYgvsjE",
        "3qke-e9UvsjE",
        "ai-yVyxcvsjG",
        "IGjJmoy2vsjL",
        "9q5gwkgWvsjL",
        "DIt7NPePvsjM",
        "sU0XxrH6vsjN",
        "zGUdjNO9vsjO",
        "PLWt1kSdvsjO",
        "TPLrv7YVvsjO",
        "YqVOeT0HvsjP",
        "qcNQ5WeavsjP",
        "3qsWHHRMvsjQ",
        "e285WglUvsjQ",
        "YyRm82VkvsjQ",
        "aK4jWWwgvsjR",
        "oqQcaY_qvsjR",
        "28hzcUd7vsjR",
        "9ZFd1-lFvsjS",
        "4A8q_t2yvsjT",
        "SfH846pFvsjT",
        "HcazP2S-vsjT",
        "TRFnZ_-JvsjT",
        "9HR2X3rtvsjT",
        "d3BfNBGuvsjU",
        "ZN19tN66vsjV",
        "rPYiveSpvsjV",
        "NUGdXPSAvsjV",
        "kF2y7NDQvsjV",
        "9UijqAaMvsjY",
        "5Ni702z6vsjY",
        "vEraf2qrvsjZ"
      ],
      "include_colab_link": true
    }
  },
  "nbformat": 4,
  "nbformat_minor": 0
}